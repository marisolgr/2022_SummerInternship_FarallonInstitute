{
 "cells": [
  {
   "cell_type": "code",
   "execution_count": null,
   "id": "37a12636",
   "metadata": {},
   "outputs": [],
   "source": [
    "# good job aleydis!\n",
    "# next steps:\n",
    "#   - move the selection of region to inside the function, so, no need to give input to the function\n",
    "#   - lets hard code the relative directory of the data for now\n",
    "#   - make a map plot af all data for all files found (within the function)\n",
    "#   - inside the function, document it: description of what it does, what's the output, author and date\n",
    "#   - clean your script so only the necesary cells are up front (keep the rest below, well separated)\n"
   ]
  },
  {
   "cell_type": "code",
   "execution_count": null,
   "id": "c5676b67-69e5-4b4a-a856-048d08f8eea6",
   "metadata": {},
   "outputs": [],
   "source": [
    "#import necessary packages\n",
    "import numpy as np\n",
    "import pandas as pd\n",
    "import xarray as xr\n",
    "import matplotlib.pyplot as plt \n",
    "import matplotlib.dates as mdates\n",
    "import seaborn as sns\n",
    "import datetime\n",
    "import warnings \n",
    "warnings.simplefilter('ignore') \n",
    "import os\n",
    "import fnmatch\n",
    "\n",
    "#load map packages\n",
    "from cartopy.mpl.ticker import LongitudeFormatter, LatitudeFormatter\n",
    "import cartopy.feature as cfeature\n",
    "import cartopy.crs as ccrs\n",
    "from calendar import month_abbr"
   ]
  },
  {
   "cell_type": "code",
   "execution_count": null,
   "id": "cb5b327f-9cbe-4ebf-bf36-358c4a10e470",
   "metadata": {},
   "outputs": [],
   "source": [
    "os.getcwd()"
   ]
  },
  {
   "cell_type": "code",
   "execution_count": null,
   "id": "157e0eaf-7595-40ec-b4da-96adefdc44df",
   "metadata": {},
   "outputs": [],
   "source": [
    "#os.chdir('../2022_SummerInternship_FarallonInstitute/saildrone_data')\n",
    "os.chdir('../saildrone_data/')"
   ]
  },
  {
   "cell_type": "code",
   "execution_count": null,
   "id": "bd6f5b8e-903e-4b2c-936a-f503e151deac",
   "metadata": {},
   "outputs": [],
   "source": [
    "os.listdir()"
   ]
  },
  {
   "cell_type": "code",
   "execution_count": null,
   "id": "cf0865c0-6e41-4d26-862d-7d4284f5be82",
   "metadata": {},
   "outputs": [],
   "source": [
    "#variables: regions designated by number\n",
    "west_coast = 1\n",
    "arctic = 2\n",
    "atlantic = 3\n",
    "gulf_of_mexico = 4\n",
    "pacific = 5\n",
    "\n",
    "#user input needed for output of files\n",
    "region = int(input(\"Enter the number of the desired region you'd like to see files from: \"))"
   ]
  },
  {
   "cell_type": "code",
   "execution_count": null,
   "id": "6f84063f-b55c-4151-904d-3ea1582a6d63",
   "metadata": {},
   "outputs": [],
   "source": [
    "def select_region (region):\n",
    "    #returns the list of files\n",
    "    if (region == 1):\n",
    "        file_list = []\n",
    "        for file in os.listdir('.'):\n",
    "            if fnmatch.fnmatch(file, '*west_coast*'):\n",
    "                file_list.append(file)\n",
    "        print (file_list)\n",
    "    elif (region == 2):\n",
    "        file_list = []\n",
    "        for file in os.listdir('.'):\n",
    "            if fnmatch.fnmatch(file, '*saildrone_arctic*'):\n",
    "                file_list.append(file)\n",
    "        print (file_list)\n",
    "    elif (region == 3):\n",
    "        file_list = []\n",
    "        for file in os.listdir('.'):\n",
    "            if fnmatch.fnmatch(file, '*saildrone-gen_5*'):\n",
    "                file_list.append(file)\n",
    "        print (file_list) \n",
    "    elif (region == 4):\n",
    "        file_list = []\n",
    "        for file in os.listdir('.'):\n",
    "            if fnmatch.fnmatch(file, '*saildrone-gen_4*'):\n",
    "                file_list.append(file)\n",
    "        print (file_list)\n",
    "    else:\n",
    "        file_list = []\n",
    "        for file in os.listdir('.'):\n",
    "            if fnmatch.fnmatch(file, '*saildrone_tpos*'):\n",
    "                file_list.append(file)\n",
    "        print (file_list)\n",
    "\n"
   ]
  },
  {
   "cell_type": "code",
   "execution_count": null,
   "id": "5c7d255d-4017-4b54-b891-9bc7d91cf7ad",
   "metadata": {},
   "outputs": [],
   "source": [
    "select_region(region)"
   ]
  },
  {
   "cell_type": "code",
   "execution_count": null,
   "id": "d6c2462e-b083-4deb-8e00-a9b0e0793e1f",
   "metadata": {},
   "outputs": [],
   "source": [
    "#west coast sample datafile\n",
    "ds2 = xr.open_dataset('/home/aleydisreyes/2022_SummerInternship_FarallonInstitute/saildrone_data/saildrone_west_coast_survey_2018_sd1024_JPLv5.0_8dy_20210613norep_20210613_20211116.nc')\n",
    "ds2"
   ]
  },
  {
   "cell_type": "code",
   "execution_count": null,
   "id": "b880ea4c-2f10-4c9b-9ac6-d312114a59d4",
   "metadata": {},
   "outputs": [],
   "source": [
    "#outputting trajacetory of sample datafile\n",
    "ds2.trajectory"
   ]
  },
  {
   "cell_type": "code",
   "execution_count": null,
   "id": "20afd62c-3244-4e25-9499-9f11c266e60c",
   "metadata": {},
   "outputs": [],
   "source": [
    "#west coast\n",
    "fig=plt.figure(figsize=(12,5),dpi=150)\n",
    "ax = fig.add_subplot(1, 1, 1, projection=ccrs.PlateCarree())\n",
    "ax.set_extent([-130,-117,30,48],crs=ccrs.PlateCarree())\n",
    "#ax.set_xticks([-130,-125,-120], crs=ccrs.PlateCarree())\n",
    "#ax.set_yticks([30,35,40,45,50], crs=ccrs.PlateCarree())\n",
    "ax.coastlines()\n",
    "ax.add_feature(cfeature.LAND, color='lightgrey')"
   ]
  },
  {
   "cell_type": "code",
   "execution_count": null,
   "id": "4cca132d-97d1-46ab-85cd-6c5c3db0a839",
   "metadata": {},
   "outputs": [],
   "source": []
  }
 ],
 "metadata": {
  "kernelspec": {
   "display_name": "Python 3 (ipykernel)",
   "language": "python",
   "name": "python3"
  },
  "language_info": {
   "codemirror_mode": {
    "name": "ipython",
    "version": 3
   },
   "file_extension": ".py",
   "mimetype": "text/x-python",
   "name": "python",
   "nbconvert_exporter": "python",
   "pygments_lexer": "ipython3",
   "version": "3.9.12"
  }
 },
 "nbformat": 4,
 "nbformat_minor": 5
}
