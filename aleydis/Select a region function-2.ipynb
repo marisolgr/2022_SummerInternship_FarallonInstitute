{
 "cells": [
  {
   "cell_type": "code",
   "execution_count": 9,
   "id": "c5676b67-69e5-4b4a-a856-048d08f8eea6",
   "metadata": {},
   "outputs": [],
   "source": [
    "#import necessary packages\n",
    "import numpy as np\n",
    "import pandas as pd\n",
    "import xarray as xr\n",
    "import matplotlib.pyplot as plt \n",
    "import matplotlib.dates as mdates\n",
    "import seaborn as sns\n",
    "import datetime\n",
    "import warnings \n",
    "warnings.simplefilter('ignore') \n",
    "import os\n",
    "import fnmatch\n",
    "\n",
    "#load map packages\n",
    "from cartopy.mpl.ticker import LongitudeFormatter, LatitudeFormatter\n",
    "import cartopy.feature as cfeature\n",
    "import cartopy.crs as ccrs\n",
    "from calendar import month_abbr"
   ]
  },
  {
   "cell_type": "code",
   "execution_count": 10,
   "id": "6f84063f-b55c-4151-904d-3ea1582a6d63",
   "metadata": {},
   "outputs": [],
   "source": [
    "def select_region (region):\n",
    "    #the function returns a list of files based on region  \n",
    "    #the folowing variables assign a number to a region to facilitate output\n",
    "    #west_coast = 1\n",
    "    #arctic = 2\n",
    "    #atlantic = 3\n",
    "    #gulf_of_mexico = 4\n",
    "    #pacific = 5\n",
    "    files = os.listdir('../saildrone_data/') #this variable opens the saildrone data files\n",
    "    if (region == 1):   \n",
    "        file_list = []   #creates an empty list\n",
    "        for file in files:    #the conditional statement only adds files for the region of the west coast to a list\n",
    "            if fnmatch.fnmatch(file, '*west_coast*'):\n",
    "                file_list.append(file)\n",
    "        print (file_list)\n",
    "    elif (region == 2):\n",
    "        file_list = []    #creates an empty list\n",
    "        for file in files:   #the conditional statement only adds files for the region of the arctic to a list\n",
    "            if fnmatch.fnmatch(file, '*saildrone_arctic*'):\n",
    "                file_list.append(file)\n",
    "        print (file_list)\n",
    "    elif (region == 3):\n",
    "        file_list = []    #creates an empty list\n",
    "        for file in files:    #the conditional statement only adds files for the region of the atlantic to a list\n",
    "            if fnmatch.fnmatch(file, '*saildrone-gen_5*'):\n",
    "                file_list.append(file)\n",
    "        print (file_list) \n",
    "    elif (region == 4):\n",
    "        file_list = []    #creates an empty list\n",
    "        for file in files:    #the conditional statement only adds files for the region of the gulf of mexico to a list\n",
    "            if fnmatch.fnmatch(file, '*saildrone-gen_4*'):\n",
    "                file_list.append(file)\n",
    "        print (file_list)\n",
    "    else:\n",
    "        file_list = []    #creates an empty list\n",
    "        for file in files:    #the conditional statement only adds files for the region of the pacific to a list\n",
    "            if fnmatch.fnmatch(file, '*saildrone_tpos*'):\n",
    "                file_list.append(file)\n",
    "        print (file_list)"
   ]
  },
  {
   "cell_type": "code",
   "execution_count": 11,
   "id": "5c7d255d-4017-4b54-b891-9bc7d91cf7ad",
   "metadata": {},
   "outputs": [
    {
     "name": "stdout",
     "output_type": "stream",
     "text": [
      "['saildrone_west_coast_survey_2019_sd1043_JPLv5.0_8dy_20210613norep_20210613_20211116.nc', 'saildrone_west_coast_survey_2018_sd1026_JPLv5.0_8dy_20210613norep_20210613_20211116.nc', 'saildrone_west_coast_survey_2019_sd1047_JPLv5.0_8dy_20210613norep_20210613_20211116.nc', 'saildrone_west_coast_survey_2019_sd1038_JPLv5.0_8dy_20210613norep_20210613_20211116.nc', 'saildrone_west_coast_survey_2019_sd1045_JPLv5.0_8dy_20210613norep_20210613_20211116.nc', 'saildrone_west_coast_survey_2018_sd1028_JPLv5.0_8dy_20210613norep_20210613_20211116.nc', 'saildrone_west_coast_survey_2018_sd1024_JPLv5.0_8dy_20210613norep_20210613_20211116.nc', 'saildrone_west_coast_survey_2018_sd1027_JPLv5.0_8dy_20210613norep_20210613_20211116.nc', 'saildrone_west_coast_survey_2019_sd1044_JPLv5.0_8dy_20210613norep_20210613_20211116.nc', 'saildrone_west_coast_survey_2019_sd1039_JPLv5.0_8dy_20210613norep_20210613_20211116.nc', 'saildrone_west_coast_survey_2019_sd1040_JPLv5.0_8dy_20210613norep_20210613_20211116.nc', 'saildrone_west_coast_survey_2019_sd1046_JPLv5.0_8dy_20210613norep_20210613_20211116.nc', 'saildrone_west_coast_survey_2018_sd1025_JPLv5.0_8dy_20210613norep_20210613_20211116.nc']\n"
     ]
    }
   ],
   "source": [
    "region = \"\"  #region is empty until it is assigned the number that corresponds to the desired region\n",
    "select_region(region) #calls the function"
   ]
  }
 ],
 "metadata": {
  "kernelspec": {
   "display_name": "users-fi_intern",
   "language": "python",
   "name": "conda-env-users-fi_intern-py"
  },
  "language_info": {
   "codemirror_mode": {
    "name": "ipython",
    "version": 3
   },
   "file_extension": ".py",
   "mimetype": "text/x-python",
   "name": "python",
   "nbconvert_exporter": "python",
   "pygments_lexer": "ipython3",
   "version": "3.9.7"
  }
 },
 "nbformat": 4,
 "nbformat_minor": 5
}
