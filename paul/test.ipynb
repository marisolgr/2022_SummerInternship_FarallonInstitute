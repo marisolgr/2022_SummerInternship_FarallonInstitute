{
 "cells": [
  {
   "cell_type": "code",
   "execution_count": null,
   "id": "3bf39d90-977d-4840-b411-63bf502d03ab",
   "metadata": {},
   "outputs": [],
   "source": [
    "#import necessary packages\n",
    "import numpy as np\n",
    "import pandas as pd\n",
    "import xarray as xr\n",
    "import matplotlib.pyplot as plt \n",
    "import matplotlib.dates as mdates\n",
    "import seaborn as sns\n",
    "import datetime\n",
    "import warnings \n",
    "warnings.simplefilter('ignore') \n",
    "\n",
    "#load map packages\n",
    "from cartopy.mpl.ticker import LongitudeFormatter, LatitudeFormatter\n",
    "import cartopy.feature as cfeature\n",
    "import cartopy.crs as ccrs\n",
    "from calendar import month_abbr"
   ]
  },
  {
   "cell_type": "code",
   "execution_count": null,
   "id": "b2a7ed67-e937-4469-8700-1d7ac45f8131",
   "metadata": {},
   "outputs": [],
   "source": [
    "ddir = '../saildrone_data/'  #data 2\n",
    "fn = 'saildrone_west_coast_survey_2019_sd1047_JPLv5.0_8dy_20210613norep_20210613_20211116.nc'"
   ]
  },
  {
   "cell_type": "code",
   "execution_count": null,
   "id": "7042d1b8-3d6e-4db6-9640-d8a688a01cce",
   "metadata": {},
   "outputs": [],
   "source": [
    "#open .nc file with Saildrone Data\n",
    "sail = xr.open_dataset(ddir+fn) \n",
    "sail.close()\n",
    "\n",
    "#copy data for calculations versus graphing\n",
    "sail_raw = sail.copy()"
   ]
  },
  {
   "cell_type": "code",
   "execution_count": null,
   "id": "e8324266-7767-4b0b-844f-a43f2da22f08",
   "metadata": {},
   "outputs": [],
   "source": [
    "#resample the data by Day\n",
    "resampled_temp = sail_raw.resample(time=\"D\", skipna = True).mean()\n",
    "\n",
    "#set figure size\n",
    "plt.figure(figsize = (14,4))\n",
    "\n",
    "#create lineplot \n",
    "sns.lineplot(x = sail_raw['time'].dt.date, y = sail_raw['TEMP_CTD_MEAN'], color = 'grey', ci = 'sd', alpha=0.2)\n",
    "plt.scatter(resampled_temp['time'].dt.date, resampled_temp['TEMP_CTD_MEAN'], 30, [*range(len(resampled_temp['TEMP_CTD_MEAN']))], 'o', cmap='jet')\n",
    "plt.tight_layout()\n",
    "\n",
    "#set labels\n",
    "plt.title('Water Temperature for Saildrone Cruise', fontdict = {'fontsize' : 16})\n",
    "plt.xlabel(\"Date\")\n",
    "plt.ylabel(\"Temperature [C]\")\n",
    "\n",
    "#reformat x-axis ticks\n",
    "plt.grid(zorder=0, alpha=0.5)\n",
    "plt.show()"
   ]
  },
  {
   "cell_type": "code",
   "execution_count": null,
   "id": "eeb11bf6-2e59-4d20-a349-1fa6c176b117",
   "metadata": {},
   "outputs": [],
   "source": [
    "#define latitude and longitude boundaries\n",
    "latr = [min(sail_raw['lat']), max(sail_raw['lat'])] \n",
    "lonr = [max(sail_raw['lon']), min(sail_raw['lon'])] \n",
    "\n",
    "# Select a region of our data, giving it a margin\n",
    "margin = 0.5 \n",
    "region = np.array([[latr[0]-margin,latr[1]+margin],[lonr[0]+margin,lonr[1]-margin]]) \n",
    "\n",
    "#add state outlines\n",
    "states_provinces = cfeature.NaturalEarthFeature(\n",
    "        category='cultural',\n",
    "        name='admin_1_states_provinces_lines',\n",
    "        scale='50m',\n",
    "        facecolor='none')\n",
    "\n",
    "# Create and set the figure context\n",
    "fig = plt.figure(figsize=(16,10), dpi = 72) \n",
    "ax = plt.axes(projection=ccrs.PlateCarree()) \n",
    "ax.coastlines(resolution='10m',linewidth=1,color='black') \n",
    "ax.add_feature(cfeature.LAND, color='grey', alpha=0.3)\n",
    "ax.add_feature(states_provinces, linewidth = 0.5)\n",
    "ax.add_feature(cfeature.BORDERS)\n",
    "ax.set_extent([region[1,0],region[1,1],region[0,0],region[0,1]],crs=ccrs.PlateCarree()) \n",
    "ax.set_xticks(np.round([*np.arange(region[1,1],region[1,0]+1,2)][::-1],0), crs=ccrs.PlateCarree()) \n",
    "ax.set_yticks(np.round([*np.arange(np.floor(region[0,0]),region[0,1]+1,1.5)],1), crs=ccrs.PlateCarree()) \n",
    "ax.xaxis.set_major_formatter(LongitudeFormatter(zero_direction_label=True))\n",
    "ax.yaxis.set_major_formatter(LatitudeFormatter())\n",
    "ax.gridlines(linestyle = '--', linewidth = 0.5)\n",
    "\n",
    "# Plot track data, color by temperature\n",
    "sc = plt.scatter(data = sail_raw, x = 'lon', y = 'lat', c = 'TEMP_CTD_MEAN')\n",
    "clb = fig.colorbar(sc, label = \"Temperature [C]\")\n",
    "plt.set_cmap('Reds')\n",
    "plt.title('Raw Temperature Values', fontdict = {'fontsize' : 16})\n",
    "plt.show()"
   ]
  },
  {
   "cell_type": "code",
   "execution_count": null,
   "id": "4bc539ee",
   "metadata": {},
   "outputs": [],
   "source": []
  }
 ],
 "metadata": {
  "kernelspec": {
   "display_name": "Python 3 (ipykernel)",
   "language": "python",
   "name": "python3"
  },
  "language_info": {
   "codemirror_mode": {
    "name": "ipython",
    "version": 3
   },
   "file_extension": ".py",
   "mimetype": "text/x-python",
   "name": "python",
   "nbconvert_exporter": "python",
   "pygments_lexer": "ipython3",
   "version": "3.9.12"
  }
 },
 "nbformat": 4,
 "nbformat_minor": 5
}
