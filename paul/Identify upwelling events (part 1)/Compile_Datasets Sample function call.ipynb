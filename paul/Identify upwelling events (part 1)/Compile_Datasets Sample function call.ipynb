{
 "cells": [
  {
   "cell_type": "code",
   "execution_count": null,
   "id": "6afab3d4-59c8-497a-9ca5-c37a56d4782b",
   "metadata": {},
   "outputs": [],
   "source": [
    "import xarray as xr\n",
    "from compile_function import Compile_Datasets\n",
    "\n",
    "ds1 = Compile_Datasets(\"all\")  # Compile all datasets\n",
    "\n",
    "ds2 = Compile_Datasets(\n",
    "    \"saildrone_west_coast_survey_2019_sd1043_JPLv5.0_8dy_20210613norep_20210613_20211116.nc\") # compile this file (effectively the same as open)\n",
    "\n",
    "ds3 = Compile_Datasets([\"saildrone_west_coast_survey_2019_sd1043_JPLv5.0_8dy_20210613norep_20210613_20211116.nc\", \n",
    "                       \"saildrone_west_coast_survey_2019_sd1044_JPLv5.0_8dy_20210613norep_20210613_20211116.nc\"]) # compile these files\n",
    "\n",
    "\n",
    "ds1"
   ]
  }
 ],
 "metadata": {
  "kernelspec": {
   "display_name": "users-fi_intern",
   "language": "python",
   "name": "conda-env-users-fi_intern-py"
  },
  "language_info": {
   "codemirror_mode": {
    "name": "ipython",
    "version": 3
   },
   "file_extension": ".py",
   "mimetype": "text/x-python",
   "name": "python",
   "nbconvert_exporter": "python",
   "pygments_lexer": "ipython3",
   "version": "3.9.7"
  }
 },
 "nbformat": 4,
 "nbformat_minor": 5
}
