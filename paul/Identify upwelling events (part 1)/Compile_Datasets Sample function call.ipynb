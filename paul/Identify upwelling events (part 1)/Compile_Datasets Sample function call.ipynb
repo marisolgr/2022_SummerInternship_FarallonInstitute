{
 "cells": [
  {
   "cell_type": "code",
   "execution_count": 3,
   "id": "6afab3d4-59c8-497a-9ca5-c37a56d4782b",
   "metadata": {},
   "outputs": [
    {
     "name": "stdout",
     "output_type": "stream",
     "text": [
      "\n",
      "<xarray.Dataset>\n",
      "Dimensions:                       (time: 40)\n",
      "Coordinates:\n",
      "    trajectory                    float32 ...\n",
      "  * time                          (time) datetime64[ns] 2019-07-22T04:11:00 ....\n",
      "    ob                            (time) int64 ...\n",
      "Data variables: (12/41)\n",
      "    lat                           (time) float64 ...\n",
      "    lon                           (time) float64 ...\n",
      "    SOG_MEAN                      (time) float64 ...\n",
      "    COG_MEAN                      (time) float64 ...\n",
      "    HDG_MEAN                      (time) float64 ...\n",
      "    ROLL_MEAN                     (time) float64 ...\n",
      "    ...                            ...\n",
      "    sat_lon                       (time) float64 ...\n",
      "    dist_land                     (time) float64 ...\n",
      "    analysed_sst                  (time) float64 ...\n",
      "    analysis_error                (time) float64 ...\n",
      "    mask                          (time) float64 ...\n",
      "    sea_ice_fraction              (time) float64 ...\n",
      "Attributes: (12/45)\n",
      "    area:                      Pacific Ocean\n",
      "    cdm_data_type:             Trajectory\n",
      "    cdm_trajectory_variables:  trajectory\n",
      "    Conventions:               CF-1.6, ACDD-1.3, COARDS\n",
      "    creator_email:             support@saildrone.com\n",
      "    creator_name:              Saildrone\n",
      "    ...                        ...\n",
      "    time_coverage_end:         2019-08-02T19:59:00Z\n",
      "    time_coverage_resolution:  PT1M\n",
      "    time_coverage_start:       2019-06-18T00:00:00Z\n",
      "    title:                     Saildrone West Coast Survey 2019\n",
      "    Westernmost_Easting:       -126.2662016\n",
      "    vehicle_id:                sd1043\n",
      "<xarray.Dataset>\n",
      "Dimensions:                       (time: 40)\n",
      "Coordinates:\n",
      "  * time                          (time) datetime64[ns] 2019-07-22T04:11:00 ....\n",
      "    ob                            (time) int64 ...\n",
      "Data variables: (12/41)\n",
      "    lat                           (time) float64 ...\n",
      "    lon                           (time) float64 ...\n",
      "    SOG_MEAN                      (time) float64 ...\n",
      "    COG_MEAN                      (time) float64 ...\n",
      "    HDG_MEAN                      (time) float64 ...\n",
      "    ROLL_MEAN                     (time) float64 ...\n",
      "    ...                            ...\n",
      "    sat_lon                       (time) float64 ...\n",
      "    dist_land                     (time) float64 ...\n",
      "    analysed_sst                  (time) float64 ...\n",
      "    analysis_error                (time) float64 ...\n",
      "    mask                          (time) float64 ...\n",
      "    sea_ice_fraction              (time) float64 ...\n",
      "Attributes: (12/45)\n",
      "    area:                      Pacific Ocean\n",
      "    cdm_data_type:             Trajectory\n",
      "    cdm_trajectory_variables:  trajectory\n",
      "    Conventions:               CF-1.6, ACDD-1.3, COARDS\n",
      "    creator_email:             support@saildrone.com\n",
      "    creator_name:              Saildrone\n",
      "    ...                        ...\n",
      "    time_coverage_end:         2019-08-02T19:59:00Z\n",
      "    time_coverage_resolution:  PT1M\n",
      "    time_coverage_start:       2019-06-18T00:00:00Z\n",
      "    title:                     Saildrone West Coast Survey 2019\n",
      "    Westernmost_Easting:       -126.2662016\n",
      "    vehicle_id:                sd1043\n"
     ]
    },
    {
     "ename": "Exception",
     "evalue": "first argument to 'Compile_Data_Set_And_Graph' function must be; a list of file names, a file name, or \"all\"",
     "output_type": "error",
     "traceback": [
      "\u001b[0;31m---------------------------------------------------------------------------\u001b[0m",
      "\u001b[0;31mException\u001b[0m                                 Traceback (most recent call last)",
      "Input \u001b[0;32mIn [3]\u001b[0m, in \u001b[0;36m<cell line: 5>\u001b[0;34m()\u001b[0m\n\u001b[1;32m      2\u001b[0m \u001b[38;5;28;01mfrom\u001b[39;00m \u001b[38;5;21;01mcompile_function\u001b[39;00m \u001b[38;5;28;01mimport\u001b[39;00m Compile_Datasets\n\u001b[1;32m      3\u001b[0m ds1 \u001b[38;5;241m=\u001b[39m Compile_Datasets(\u001b[38;5;124m\"\u001b[39m\u001b[38;5;124mall\u001b[39m\u001b[38;5;124m\"\u001b[39m)  \u001b[38;5;66;03m# Compile all datasets\u001b[39;00m\n\u001b[0;32m----> 5\u001b[0m ds2 \u001b[38;5;241m=\u001b[39m \u001b[43mCompile_Datasets\u001b[49m\u001b[43m(\u001b[49m\n\u001b[1;32m      6\u001b[0m \u001b[43m    \u001b[49m\u001b[38;5;124;43m\"\u001b[39;49m\u001b[38;5;124;43msaildrone_west_coast_survey_2019_sd1043_JPLv5.0_8dy_20210613norep_20210613_20211116.nc\u001b[39;49m\u001b[38;5;124;43m\"\u001b[39;49m\u001b[43m)\u001b[49m \u001b[38;5;66;03m# compile this file (effectively the same as open)\u001b[39;00m\n\u001b[1;32m      8\u001b[0m ds3 \u001b[38;5;241m=\u001b[39m Compile_Datasets([\u001b[38;5;124m\"\u001b[39m\u001b[38;5;124msaildrone_west_coast_survey_2019_sd1043_JPLv5.0_8dy_20210613norep_20210613_20211116.nc\u001b[39m\u001b[38;5;124m\"\u001b[39m, \n\u001b[1;32m      9\u001b[0m                        \u001b[38;5;124m\"\u001b[39m\u001b[38;5;124msaildrone_west_coast_survey_2019_sd1044_JPLv5.0_8dy_20210613norep_20210613_20211116.nc\u001b[39m\u001b[38;5;124m\"\u001b[39m]) \u001b[38;5;66;03m# compile these files\u001b[39;00m\n\u001b[1;32m     12\u001b[0m ds1\n",
      "File \u001b[0;32m~/Repositories/2022_SummerInternship_FarallonInstitute/paul/Identify upwelling events (part 1)/compile_function.py:45\u001b[0m, in \u001b[0;36mCompile_Datasets\u001b[0;34m(fn_list_in)\u001b[0m\n\u001b[1;32m     43\u001b[0m     fn_list[\u001b[38;5;241m0\u001b[39m] \u001b[38;5;241m=\u001b[39m fn_list_in\n\u001b[1;32m     44\u001b[0m \u001b[38;5;28;01melse\u001b[39;00m: \n\u001b[0;32m---> 45\u001b[0m     \u001b[38;5;28;01mraise\u001b[39;00m \u001b[38;5;167;01mException\u001b[39;00m(\u001b[38;5;124m\"\u001b[39m\u001b[38;5;124mfirst argument to \u001b[39m\u001b[38;5;124m'\u001b[39m\u001b[38;5;124mCompile_Data_Set_And_Graph\u001b[39m\u001b[38;5;124m'\u001b[39m\u001b[38;5;124m function must be; a list of file names, a file name, or \u001b[39m\u001b[38;5;130;01m\\\"\u001b[39;00m\u001b[38;5;124mall\u001b[39m\u001b[38;5;130;01m\\\"\u001b[39;00m\u001b[38;5;124m\"\u001b[39m)\n\u001b[1;32m     47\u001b[0m \u001b[38;5;28mprint\u001b[39m()\n\u001b[1;32m     49\u001b[0m \u001b[38;5;66;03m# open the first dataset\u001b[39;00m\n",
      "\u001b[0;31mException\u001b[0m: first argument to 'Compile_Data_Set_And_Graph' function must be; a list of file names, a file name, or \"all\""
     ]
    }
   ],
   "source": [
    "import xarray as xr\n",
    "from compile_function import Compile_Datasets\n",
    "\n",
    "ds1 = Compile_Datasets(\"all\")  # Compile all datasets\n",
    "\n",
    "ds2 = Compile_Datasets(\n",
    "    \"saildrone_west_coast_survey_2019_sd1043_JPLv5.0_8dy_20210613norep_20210613_20211116.nc\") # compile this file (effectively the same as open)\n",
    "\n",
    "ds3 = Compile_Datasets([\"saildrone_west_coast_survey_2019_sd1043_JPLv5.0_8dy_20210613norep_20210613_20211116.nc\", \n",
    "                       \"saildrone_west_coast_survey_2019_sd1044_JPLv5.0_8dy_20210613norep_20210613_20211116.nc\"]) # compile these files\n",
    "\n",
    "\n",
    "ds1"
   ]
  }
 ],
 "metadata": {
  "kernelspec": {
   "display_name": "users-fi_intern",
   "language": "python",
   "name": "conda-env-users-fi_intern-py"
  },
  "language_info": {
   "codemirror_mode": {
    "name": "ipython",
    "version": 3
   },
   "file_extension": ".py",
   "mimetype": "text/x-python",
   "name": "python",
   "nbconvert_exporter": "python",
   "pygments_lexer": "ipython3",
   "version": "3.9.7"
  }
 },
 "nbformat": 4,
 "nbformat_minor": 5
}
