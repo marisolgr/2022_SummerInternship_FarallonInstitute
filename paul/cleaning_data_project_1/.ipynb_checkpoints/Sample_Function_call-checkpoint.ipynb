{
 "cells": [
  {
   "cell_type": "code",
   "execution_count": null,
   "id": "fa51735d-1467-4bbc-bdb4-1940c895e633",
   "metadata": {},
   "outputs": [],
   "source": [
    "from Function import Compile_Data_Set_And_Graph\n",
    "\n",
    "\n",
    "Compile_Data_Set_And_Graph('~/Repositories/2022_SummerInternship_FarallonInstitute/saildrone_data/', \n",
    "                           ['saildrone_west_coast_survey_2018_sd1026_JPLv5.0_8dy_20210613norep_20210613_20211116.nc', \n",
    "                            'saildrone_west_coast_survey_2019_sd1047_JPLv5.0_8dy_20210613norep_20210613_20211116.nc',\n",
    "                            'saildrone_west_coast_survey_2019_sd1043_JPLv5.0_8dy_20210613norep_20210613_20211116.nc'], \n",
    "                          \"SAL_CTD_MEAN\", \"Saved Graphs\",\n",
    "                           True)"
   ]
  }
 ],
 "metadata": {
  "kernelspec": {
   "display_name": "users-fi_intern",
   "language": "python",
   "name": "conda-env-users-fi_intern-py"
  },
  "language_info": {
   "codemirror_mode": {
    "name": "ipython",
    "version": 3
   },
   "file_extension": ".py",
   "mimetype": "text/x-python",
   "name": "python",
   "nbconvert_exporter": "python",
   "pygments_lexer": "ipython3",
   "version": "3.9.7"
  }
 },
 "nbformat": 4,
 "nbformat_minor": 5
}
