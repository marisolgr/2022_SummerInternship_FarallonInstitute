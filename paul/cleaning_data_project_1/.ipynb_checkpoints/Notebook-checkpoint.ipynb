{
 "cells": [
  {
   "cell_type": "code",
   "execution_count": 5,
   "id": "9d067dbd-2aa7-463e-8d89-b492a5def371",
   "metadata": {},
   "outputs": [],
   "source": [
    "#import necessary packages\n",
    "import numpy as np\n",
    "import pandas as pd\n",
    "import xarray as xr\n",
    "import matplotlib.pyplot as plt \n",
    "import matplotlib.dates as mdates\n",
    "import seaborn as sns\n",
    "import datetime\n",
    "import warnings \n",
    "warnings.simplefilter('ignore') \n",
    "\n",
    "#load map packages\n",
    "from cartopy.mpl.ticker import LongitudeFormatter, LatitudeFormatter\n",
    "import cartopy.feature as cfeature\n",
    "import cartopy.crs as ccrs\n",
    "from calendar import month_abbr"
   ]
  },
  {
   "cell_type": "code",
   "execution_count": 6,
   "id": "88e726f7-046f-4869-896f-468ba1a3507e",
   "metadata": {},
   "outputs": [],
   "source": [
    "ddir = '~/shared/users/mgarciareyes/saildrone_data/'  #data 2\n",
    "fn_list = ['saildrone_west_coast_survey_2019_sd1047_JPLv5.0_8dy_20210613norep_20210613_20211116.nc', 'saildrone_west_coast_survey_2019_sd1043_JPLv5.0_8dy_20210613norep_20210613_20211116.nc']"
   ]
  },
  {
   "cell_type": "code",
   "execution_count": 30,
   "id": "49b1100b-7b52-4722-83af-5b31d03b3dc1",
   "metadata": {},
   "outputs": [],
   "source": [
    "\n",
    "# classxarray.Dataset(data_vars=None, coords=None, attrs=None)\n",
    "\n",
    "\n",
    "sail = xr.open_dataset(ddir+fn_list[0])\n",
    "for i in range(1, len(fn_list)):\n",
    "    temp = xr.open_dataset(ddir+fn_list[i])\n",
    "    sail = xr.concat([sail, temp], dim=\"time\")\n",
    "    temp.close()"
   ]
  },
  {
   "cell_type": "code",
   "execution_count": 13,
   "id": "a8267ea6-274e-4212-8cc3-cfaec0cfacd0",
   "metadata": {
    "tags": []
   },
   "outputs": [],
   "source": []
  }
 ],
 "metadata": {
  "kernelspec": {
   "display_name": "users-fi_intern",
   "language": "python",
   "name": "conda-env-users-fi_intern-py"
  },
  "language_info": {
   "codemirror_mode": {
    "name": "ipython",
    "version": 3
   },
   "file_extension": ".py",
   "mimetype": "text/x-python",
   "name": "python",
   "nbconvert_exporter": "python",
   "pygments_lexer": "ipython3",
   "version": "3.9.7"
  }
 },
 "nbformat": 4,
 "nbformat_minor": 5
}
