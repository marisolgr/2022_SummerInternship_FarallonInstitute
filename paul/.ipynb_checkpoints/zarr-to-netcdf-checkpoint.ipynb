{
 "cells": [
  {
   "cell_type": "code",
   "execution_count": 2,
   "id": "4feadc73-5d7f-42ab-b317-8ba9586da0d1",
   "metadata": {},
   "outputs": [
    {
     "name": "stdout",
     "output_type": "stream",
     "text": [
      "DONE\n"
     ]
    }
   ],
   "source": [
    "#<PARAMETERS>\n",
    "\n",
    "\n",
    "latr = [35, 45] # make sure lat1 < lat2 since no test is done below to simplify the code\n",
    "lonr = [0, 15] # lon1 < lon2, range -180:180. resolution daily 1km!\n",
    "\n",
    "# time range. data range available: 2002-06-01 to 2020-01-20. [start with a short period]\n",
    "dater = ['2019-07-28','2019-07-29'] # dates on the format 'YYYY-MM-DD' as string\n",
    "filename = 'Corsica_SST_2019-07-28' #NC file extension added automatically\n",
    "\n",
    "\n",
    "#</PARAMETERS>\n",
    "\n",
    "\n",
    "import numpy as np\n",
    "import pandas as pd\n",
    "import xarray as xr\n",
    "import matplotlib.pyplot as plt \n",
    "import datetime as dt\n",
    "import cartopy.feature as cfeature\n",
    "import cartopy.crs as ccrs\n",
    "import warnings \n",
    "warnings.simplefilter('ignore') \n",
    "\n",
    "from cartopy.mpl.ticker import LongitudeFormatter, LatitudeFormatter\n",
    "from calendar import month_abbr\n",
    "\n",
    "# input parameters\n",
    "\n",
    "# select either a range of lat/lon or a point. \n",
    "# If a point, set both entries to the same value\n",
    "\n",
    "\n",
    "# first determine the file name using, in the format:\n",
    "# the s3 bucket [mur-sst], and the region [us-west-2], and the folder if applicable [zarr-v1] \n",
    "file_location = 'https://mur-sst.s3.us-west-2.amazonaws.com/zarr-v1'\n",
    "\n",
    "ds_sst = xr.open_zarr(file_location,consolidated=True) # open a zarr file using xarray\n",
    "# it is similar to open_dataset but it only reads the metadata\n",
    "\n",
    "ds_sst # we can treat it as a dataset!\n",
    "\n",
    "#remove all values that are for lakes (look at the meta data for the mask field above)\n",
    "sst_filtered = ds_sst.where(ds_sst.mask != 5, np.nan)\n",
    "\n",
    "#filter the data using the specified extent of the latitutde, longitude, and time from above\n",
    "sst = sst_filtered['analysed_sst'].sel(time = slice(dater[0],dater[1]),\n",
    "                        lat  = slice(latr[0], latr[1]), \n",
    "                        lon  = slice(lonr[0], lonr[1])\n",
    "                        ).mean(dim={'time'}, skipna=True, keep_attrs=True).load() # skip 'not a number' (NaN) values and keep attributes\n",
    "\n",
    "sst = sst-273.15 # transform units from Kelvin to Celsius\n",
    "sst.attrs['units']='deg C' # update units in metadata\n",
    "sst.to_netcdf('zarr-to-netcdf-output/'+filename+'.nc') # saving the data, incase we want to come back to analyze the same data, but don't want to acquire it again from the cloud.\n",
    "print(\"DONE\")"
   ]
  }
 ],
 "metadata": {
  "kernelspec": {
   "display_name": "users-FI_summer",
   "language": "python",
   "name": "conda-env-users-FI_summer-py"
  },
  "language_info": {
   "codemirror_mode": {
    "name": "ipython",
    "version": 3
   },
   "file_extension": ".py",
   "mimetype": "text/x-python",
   "name": "python",
   "nbconvert_exporter": "python",
   "pygments_lexer": "ipython3",
   "version": "3.7.6"
  }
 },
 "nbformat": 4,
 "nbformat_minor": 5
}
