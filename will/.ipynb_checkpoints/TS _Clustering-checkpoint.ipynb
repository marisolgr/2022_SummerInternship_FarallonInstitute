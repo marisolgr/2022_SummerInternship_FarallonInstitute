{
 "cells": [
  {
   "cell_type": "markdown",
   "id": "934f245d-92d6-4f4b-86f7-4e1558ecb99d",
   "metadata": {},
   "source": [
    "# TS Clustering Project"
   ]
  },
  {
   "cell_type": "markdown",
   "id": "ab66cd30-63b2-4a31-9e21-b3af6d9c50cf",
   "metadata": {},
   "source": [
    "William Gilmore"
   ]
  },
  {
   "cell_type": "code",
   "execution_count": null,
   "id": "b48ab1bc-1c59-4a09-8f55-9f22130a3878",
   "metadata": {},
   "outputs": [],
   "source": [
    "#import necessary packages\n",
    "import numpy as np\n",
    "import pandas as pd\n",
    "import xarray as xr\n",
    "import matplotlib.pyplot as plt \n",
    "import matplotlib.dates as mdates\n",
    "import seaborn as sns\n",
    "import datetime\n",
    "from datetime import date\n",
    "import warnings \n",
    "\n",
    "#Warnings\n",
    "warnings.simplefilter('ignore') \n",
    "\n",
    "#load map packages\n",
    "from cartopy.mpl.ticker import LongitudeFormatter, LatitudeFormatter\n",
    "import cartopy.feature as cfeature\n",
    "import cartopy.crs as ccrs\n",
    "from calendar import month_abbr\n"
   ]
  },
  {
   "cell_type": "markdown",
   "id": "e434468b-305a-469a-9392-b1c0b969a909",
   "metadata": {},
   "source": [
    "## Functions"
   ]
  },
  {
   "cell_type": "markdown",
   "id": "554cfe91-a9ad-4a9f-8cd6-e3da648bcb77",
   "metadata": {},
   "source": [
    "Compile Function"
   ]
  },
  {
   "cell_type": "code",
   "execution_count": null,
   "id": "ac240352-bc5a-46e9-af62-6246c306ba4f",
   "metadata": {},
   "outputs": [],
   "source": [
    "#Author: Paul Fornage\n",
    "#Copiles data from multiple cruises to one one\n",
    "#sail has been changed to ds to match my code\n",
    "\n",
    "def Compile_Datasets(ddir, fn_list):\n",
    "\n",
    "    # ddir: 'root' directory for data\n",
    "    # fn_list: list of strings with the file names\n",
    "    # returns: compiled list\n",
    "    \n",
    "    \n",
    "    # open the first dataset\n",
    "    ds = xr.open_dataset(ddir + fn_list[0])\n",
    "    \n",
    "    \n",
    "    \n",
    "    # give the first dataset a relative ID so all datasets can be differentiated\n",
    "    ds[\"relativeID\"] = 0\n",
    "    # make lists for certain variables that remain constant for each dataset. these are used later in the last two cells\n",
    "    yearList = [ds[\"time\"][0].dt.year]\n",
    "    durationList = [ds[\"time\"][len(ds[\"time\"]) - 1] - ds[\"time\"][0]]\n",
    "    # take the actual cruise ID from the dataset attributes and put it in a new list\n",
    "    realID = [int(ds.attrs[\"id\"])]\n",
    "    # add the duration back to the dataset\n",
    "    ds[\"duration\"] = durationList[0]\n",
    "\n",
    "    # repeat previous steps for other datasets that need to be combined.\n",
    "\n",
    "    if len(fn_list) > 1:\n",
    "        for i in range(1, len(fn_list)):\n",
    "            temp = xr.open_dataset(ddir + fn_list[i])\n",
    "            temp[\"relativeID\"] = i\n",
    "            yearList.append(temp[\"time\"][0].dt.year)\n",
    "            realID.append(int(temp.attrs[\"id\"]))\n",
    "            tempDuration = temp[\"time\"][len(temp[\"time\"]) - 1] - temp[\"time\"][0]\n",
    "            temp[\"duration\"] = tempDuration\n",
    "            durationList.append(tempDuration)\n",
    "            ds = xr.concat([ds, temp], dim=\"time\")\n",
    "            temp.close()\n",
    "\n",
    "    # reformat dates\n",
    "    ds['date'] = mdates.date2num(ds['time'].dt.date)\n",
    "\n",
    "    # ask what variable should be plotted\n",
    "    return(ds)"
   ]
  },
  {
   "cell_type": "markdown",
   "id": "c64f97b9-3eee-4dd6-87e0-45520e360889",
   "metadata": {},
   "source": [
    "West Coast Selection Function"
   ]
  },
  {
   "cell_type": "code",
   "execution_count": null,
   "id": "eb21c51d-2333-4168-8226-2b492595302d",
   "metadata": {},
   "outputs": [],
   "source": [
    "#Author: William Gilmore\n",
    "#Isolates data on the westcoast\n",
    "def westcoast(upperLat, lowerLat):\n",
    "    \n",
    "    #upperLat: Upper acceptable latitude\n",
    "    #lowerLat: Lower acceptable latitude\n",
    "    # -function will discard all data not between upperLat and lowerLat\n",
    "    \n",
    "    \n",
    "    \n",
    "    #Removes data that is not within 300 km of shore\n",
    "    ds.where(ds.dist_land <= 300)\n",
    "    \n",
    "    #Removes SF bay data\n",
    "    ds.where(~(((ds.lon > -122.5938) & (ds.lat > 37.72783)) & ((ds.lon < -122.2506620424831) & (ds.lat < 38.094658646550556))) | ~(((ds.lon > -122.38678630116495) & (ds.lat > 37.430464705762226)) & ((ds.lon < -121.99799777841487) & (ds.lat < 37.81408437558721))))\n",
    "    \n",
    "    #Removes Data not between upperLat and lowerLat\n",
    "    ds.where((ds.lat > lowerLat) & (ds.lat < upperLat))\n",
    "    \n",
    "    \n",
    "    \n",
    "    return(ds)"
   ]
  },
  {
   "cell_type": "markdown",
   "id": "869915a6-8057-451e-bdcf-ab0fa11fc0aa",
   "metadata": {},
   "source": [
    "## Access and Filter Data"
   ]
  },
  {
   "cell_type": "markdown",
   "id": "ed55d7c3-72dc-44a3-97fa-1c1b37bf61e6",
   "metadata": {},
   "source": [
    "Function Calls"
   ]
  },
  {
   "cell_type": "code",
   "execution_count": null,
   "id": "de7374c1-3e8c-41f7-ae51-069e7b378768",
   "metadata": {},
   "outputs": [],
   "source": [
    "#list of westcoast cruises\n",
    "fnlist = [\"saildrone_west_coast_survey_2018_sd1024_JPLv5.0_8dy_20210613norep_20210613_20211116.nc\", \n",
    "          \"saildrone_west_coast_survey_2018_sd1025_JPLv5.0_8dy_20210613norep_20210613_20211116.nc\",\n",
    "          \"saildrone_west_coast_survey_2018_sd1026_JPLv5.0_8dy_20210613norep_20210613_20211116.nc\",\n",
    "          \"saildrone_west_coast_survey_2018_sd1027_JPLv5.0_8dy_20210613norep_20210613_20211116.nc\",\n",
    "          \"saildrone_west_coast_survey_2018_sd1028_JPLv5.0_8dy_20210613norep_20210613_20211116.nc\",\n",
    "          \"saildrone_west_coast_survey_2019_sd1038_JPLv5.0_8dy_20210613norep_20210613_20211116.nc\",\n",
    "          \"saildrone_west_coast_survey_2019_sd1039_JPLv5.0_8dy_20210613norep_20210613_20211116.nc\",\n",
    "          \"saildrone_west_coast_survey_2019_sd1040_JPLv5.0_8dy_20210613norep_20210613_20211116.nc\",\n",
    "          \"saildrone_west_coast_survey_2019_sd1043_JPLv5.0_8dy_20210613norep_20210613_20211116.nc\",\n",
    "          \"saildrone_west_coast_survey_2019_sd1044_JPLv5.0_8dy_20210613norep_20210613_20211116.nc\",\n",
    "          \"saildrone_west_coast_survey_2019_sd1045_JPLv5.0_8dy_20210613norep_20210613_20211116.nc\",\n",
    "          \"saildrone_west_coast_survey_2019_sd1046_JPLv5.0_8dy_20210613norep_20210613_20211116.nc\",\n",
    "          \"saildrone_west_coast_survey_2019_sd1047_JPLv5.0_8dy_20210613norep_20210613_20211116.nc\"]\n",
    "\n",
    "\n",
    "ds = Compile_Datasets(\"../saildrone_data/\", fnlist)\n",
    "westcoast(25, 45)"
   ]
  },
  {
   "cell_type": "markdown",
   "id": "946c1c3b-c9cc-45c7-b184-9a9da3f1ef00",
   "metadata": {},
   "source": [
    "Filter Data"
   ]
  },
  {
   "cell_type": "code",
   "execution_count": null,
   "id": "d9e39a8c-3d3d-4893-89dc-7ff4bd2b8fac",
   "metadata": {},
   "outputs": [],
   "source": [
    "#filter out salinity values that are less than or equal to 32\n",
    "ds['SAL_CTD_MEAN']=ds.SAL_CTD_MEAN.where(ds.SAL_CTD_MEAN>=32, np.nan)\n",
    "\n",
    "#resample the data by hour\n",
    "#ds = ds.resample(time=\"H\").mean(skipna=True)\n",
    "\n",
    "#add date column but store it as a matplotlib date format\n",
    "ds['date'] = mdates.date2num(ds['time'].dt.date)\n",
    "\n",
    "#create function for calculating windspeed\n",
    "def windspeed(u, v):\n",
    "    return np.sqrt((np.abs(u**2) + np.abs(v**2)))\n",
    "\n",
    "#calculate windspeed using function\n",
    "ds['wind_speed'] = windspeed(ds['UWND_MEAN'], ds['VWND_MEAN'])\n",
    "\n",
    "#filter data\n",
    "ds_filtered = ds.drop('date')\n",
    "ds_filtered = ds_filtered.to_dataframe()\n",
    "ds_filtered['date'] = mdates.date2num(ds['time'].dt.date)\n",
    "ds_filtered = ds_filtered.loc[(ds_filtered['SAL_CTD_MEAN'] >= 32) & (ds_filtered['TEMP_CTD_MEAN'] >= 6), \n",
    "                                  ['date','SAL_CTD_MEAN','TEMP_CTD_MEAN','lat','lon']]\n",
    "\n",
    "#specify salinity values\n",
    "xaxis_val = [32, 32.5, 33, 33.5, 34]"
   ]
  },
  {
   "cell_type": "markdown",
   "id": "7569150d-11b3-4909-bc87-c970f1d386c9",
   "metadata": {},
   "source": [
    "## Salinnity vs Temp with Date"
   ]
  },
  {
   "cell_type": "code",
   "execution_count": null,
   "id": "1349f54a-f46b-41e8-8360-ec1ff638b7d3",
   "metadata": {},
   "outputs": [],
   "source": [
    "fig = plt.figure(figsize=(7.6,4)) \n",
    "loc = mdates.AutoDateLocator()\n",
    "sc = plt.scatter(x = ds_filtered['SAL_CTD_MEAN'], y = ds_filtered['TEMP_CTD_MEAN'], c = ds_filtered['date'], cmap='jet', alpha = 0.5)\n",
    "clb = fig.colorbar(sc, ticks=loc, format=mdates.AutoDateFormatter(loc))\n",
    "#ax.set_label('Date')\n",
    "plt.title('Salinity versus Temperature with Date', fontdict = {'fontsize' : 16})\n",
    "plt.xlabel(\"Salinity [PPT]\")\n",
    "plt.ylabel(\"Temperature [C]\")\n",
    "plt.xticks(xaxis_val)\n",
    "plt.grid()\n",
    "plt.show()"
   ]
  },
  {
   "cell_type": "markdown",
   "id": "f9ea0215-1e45-4f1d-b6e2-63e291c7158d",
   "metadata": {},
   "source": [
    "## Sampling Track "
   ]
  },
  {
   "cell_type": "code",
   "execution_count": null,
   "id": "dce76dc0-a839-422f-b441-3c4be22838d6",
   "metadata": {},
   "outputs": [],
   "source": [
    "#create list of ticks for the x axis\n",
    "default_x_ticks = range(0,len(ds['time']),divmod(len(ds['time']), 10)[0]) #selects out 10 evenly spaced dates from the data\n",
    "\n",
    "#define latitude and longitude boundaries\n",
    "latr = [min(ds['lat']), max(ds['lat'])] \n",
    "lonr = [max(ds['lon']), min(ds['lon'])] \n",
    "\n",
    "# Select a region of our data, giving it a margin\n",
    "margin = 0.5 \n",
    "region = np.array([[latr[0]-margin,latr[1]+margin],[lonr[0]+margin,lonr[1]-margin]]) \n",
    "\n",
    "#add state outlines\n",
    "states_provinces = cfeature.NaturalEarthFeature(\n",
    "        category='cultural',\n",
    "        name='admin_1_states_provinces_lines',\n",
    "        scale='50m',\n",
    "        facecolor='none')\n",
    "\n",
    "# Create and set the figure context\n",
    "fig = plt.figure(figsize=(16,10), dpi = 72) \n",
    "ax = plt.axes(projection=ccrs.PlateCarree()) \n",
    "ax.coastlines(resolution='10m',linewidth=1,color='black') \n",
    "ax.add_feature(cfeature.LAND, color='grey', alpha=0.3)\n",
    "ax.add_feature(states_provinces, linewidth = 0.5)\n",
    "ax.add_feature(cfeature.BORDERS)\n",
    "ax.set_extent([region[1,0],region[1,1],region[0,0],region[0,1]],crs=ccrs.PlateCarree()) \n",
    "ax.set_xticks(np.round([*np.arange(region[1,1],region[1,0]+1,2)][::-1],0), crs=ccrs.PlateCarree()) \n",
    "ax.set_yticks(np.round([*np.arange(np.floor(region[0,0]),region[0,1]+1,1.5)],1), crs=ccrs.PlateCarree()) \n",
    "ax.xaxis.set_major_formatter(LongitudeFormatter(zero_direction_label=True))\n",
    "ax.yaxis.set_major_formatter(LatitudeFormatter())\n",
    "ax.gridlines(linestyle = '--', linewidth = 0.5)\n",
    "\n",
    "# Plot track data, color by temperature\n",
    "loc = mdates.AutoDateLocator()\n",
    "sc = plt.scatter(x = ds['lon'], y = ds['lat'], c = ds['date'], cmap='jet')\n",
    "#plt.plot(ds['lon'], ds['lat'], ls = ':', c = 'navy', alpha = 0.4)\n",
    "clb = fig.colorbar(sc, ticks=np.linspace(min(ds['date']), max(ds['date']), 11))\n",
    "clb.ax.set_title('Date')\n",
    "clb.set_ticklabels(ds['time'].dt.date[default_x_ticks].values)\n",
    "plt.title('Sampling Track for Cruise', fontdict = {'fontsize' : 16})\n",
    "plt.show()"
   ]
  },
  {
   "cell_type": "code",
   "execution_count": null,
   "id": "45eef15b",
   "metadata": {},
   "outputs": [],
   "source": []
  }
 ],
 "metadata": {
  "kernelspec": {
   "display_name": "Python 3 (ipykernel)",
   "language": "python",
   "name": "python3"
  },
  "language_info": {
   "codemirror_mode": {
    "name": "ipython",
    "version": 3
   },
   "file_extension": ".py",
   "mimetype": "text/x-python",
   "name": "python",
   "nbconvert_exporter": "python",
   "pygments_lexer": "ipython3",
   "version": "3.9.12"
  }
 },
 "nbformat": 4,
 "nbformat_minor": 5
}
