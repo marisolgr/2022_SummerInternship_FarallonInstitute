{
 "cells": [
  {
   "cell_type": "code",
   "execution_count": 1,
   "id": "c4ea3a5e-1913-42d7-a81d-63bd5ba7a096",
   "metadata": {
    "pycharm": {
     "name": "#%%\n"
    }
   },
   "outputs": [],
   "source": [
    "#typical naming convertions for both packages\n",
    "import numpy as np \n",
    "import pandas as pd\n",
    "import xarray as xr\n",
    "\n",
    "\n",
    "# this library helps to make your code execution less messy\n",
    "import warnings\n",
    "warnings.simplefilter('ignore') # filter some warning messages"
   ]
  },
  {
   "cell_type": "code",
   "execution_count": null,
   "id": "ca7a3d61",
   "metadata": {
    "pycharm": {
     "name": "#%%\n"
    }
   },
   "outputs": [],
   "source": [
    "# great start will!\n",
    "# let's get this function to the next level\n",
    "#   -  instead of only looking into one file, let's search all the data files that have dataa in the west coast\n",
    "#   -  for that, use hard coded relative directory (../saildrone_data), and use glob to get all the file names\n",
    "#   -  open each, filter, and compile all into a single dataset (check meg's function or ask meg)\n",
    "#   -  make a final map plot of all the data points"
   ]
  },
  {
   "cell_type": "code",
   "execution_count": 2,
   "id": "c0254e41-84ca-4bae-95b3-43c5501c3bc4",
   "metadata": {
    "pycharm": {
     "name": "#%%\n"
    }
   },
   "outputs": [],
   "source": [
    "ds = xr.open_dataset('../saildrone_data/saildrone_tpos_sd1067_2019_JPLv5.0_8dy_20210613norep_20210613_20211116.nc') # read a local netcdf file\n",
    "ds.close() # close the file, so can be used by you or others. it is good practice."
   ]
  },
  {
   "cell_type": "code",
   "execution_count": 3,
   "id": "e2645b38-7f78-46f9-938b-9ad99743ac79",
   "metadata": {
    "pycharm": {
     "name": "#%%\n"
    }
   },
   "outputs": [],
   "source": [
    "#teeest function\n",
    "def westcoast(ds, upperLat, lowerLat):\n",
    "    ds.where(ds.dist_land <= 300)\n",
    "    ds.where(~(((ds.lon > -122.5938) & (ds.lat > 37.72783)) & ((ds.lon < -122.2506620424831) & (ds.lat < 38.094658646550556))) | ~(((ds.lon > -122.38678630116495) & (ds.lat > 37.430464705762226)) & ((ds.lon < -121.99799777841487) & (ds.lat < 37.81408437558721))))\n",
    "    ds.where((ds.lat > lowerLat) & (ds.lat < upperLat))\n",
    "    return(ds)\n"
   ]
  },
  {
   "cell_type": "code",
   "execution_count": 5,
   "id": "e30419a9-b69f-42b0-ac1d-1dca52a13480",
   "metadata": {
    "pycharm": {
     "name": "#%%\n"
    }
   },
   "outputs": [],
   "source": [
    "ds2 = westcoast(40, 25)"
   ]
  },
  {
   "cell_type": "code",
   "execution_count": null,
   "id": "b4e721ad",
   "metadata": {
    "pycharm": {
     "name": "#%%\n"
    }
   },
   "outputs": [],
   "source": []
  }
 ],
 "metadata": {
  "kernelspec": {
   "display_name": "Python 3 (ipykernel)",
   "language": "python",
   "name": "python3"
  },
  "language_info": {
   "codemirror_mode": {
    "name": "ipython",
    "version": 3
   },
   "file_extension": ".py",
   "mimetype": "text/x-python",
   "name": "python",
   "nbconvert_exporter": "python",
   "pygments_lexer": "ipython3",
   "version": "3.9.12"
  }
 },
 "nbformat": 4,
 "nbformat_minor": 5
}