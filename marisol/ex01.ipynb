{
 "cells": [
  {
   "cell_type": "code",
   "execution_count": null,
   "id": "27049287-1e1c-489c-8d2a-d913b4fe9c34",
   "metadata": {},
   "outputs": [],
   "source": [
    "#try again\n",
    "import numpy as np\n",
    "import pandas as pd\n",
    "import xarray as xr\n",
    "\n",
    "# necesary libraries for plotting\n",
    "import matplotlib.pyplot as plt # note that in both cases we import one object within the library\n",
    "import cartopy.crs as ccrs\n",
    "\n",
    "import warnings\n",
    "warnings.simplefilter('ignore') # filter some warning messages"
   ]
  },
  {
   "cell_type": "code",
   "execution_count": null,
   "id": "dbb197eb-3b3c-4ae0-b01e-96d530e6ce7f",
   "metadata": {},
   "outputs": [],
   "source": [
    "ddir = '~/shared/users/mgarciareyes/saildrone_data/'\n",
    "fn = 'saildrone_arctic_sd1041_2019_JPLv5.0_8dy_20210613norep_20210613_20211116.nc'"
   ]
  },
  {
   "cell_type": "code",
   "execution_count": null,
   "id": "f58d8652-fe5e-432b-934e-801523737d59",
   "metadata": {},
   "outputs": [],
   "source": [
    "ds = xr.open_dataset(ddir+fn)\n",
    "ds.close()\n",
    "ds"
   ]
  },
  {
   "cell_type": "code",
   "execution_count": null,
   "id": "e77ac2fe-f6c6-4f8c-902b-a2d271523232",
   "metadata": {},
   "outputs": [],
   "source": [
    "ds.analysed_sst.plot()"
   ]
  },
  {
   "cell_type": "code",
   "execution_count": null,
   "id": "f8186b7d-30d1-4f35-8fcc-9270febdfdee",
   "metadata": {},
   "outputs": [],
   "source": []
  }
 ],
 "metadata": {
  "kernelspec": {
   "display_name": "users-fi_intern",
   "language": "python",
   "name": "conda-env-users-fi_intern-py"
  },
  "language_info": {
   "codemirror_mode": {
    "name": "ipython",
    "version": 3
   },
   "file_extension": ".py",
   "mimetype": "text/x-python",
   "name": "python",
   "nbconvert_exporter": "python",
   "pygments_lexer": "ipython3",
   "version": "3.9.7"
  }
 },
 "nbformat": 4,
 "nbformat_minor": 5
}
