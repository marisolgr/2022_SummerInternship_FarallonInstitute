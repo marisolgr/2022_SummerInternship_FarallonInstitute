{
 "cells": [
  {
   "cell_type": "code",
   "execution_count": 1,
   "id": "31648c92",
   "metadata": {},
   "outputs": [],
   "source": [
    "# test"
   ]
  },
  {
   "cell_type": "code",
   "execution_count": 6,
   "id": "86736722",
   "metadata": {},
   "outputs": [],
   "source": [
    "import warnings \n",
    "warnings.simplefilter('ignore') \n",
    "import numpy as np\n",
    "import pandas as pd\n",
    "import xarray as xr\n",
    "import glob"
   ]
  },
  {
   "cell_type": "code",
   "execution_count": 7,
   "id": "bf9250a9",
   "metadata": {
    "scrolled": true
   },
   "outputs": [
    {
     "data": {
      "text/plain": [
       "['../saildrone_data/saildrone-gen_5-arctic_misst_2019-sd1037-20190514T230000-20191011T183000-1_minutes-v1.1575487464625_JPLv5.0_8dy_20210613norep_20210613_20211116.nc',\n",
       " '../saildrone_data/saildrone_tpos_sd1029_2018_JPLv5.0_8dy_20210613norep_20210613_20211116.nc',\n",
       " '../saildrone_data/saildrone-gen_5-arctic_misst_2019-sd1036-20190514T230000-20191011T183000-1_minutes-v1.1575336154680_JPLv5.0_8dy_20210613norep_20210613_20211116.nc',\n",
       " '../saildrone_data/saildrone_tpos_sd1005_2018_JPLv5.0_8dy_20210613norep_20210613_20211116.nc',\n",
       " '../saildrone_data/saildrone_west_coast_survey_2018_sd1024_JPLv5.0_8dy_20210613norep_20210613_20211116.nc',\n",
       " '../saildrone_data/saildrone-gen_5-1021_atlantic-sd1021-20190525T000000-20191021T235959-1_minutes-v1.1571806429446_(1)_JPLv5.0_8dy_20210613norep_20210613_20211116.nc',\n",
       " '../saildrone_data/PMEL_Arctic_2016_sd126-ALL-1_min-v1_JPLv5.0_8dy_20210613norep_20210613_20211116.nc',\n",
       " '../saildrone_data/saildrone_west_coast_survey_2019_sd1038_JPLv5.0_8dy_20210613norep_20210613_20211116.nc',\n",
       " '../saildrone_data/PMEL_Arctic_2016_sd128-ALL-1_min-v1_JPLv5.0_8dy_20210613norep_20210613_20211116.nc',\n",
       " '../saildrone_data/saildrone_west_coast_survey_2019_sd1047_JPLv5.0_8dy_20210613norep_20210613_20211116.nc',\n",
       " '../saildrone_data/saildrone_arctic_sd1041_2019_JPLv5.0_8dy_20210613norep_20210613_20211116.nc',\n",
       " '../saildrone_data/saildrone_tpos_sd1066_2019_JPLv5.0_8dy_20210613norep_20210613_20211116.nc',\n",
       " '../saildrone_data/saildrone_arctic_sd1033_2019_JPLv5.0_8dy_20210613norep_20210613_20211116.nc',\n",
       " '../saildrone_data/saildrone_west_coast_survey_2018_sd1026_JPLv5.0_8dy_20210613norep_20210613_20211116.nc',\n",
       " '../saildrone_data/saildrone_arctic_sd1035_2019_JPLv5.0_8dy_20210613norep_20210613_20211116.nc',\n",
       " '../saildrone_data/saildrone_tpos_sd1030_2018_JPLv5.0_8dy_20210613norep_20210613_20211116.nc',\n",
       " '../saildrone_data/saildrone_tpos_sd1067_2019_JPLv5.0_8dy_20210613norep_20210613_20211116.nc',\n",
       " '../saildrone_data/saildrone_arctic_sd1034_2019_JPLv5.0_8dy_20210613norep_20210613_20211116.nc',\n",
       " '../saildrone_data/saildrone_west_coast_survey_2019_sd1045_JPLv5.0_8dy_20210613norep_20210613_20211116.nc',\n",
       " '../saildrone_data/saildrone-gen_5-atomic_eurec4a_2020-sd1061-20200117T000000-20200302T235959-1_minutes-v1.1589307121602_JPLv5.0_8dy_20210613norep_20210613_20211116.nc',\n",
       " '../saildrone_data/saildrone-gen_5-atomic_eurec4a_2020-sd1026-20200117T000000-20200302T235959-1_minutes-v1.1589306725934_JPLv5.0_8dy_20210613norep_20210613_20211116.nc',\n",
       " '../saildrone_data/saildrone-gen_4-shark-2018-sd1001-20180315T000000-20180529T235959-1_minutes-v1.1581626958976_JPLv5.0_8dy_20210613norep_20210613_20211116.nc',\n",
       " '../saildrone_data/saildrone_arctic_2017_sd1002_JPLv5.0_8dy_20210613norep_20210613_20211116.nc',\n",
       " '../saildrone_data/saildrone_tpos_sd1005_2017_JPLv5.0_8dy_20210613norep_20210613_20211116.nc',\n",
       " '../saildrone_data/saildrone_west_coast_survey_2019_sd1040_JPLv5.0_8dy_20210613norep_20210613_20211116.nc',\n",
       " '../saildrone_data/saildrone-gen_5-atomic_eurec4a_2020-sd1060-20200117T000000-20200302T235959-1_minutes-v1.1589306886594_JPLv5.0_8dy_20210613norep_20210613_20211116.nc',\n",
       " '../saildrone_data/saildrone_arctic_2017_sd1003_JPLv5.0_8dy_20210613norep_20210613_20211116.nc',\n",
       " '../saildrone_data/saildrone-gen_4-shark-2018-sd1004-20180315T000000-20180617T235959-1_minutes-v1.1581627077777_JPLv5.0_8dy_20210613norep_20210613_20211116.nc',\n",
       " '../saildrone_data/saildrone_tpos_sd1006_2018_JPLv5.0_8dy_20210613norep_20210613_20211116.nc',\n",
       " '../saildrone_data/saildrone-gen_5-atlantic_to_med_2019_to_2020-sd1030-20191018T101200-20200717T134559-1_minutes-v1.1595626086288_JPLv5.0_8dy_20210613norep_20210613_20211116.nc',\n",
       " '../saildrone_data/saildrone-gen_5-atlantic_to_med_2019_to_2020-sd1053-20191018T110000-20200717T134559-1_minutes-v1.1595634214633_JPLv5.0_8dy_20210613norep_20210613_20211116.nc',\n",
       " '../saildrone_data/saildrone_west_coast_survey_2018_sd1027_JPLv5.0_8dy_20210613norep_20210613_20211116.nc',\n",
       " '../saildrone_data/saildrone_west_coast_survey_2019_sd1044_JPLv5.0_8dy_20210613norep_20210613_20211116.nc',\n",
       " '../saildrone_data/saildrone_west_coast_survey_2019_sd1039_JPLv5.0_8dy_20210613norep_20210613_20211116.nc',\n",
       " '../saildrone_data/saildrone_tpos_sd1069_2019_JPLv5.0_8dy_20210613norep_20210613_20211116.nc',\n",
       " '../saildrone_data/saildrone_west_coast_survey_2018_sd1025_JPLv5.0_8dy_20210613norep_20210613_20211116.nc',\n",
       " '../saildrone_data/saildrone-gen_4-baja_2018-sd1002-20180411T180000-20180611T055959-1_minutes-v1_JPLv5.0_8dy_20210613norep_20210613_20211116.nc',\n",
       " '../saildrone_data/saildrone_west_coast_survey_2018_sd1028_JPLv5.0_8dy_20210613norep_20210613_20211116.nc',\n",
       " '../saildrone_data/saildrone_tpos_sd1068_2019_JPLv5.0_8dy_20210613norep_20210613_20211116.nc',\n",
       " '../saildrone_data/saildrone_west_coast_survey_2019_sd1046_JPLv5.0_8dy_20210613norep_20210613_20211116.nc',\n",
       " '../saildrone_data/saildrone-gen_5-antarctica_circumnavigation_2019-sd1020-20190119T040000-20190803T043000-1_minutes-v1.1564884498845_JPLv5.0_8dy_20210613norep_20210613_20211116.nc',\n",
       " '../saildrone_data/saildrone_arctic_2017_sd1001_JPLv5.0_8dy_20210613norep_20210613_20211116.nc',\n",
       " '../saildrone_data/PMEL_Arctic_2015_sd126-ALL-1_min-v1_JPLv5.0_8dy_20210613norep_20210613_20211116.nc',\n",
       " '../saildrone_data/saildrone_tpos_sd1006_2017_JPLv5.0_8dy_20210613norep_20210613_20211116.nc',\n",
       " '../saildrone_data/PMEL_Arctic_2015_sd128-ALL-1_min-v1_JPLv5.0_8dy_20210613norep_20210613_20211116.nc',\n",
       " '../saildrone_data/saildrone_west_coast_survey_2019_sd1043_JPLv5.0_8dy_20210613norep_20210613_20211116.nc']"
      ]
     },
     "execution_count": 7,
     "metadata": {},
     "output_type": "execute_result"
    }
   ],
   "source": [
    "ddir = '../saildrone_data/'\n",
    "#ddir = '/users/sol/Google Drive/Shared drives/NASA_SSS/data/sss_collocations_8day_nearest_norepeat_mur/'\n",
    "fns = glob.glob(ddir+'*.nc')\n",
    "fns"
   ]
  },
  {
   "cell_type": "code",
   "execution_count": 22,
   "id": "39d725fc",
   "metadata": {},
   "outputs": [],
   "source": [
    "def by_region (lowerlat, upperlat, lowerlong,upperlong):\n",
    "    for i in fns:\n",
    "        ds = xr.open_dataset(i)\n",
    "        ds.close()\n",
    "        \n",
    "        ds2 = ds.where( (ds.lat > lowerlat) & (ds.lat < upperlat), drop = True)\n",
    "        ds2.lat\n",
    "        ds3 = ds2.where((ds2.lon > lowerlong)&(ds2.lon <upperlong), drop = True)\n",
    "        ds3.lon\n",
    "\n",
    "        print(ds3.lon.values)"
   ]
  },
  {
   "cell_type": "code",
   "execution_count": 23,
   "id": "e2e45bde",
   "metadata": {
    "scrolled": true
   },
   "outputs": [
    {
     "name": "stdout",
     "output_type": "stream",
     "text": [
      "[]\n",
      "[]\n",
      "[]\n",
      "[]\n",
      "[]\n",
      "[]\n",
      "[]\n",
      "[]\n",
      "[]\n",
      "[]\n",
      "[]\n",
      "[]\n",
      "[]\n",
      "[-119.83274458 -119.5397344  -119.33505469 -119.11100801 -119.30933579\n",
      " -119.17587412 -118.87535853 -118.3963627  -118.17613796 -118.03791799\n",
      " -117.97238572 -117.9999744  -118.00390766 -118.12196921 -118.32987261\n",
      " -118.18005834 -117.98195368 -117.83421578 -117.83174431 -117.68022483\n",
      " -117.5694254  -117.7337599  -117.78045817 -117.77142159 -117.72160955\n",
      " -117.44072744 -117.54750303 -117.4498137  -117.52373909 -117.5196142\n",
      " -117.46560246 -117.39126572 -117.52744908 -117.56221525 -117.63981475\n",
      " -117.88616859 -118.11776119 -118.7148795  -118.79369337 -118.9258346\n",
      " -119.08030729 -119.06963005 -119.21424939 -119.23383357 -119.37309619\n",
      " -119.62401091 -119.85030822 -119.96895891]\n",
      "[]\n",
      "[]\n",
      "[]\n",
      "[]\n",
      "[]\n",
      "[]\n",
      "[]\n",
      "[]\n",
      "[]\n",
      "[]\n",
      "[]\n",
      "[]\n",
      "[]\n",
      "[]\n",
      "[]\n",
      "[]\n",
      "[]\n",
      "[]\n",
      "[]\n",
      "[]\n",
      "[]\n",
      "[-119.83127016 -117.90161121 -118.11752142 -117.96750007 -117.86522066\n",
      " -117.5052624  -117.63471272 -117.85122412 -117.98080216 -118.1446677\n",
      " -118.30905876 -118.31892907 -118.2800314  -118.2451689  -118.16536786\n",
      " -118.04827756 -117.890863   -117.97893621 -118.03911418 -118.03351367\n",
      " -117.98200358 -117.85521744 -117.657624   -117.53046014 -117.47667949\n",
      " -117.40063002 -117.51522552 -117.53270854 -117.56254091 -117.5710209\n",
      " -117.5988871  -117.67354113 -117.88606994 -118.11761179 -118.38008045\n",
      " -118.62291344 -118.72686349 -118.81509679 -118.92776139 -119.06464431\n",
      " -119.22012845 -119.32722368 -119.54096765 -119.57514925 -119.72109261\n",
      " -119.86959258]\n",
      "[-119.86719187 -119.7060544  -119.56138094 -119.48533351 -119.51419368\n",
      " -119.39859383 -119.1300173  -118.89186654 -118.61829147 -118.37428751\n",
      " -118.05446541 -118.03621087 -117.95099083 -117.8275873  -117.78173411\n",
      " -117.65796643 -117.57731467 -117.48454662 -117.43944506 -117.38714988\n",
      " -117.3119983  -117.25779851 -117.13865689 -117.02213171 -117.00536188\n",
      " -116.99862905 -116.91843221 -116.8221419  -116.69328069 -116.6238315\n",
      " -116.59555341 -119.40630472 -119.39127167 -119.39416448 -119.39585048\n",
      " -119.36592646 -119.32739369 -119.32737467 -119.27588531 -119.34679258\n",
      " -119.61886807 -119.81709668 -119.93557593]\n",
      "[]\n",
      "[]\n",
      "[-119.92118876 -119.85084263 -119.89313237 -119.62590609 -119.4994176\n",
      " -119.37780579 -119.07689925 -118.99489871 -119.36814433 -119.5013696\n",
      " -119.63871536 -119.87453017 -119.58849538 -119.48505433 -119.33952799\n",
      " -119.11734957 -118.95832503 -118.85849777 -118.77449076 -118.552074\n",
      " -118.45587328 -118.40131236 -118.46174677 -118.48713421 -118.64560274\n",
      " -118.90288203 -119.16730124 -119.1816635  -119.25530791 -119.27850928\n",
      " -119.40812606 -119.59280554 -119.66413726 -119.7473984  -119.85379079\n",
      " -119.95318248]\n",
      "[]\n",
      "[]\n",
      "[]\n",
      "[]\n",
      "[]\n",
      "[]\n"
     ]
    }
   ],
   "source": [
    "by_region(30,45,-120,-113)"
   ]
  },
  {
   "cell_type": "code",
   "execution_count": 20,
   "id": "9dc03798",
   "metadata": {},
   "outputs": [
    {
     "ename": "NameError",
     "evalue": "name 'ds' is not defined",
     "output_type": "error",
     "traceback": [
      "\u001b[0;31m---------------------------------------------------------------------------\u001b[0m",
      "\u001b[0;31mNameError\u001b[0m                                 Traceback (most recent call last)",
      "Input \u001b[0;32mIn [20]\u001b[0m, in \u001b[0;36m<module>\u001b[0;34m\u001b[0m\n\u001b[0;32m----> 1\u001b[0m \u001b[43mds\u001b[49m\n",
      "\u001b[0;31mNameError\u001b[0m: name 'ds' is not defined"
     ]
    }
   ],
   "source": [
    "ds"
   ]
  },
  {
   "cell_type": "code",
   "execution_count": null,
   "id": "cc78c3c7",
   "metadata": {},
   "outputs": [],
   "source": []
  }
 ],
 "metadata": {
  "kernelspec": {
   "display_name": "Python 3 (ipykernel)",
   "language": "python",
   "name": "python3"
  },
  "language_info": {
   "codemirror_mode": {
    "name": "ipython",
    "version": 3
   },
   "file_extension": ".py",
   "mimetype": "text/x-python",
   "name": "python",
   "nbconvert_exporter": "python",
   "pygments_lexer": "ipython3",
   "version": "3.9.12"
  }
 },
 "nbformat": 4,
 "nbformat_minor": 5
}
