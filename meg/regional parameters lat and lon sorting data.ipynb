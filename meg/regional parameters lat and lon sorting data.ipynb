{
 "cells": [
  {
   "cell_type": "code",
   "execution_count": 1,
   "id": "88f2e696-7924-4833-8fd2-31916319602a",
   "metadata": {},
   "outputs": [],
   "source": [
    "import numpy as np\n",
    "import pandas as pd\n",
    "import xarray as xr\n",
    "import matplotlib.pyplot as plt \n",
    "import datetime as dt\n",
    "import cartopy.feature as cfeature\n",
    "import cartopy.crs as ccrs\n",
    "import warnings \n",
    "import matplotlib.dates as mdates\n",
    "import glob\n",
    "import os\n",
    "\n",
    "warnings.simplefilter('ignore') \n",
    "\n",
    "from cartopy.mpl.ticker import LongitudeFormatter, LatitudeFormatter\n",
    "from calendar import month_abbr"
   ]
  },
  {
   "cell_type": "code",
   "execution_count": 2,
   "id": "8b93369e",
   "metadata": {},
   "outputs": [],
   "source": [
    "# i think the problem is the non uniform data. i think.\n",
    "# so, lets use time not as a coordinate, but as another variable, \n",
    "# and as coordinate, use a uniformily increasing index.\n",
    "\n",
    "# then, do these next steps:\n",
    "#   - give the lat lon rrange as input arguments in the function, so we don't have to type them every time\n",
    "#   - document the function (inside the func): what it does, describe input output, author and date\n",
    "#   - make a final map with all the data for the region (inside the function)"
   ]
  },
  {
   "cell_type": "code",
   "execution_count": 3,
   "id": "27153568-197e-482b-9714-6b57a2e63d2c",
   "metadata": {
    "scrolled": true
   },
   "outputs": [
    {
     "data": {
      "text/plain": [
       "['../saildrone_data/saildrone_west_coast_survey_2019_sd1043_JPLv5.0_8dy_20210613norep_20210613_20211116.nc',\n",
       " '../saildrone_data/saildrone_tpos_sd1029_2018_JPLv5.0_8dy_20210613norep_20210613_20211116.nc',\n",
       " '../saildrone_data/saildrone_west_coast_survey_2018_sd1026_JPLv5.0_8dy_20210613norep_20210613_20211116.nc',\n",
       " '../saildrone_data/saildrone_tpos_sd1030_2018_JPLv5.0_8dy_20210613norep_20210613_20211116.nc',\n",
       " '../saildrone_data/saildrone_west_coast_survey_2019_sd1047_JPLv5.0_8dy_20210613norep_20210613_20211116.nc',\n",
       " '../saildrone_data/saildrone_tpos_sd1068_2019_JPLv5.0_8dy_20210613norep_20210613_20211116.nc',\n",
       " '../saildrone_data/PMEL_Arctic_2015_sd128-ALL-1_min-v1_JPLv5.0_8dy_20210613norep_20210613_20211116.nc',\n",
       " '../saildrone_data/saildrone_west_coast_survey_2019_sd1038_JPLv5.0_8dy_20210613norep_20210613_20211116.nc',\n",
       " '../saildrone_data/saildrone-gen_4-shark-2018-sd1001-20180315T000000-20180529T235959-1_minutes-v1.1581626958976_JPLv5.0_8dy_20210613norep_20210613_20211116.nc',\n",
       " '../saildrone_data/saildrone_arctic_sd1033_2019_JPLv5.0_8dy_20210613norep_20210613_20211116.nc',\n",
       " '../saildrone_data/saildrone_tpos_sd1066_2019_JPLv5.0_8dy_20210613norep_20210613_20211116.nc',\n",
       " '../saildrone_data/PMEL_Arctic_2015_sd126-ALL-1_min-v1_JPLv5.0_8dy_20210613norep_20210613_20211116.nc',\n",
       " '../saildrone_data/saildrone_west_coast_survey_2019_sd1045_JPLv5.0_8dy_20210613norep_20210613_20211116.nc',\n",
       " '../saildrone_data/saildrone_west_coast_survey_2018_sd1028_JPLv5.0_8dy_20210613norep_20210613_20211116.nc',\n",
       " '../saildrone_data/saildrone-gen_5-arctic_misst_2019-sd1037-20190514T230000-20191011T183000-1_minutes-v1.1575487464625_JPLv5.0_8dy_20210613norep_20210613_20211116.nc',\n",
       " '../saildrone_data/saildrone_tpos_sd1005_2018_JPLv5.0_8dy_20210613norep_20210613_20211116.nc',\n",
       " '../saildrone_data/saildrone_tpos_sd1006_2017_JPLv5.0_8dy_20210613norep_20210613_20211116.nc',\n",
       " '../saildrone_data/saildrone_arctic_2017_sd1002_JPLv5.0_8dy_20210613norep_20210613_20211116.nc',\n",
       " '../saildrone_data/saildrone-gen_5-atlantic_to_med_2019_to_2020-sd1030-20191018T101200-20200717T134559-1_minutes-v1.1595626086288_JPLv5.0_8dy_20210613norep_20210613_20211116.nc',\n",
       " '../saildrone_data/saildrone_west_coast_survey_2018_sd1024_JPLv5.0_8dy_20210613norep_20210613_20211116.nc',\n",
       " '../saildrone_data/saildrone-gen_5-antarctica_circumnavigation_2019-sd1020-20190119T040000-20190803T043000-1_minutes-v1.1564884498845_JPLv5.0_8dy_20210613norep_20210613_20211116.nc',\n",
       " '../saildrone_data/saildrone_arctic_sd1035_2019_JPLv5.0_8dy_20210613norep_20210613_20211116.nc',\n",
       " '../saildrone_data/saildrone_west_coast_survey_2018_sd1027_JPLv5.0_8dy_20210613norep_20210613_20211116.nc',\n",
       " '../saildrone_data/saildrone_west_coast_survey_2019_sd1044_JPLv5.0_8dy_20210613norep_20210613_20211116.nc',\n",
       " '../saildrone_data/saildrone_tpos_sd1005_2017_JPLv5.0_8dy_20210613norep_20210613_20211116.nc',\n",
       " '../saildrone_data/saildrone_tpos_sd1069_2019_JPLv5.0_8dy_20210613norep_20210613_20211116.nc',\n",
       " '../saildrone_data/PMEL_Arctic_2016_sd128-ALL-1_min-v1_JPLv5.0_8dy_20210613norep_20210613_20211116.nc',\n",
       " '../saildrone_data/saildrone_west_coast_survey_2019_sd1039_JPLv5.0_8dy_20210613norep_20210613_20211116.nc',\n",
       " '../saildrone_data/saildrone_arctic_2017_sd1001_JPLv5.0_8dy_20210613norep_20210613_20211116.nc',\n",
       " '../saildrone_data/saildrone-gen_5-atomic_eurec4a_2020-sd1061-20200117T000000-20200302T235959-1_minutes-v1.1589307121602_JPLv5.0_8dy_20210613norep_20210613_20211116.nc',\n",
       " '../saildrone_data/saildrone-gen_4-shark-2018-sd1004-20180315T000000-20180617T235959-1_minutes-v1.1581627077777_JPLv5.0_8dy_20210613norep_20210613_20211116.nc',\n",
       " '../saildrone_data/saildrone_west_coast_survey_2019_sd1040_JPLv5.0_8dy_20210613norep_20210613_20211116.nc',\n",
       " '../saildrone_data/saildrone_arctic_sd1034_2019_JPLv5.0_8dy_20210613norep_20210613_20211116.nc',\n",
       " '../saildrone_data/saildrone_tpos_sd1067_2019_JPLv5.0_8dy_20210613norep_20210613_20211116.nc',\n",
       " '../saildrone_data/PMEL_Arctic_2016_sd126-ALL-1_min-v1_JPLv5.0_8dy_20210613norep_20210613_20211116.nc',\n",
       " '../saildrone_data/saildrone_west_coast_survey_2019_sd1046_JPLv5.0_8dy_20210613norep_20210613_20211116.nc',\n",
       " '../saildrone_data/saildrone-gen_4-baja_2018-sd1002-20180411T180000-20180611T055959-1_minutes-v1_JPLv5.0_8dy_20210613norep_20210613_20211116.nc',\n",
       " '../saildrone_data/saildrone_arctic_sd1041_2019_JPLv5.0_8dy_20210613norep_20210613_20211116.nc',\n",
       " '../saildrone_data/saildrone-gen_5-1021_atlantic-sd1021-20190525T000000-20191021T235959-1_minutes-v1.1571806429446_(1)_JPLv5.0_8dy_20210613norep_20210613_20211116.nc',\n",
       " '../saildrone_data/saildrone_tpos_sd1006_2018_JPLv5.0_8dy_20210613norep_20210613_20211116.nc',\n",
       " '../saildrone_data/saildrone-gen_5-atlantic_to_med_2019_to_2020-sd1053-20191018T110000-20200717T134559-1_minutes-v1.1595634214633_JPLv5.0_8dy_20210613norep_20210613_20211116.nc',\n",
       " '../saildrone_data/saildrone-gen_5-atomic_eurec4a_2020-sd1026-20200117T000000-20200302T235959-1_minutes-v1.1589306725934_JPLv5.0_8dy_20210613norep_20210613_20211116.nc',\n",
       " '../saildrone_data/saildrone-gen_5-arctic_misst_2019-sd1036-20190514T230000-20191011T183000-1_minutes-v1.1575336154680_JPLv5.0_8dy_20210613norep_20210613_20211116.nc',\n",
       " '../saildrone_data/saildrone_arctic_2017_sd1003_JPLv5.0_8dy_20210613norep_20210613_20211116.nc',\n",
       " '../saildrone_data/saildrone-gen_5-atomic_eurec4a_2020-sd1060-20200117T000000-20200302T235959-1_minutes-v1.1589306886594_JPLv5.0_8dy_20210613norep_20210613_20211116.nc',\n",
       " '../saildrone_data/saildrone_west_coast_survey_2018_sd1025_JPLv5.0_8dy_20210613norep_20210613_20211116.nc']"
      ]
     },
     "execution_count": 3,
     "metadata": {},
     "output_type": "execute_result"
    }
   ],
   "source": [
    "ddir = '../saildrone_data/'\n",
    "fns = glob.glob(ddir+'*.nc')\n",
    "fns"
   ]
  },
  {
   "cell_type": "code",
   "execution_count": 4,
   "id": "e2ac4cb1-e442-4119-8074-b799874bb7f6",
   "metadata": {},
   "outputs": [],
   "source": [
    "# #### PARAMETERS::: \n",
    "#     # make sure lowerlat < upperlat since no test is done below to simplify the code\n",
    "# lowlat = int(input('Lower latitude value: '))\n",
    "# uplat = int(input('Upper latitude value: '))  \n",
    "#     # same caution as lat, long range (-180:180)\n",
    "# lowlon = int(input('Lower longitutde value: '))\n",
    "# uplon = int(input('Upper longitude value: '))\n",
    "lowerlat = 25\n",
    "upperlat = 35\n",
    "lowerlong = -130\n",
    "upperlong = -115"
   ]
  },
  {
   "cell_type": "code",
   "execution_count": 7,
   "id": "80a8cf68-99d8-4570-bb5a-90b565b4bb11",
   "metadata": {
    "scrolled": true
   },
   "outputs": [],
   "source": [
    "#Taking parameters of longitudes and latitudes and returning saildrone files that contain data w/in parameters\n",
    "def by_region (lowerlat, upperlat, lowerlong, upperlong):\n",
    "    \n",
    "    \n",
    "    \n",
    "    \n",
    "    ### Initializing name list and length of such as 0\n",
    "    saildrone_name_list = []\n",
    "    #nameList_len = len(saildrone_name_list)\n",
    "    ltime, llat, llon, ltemp, lsal, ltime = list(), list(), list(), list(), list(), list()\n",
    "    ### Filtering data: ds2 = lat, ds3 = lon\n",
    "    for i in fns:\n",
    "        ds = xr.open_dataset(i)\n",
    "        ds2 = ds.where((ds.lat > lowerlat) & (ds.lat < upperlat), drop = True)\n",
    "        ds3 = ds2.where((ds2.lon > lowerlong) & (ds2.lon < upperlong), drop = True)\n",
    "        #print(len(ds.lon), len(ds3.lon))\n",
    "        \n",
    "        \n",
    "        \n",
    "    \n",
    "        ds.close()\n",
    "        if ((len(ds3.lon) > 0)): \n",
    "            saildrone_name_list.append(i)\n",
    "            ltime.extend(ds3.time.data)\n",
    "            llat.extend(ds3.lat.data)\n",
    "            llon.extend(ds3.lon.data)\n",
    "            ltemp.extend(ds3.TEMP_CTD_MEAN.data)\n",
    "            lsal.extend(ds3.SAL_CTD_MEAN.data)\n",
    "\n",
    "    ds_new = xr.Dataset(\n",
    "        data_vars=dict(\n",
    "            latitude=(['coordinate'], llat), # <<< Can I just replace the 'time' here? Do I need to start a new coordinate on another line?\n",
    "            longitude=(['coordinate'], llon),\n",
    "            temperature = (['coordinate'], ltemp),\n",
    "            salinity = (['coordinate'], lsal),\n",
    "        coords=dict(time=ltime)))\n",
    "            \n",
    "    nameList_len = len(saildrone_name_list)\n",
    "    print(nameList_len)\n",
    "    return ds_new\n",
    "    \n",
    "        \n"
   ]
  },
  {
   "cell_type": "code",
   "execution_count": 6,
   "id": "3010d047",
   "metadata": {},
   "outputs": [
    {
     "ename": "NameError",
     "evalue": "name 'ltime' is not defined",
     "output_type": "error",
     "traceback": [
      "\u001b[0;31m---------------------------------------------------------------------------\u001b[0m",
      "\u001b[0;31mNameError\u001b[0m                                 Traceback (most recent call last)",
      "Input \u001b[0;32mIn [6]\u001b[0m, in \u001b[0;36m<cell line: 1>\u001b[0;34m()\u001b[0m\n\u001b[0;32m----> 1\u001b[0m \u001b[43mltime\u001b[49m\n",
      "\u001b[0;31mNameError\u001b[0m: name 'ltime' is not defined"
     ]
    }
   ],
   "source": [
    "ltime"
   ]
  },
  {
   "cell_type": "code",
   "execution_count": null,
   "id": "ab2bc2c8-3284-4515-a1d9-7a2c31e82e61",
   "metadata": {},
   "outputs": [],
   "source": [
    "by_region(lowlat, uplat, lowlon, uplon)"
   ]
  },
  {
   "cell_type": "code",
   "execution_count": null,
   "id": "2e0242a8-6c68-4c42-9c82-a5cd6178a2e4",
   "metadata": {},
   "outputs": [],
   "source": []
  }
 ],
 "metadata": {
  "kernelspec": {
   "display_name": "users-fi_intern",
   "language": "python",
   "name": "conda-env-users-fi_intern-py"
  },
  "language_info": {
   "codemirror_mode": {
    "name": "ipython",
    "version": 3
   },
   "file_extension": ".py",
   "mimetype": "text/x-python",
   "name": "python",
   "nbconvert_exporter": "python",
   "pygments_lexer": "ipython3",
   "version": "3.9.7"
  }
 },
 "nbformat": 4,
 "nbformat_minor": 5
}
