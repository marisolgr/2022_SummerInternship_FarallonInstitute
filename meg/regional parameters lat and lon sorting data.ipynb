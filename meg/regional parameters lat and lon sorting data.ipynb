{
 "cells": [
  {
   "cell_type": "code",
   "execution_count": 1,
   "id": "88f2e696-7924-4833-8fd2-31916319602a",
   "metadata": {},
   "outputs": [],
   "source": [
    "import numpy as np\n",
    "import pandas as pd\n",
    "import xarray as xr\n",
    "import matplotlib.pyplot as plt \n",
    "import datetime as dt\n",
    "import cartopy.feature as cfeature\n",
    "import cartopy.crs as ccrs\n",
    "import warnings \n",
    "import matplotlib.dates as mdates\n",
    "import glob\n",
    "import os\n",
    "\n",
    "warnings.simplefilter('ignore') \n",
    "\n",
    "from cartopy.mpl.ticker import LongitudeFormatter, LatitudeFormatter\n",
    "from calendar import month_abbr"
   ]
  },
  {
   "cell_type": "code",
   "execution_count": 2,
   "id": "27153568-197e-482b-9714-6b57a2e63d2c",
   "metadata": {},
   "outputs": [
    {
     "data": {
      "text/plain": [
       "['../saildrone_data/saildrone_west_coast_survey_2019_sd1043_JPLv5.0_8dy_20210613norep_20210613_20211116.nc',\n",
       " '../saildrone_data/saildrone_tpos_sd1029_2018_JPLv5.0_8dy_20210613norep_20210613_20211116.nc',\n",
       " '../saildrone_data/saildrone_west_coast_survey_2018_sd1026_JPLv5.0_8dy_20210613norep_20210613_20211116.nc',\n",
       " '../saildrone_data/saildrone_tpos_sd1030_2018_JPLv5.0_8dy_20210613norep_20210613_20211116.nc',\n",
       " '../saildrone_data/saildrone_west_coast_survey_2019_sd1047_JPLv5.0_8dy_20210613norep_20210613_20211116.nc',\n",
       " '../saildrone_data/saildrone_tpos_sd1068_2019_JPLv5.0_8dy_20210613norep_20210613_20211116.nc',\n",
       " '../saildrone_data/PMEL_Arctic_2015_sd128-ALL-1_min-v1_JPLv5.0_8dy_20210613norep_20210613_20211116.nc',\n",
       " '../saildrone_data/saildrone_west_coast_survey_2019_sd1038_JPLv5.0_8dy_20210613norep_20210613_20211116.nc',\n",
       " '../saildrone_data/saildrone-gen_4-shark-2018-sd1001-20180315T000000-20180529T235959-1_minutes-v1.1581626958976_JPLv5.0_8dy_20210613norep_20210613_20211116.nc',\n",
       " '../saildrone_data/saildrone_arctic_sd1033_2019_JPLv5.0_8dy_20210613norep_20210613_20211116.nc',\n",
       " '../saildrone_data/saildrone_tpos_sd1066_2019_JPLv5.0_8dy_20210613norep_20210613_20211116.nc',\n",
       " '../saildrone_data/PMEL_Arctic_2015_sd126-ALL-1_min-v1_JPLv5.0_8dy_20210613norep_20210613_20211116.nc',\n",
       " '../saildrone_data/saildrone_west_coast_survey_2019_sd1045_JPLv5.0_8dy_20210613norep_20210613_20211116.nc',\n",
       " '../saildrone_data/saildrone_west_coast_survey_2018_sd1028_JPLv5.0_8dy_20210613norep_20210613_20211116.nc',\n",
       " '../saildrone_data/saildrone-gen_5-arctic_misst_2019-sd1037-20190514T230000-20191011T183000-1_minutes-v1.1575487464625_JPLv5.0_8dy_20210613norep_20210613_20211116.nc',\n",
       " '../saildrone_data/saildrone_tpos_sd1005_2018_JPLv5.0_8dy_20210613norep_20210613_20211116.nc',\n",
       " '../saildrone_data/saildrone_tpos_sd1006_2017_JPLv5.0_8dy_20210613norep_20210613_20211116.nc',\n",
       " '../saildrone_data/saildrone_arctic_2017_sd1002_JPLv5.0_8dy_20210613norep_20210613_20211116.nc',\n",
       " '../saildrone_data/saildrone-gen_5-atlantic_to_med_2019_to_2020-sd1030-20191018T101200-20200717T134559-1_minutes-v1.1595626086288_JPLv5.0_8dy_20210613norep_20210613_20211116.nc',\n",
       " '../saildrone_data/saildrone_west_coast_survey_2018_sd1024_JPLv5.0_8dy_20210613norep_20210613_20211116.nc',\n",
       " '../saildrone_data/saildrone-gen_5-antarctica_circumnavigation_2019-sd1020-20190119T040000-20190803T043000-1_minutes-v1.1564884498845_JPLv5.0_8dy_20210613norep_20210613_20211116.nc',\n",
       " '../saildrone_data/saildrone_arctic_sd1035_2019_JPLv5.0_8dy_20210613norep_20210613_20211116.nc',\n",
       " '../saildrone_data/saildrone_west_coast_survey_2018_sd1027_JPLv5.0_8dy_20210613norep_20210613_20211116.nc',\n",
       " '../saildrone_data/saildrone_west_coast_survey_2019_sd1044_JPLv5.0_8dy_20210613norep_20210613_20211116.nc',\n",
       " '../saildrone_data/saildrone_tpos_sd1005_2017_JPLv5.0_8dy_20210613norep_20210613_20211116.nc',\n",
       " '../saildrone_data/saildrone_tpos_sd1069_2019_JPLv5.0_8dy_20210613norep_20210613_20211116.nc',\n",
       " '../saildrone_data/PMEL_Arctic_2016_sd128-ALL-1_min-v1_JPLv5.0_8dy_20210613norep_20210613_20211116.nc',\n",
       " '../saildrone_data/saildrone_west_coast_survey_2019_sd1039_JPLv5.0_8dy_20210613norep_20210613_20211116.nc',\n",
       " '../saildrone_data/saildrone_arctic_2017_sd1001_JPLv5.0_8dy_20210613norep_20210613_20211116.nc',\n",
       " '../saildrone_data/saildrone-gen_5-atomic_eurec4a_2020-sd1061-20200117T000000-20200302T235959-1_minutes-v1.1589307121602_JPLv5.0_8dy_20210613norep_20210613_20211116.nc',\n",
       " '../saildrone_data/saildrone-gen_4-shark-2018-sd1004-20180315T000000-20180617T235959-1_minutes-v1.1581627077777_JPLv5.0_8dy_20210613norep_20210613_20211116.nc',\n",
       " '../saildrone_data/saildrone_west_coast_survey_2019_sd1040_JPLv5.0_8dy_20210613norep_20210613_20211116.nc',\n",
       " '../saildrone_data/saildrone_arctic_sd1034_2019_JPLv5.0_8dy_20210613norep_20210613_20211116.nc',\n",
       " '../saildrone_data/saildrone_tpos_sd1067_2019_JPLv5.0_8dy_20210613norep_20210613_20211116.nc',\n",
       " '../saildrone_data/PMEL_Arctic_2016_sd126-ALL-1_min-v1_JPLv5.0_8dy_20210613norep_20210613_20211116.nc',\n",
       " '../saildrone_data/saildrone_west_coast_survey_2019_sd1046_JPLv5.0_8dy_20210613norep_20210613_20211116.nc',\n",
       " '../saildrone_data/saildrone-gen_4-baja_2018-sd1002-20180411T180000-20180611T055959-1_minutes-v1_JPLv5.0_8dy_20210613norep_20210613_20211116.nc',\n",
       " '../saildrone_data/saildrone_arctic_sd1041_2019_JPLv5.0_8dy_20210613norep_20210613_20211116.nc',\n",
       " '../saildrone_data/saildrone-gen_5-1021_atlantic-sd1021-20190525T000000-20191021T235959-1_minutes-v1.1571806429446_(1)_JPLv5.0_8dy_20210613norep_20210613_20211116.nc',\n",
       " '../saildrone_data/saildrone_tpos_sd1006_2018_JPLv5.0_8dy_20210613norep_20210613_20211116.nc',\n",
       " '../saildrone_data/saildrone-gen_5-atlantic_to_med_2019_to_2020-sd1053-20191018T110000-20200717T134559-1_minutes-v1.1595634214633_JPLv5.0_8dy_20210613norep_20210613_20211116.nc',\n",
       " '../saildrone_data/saildrone-gen_5-atomic_eurec4a_2020-sd1026-20200117T000000-20200302T235959-1_minutes-v1.1589306725934_JPLv5.0_8dy_20210613norep_20210613_20211116.nc',\n",
       " '../saildrone_data/saildrone-gen_5-arctic_misst_2019-sd1036-20190514T230000-20191011T183000-1_minutes-v1.1575336154680_JPLv5.0_8dy_20210613norep_20210613_20211116.nc',\n",
       " '../saildrone_data/saildrone_arctic_2017_sd1003_JPLv5.0_8dy_20210613norep_20210613_20211116.nc',\n",
       " '../saildrone_data/saildrone-gen_5-atomic_eurec4a_2020-sd1060-20200117T000000-20200302T235959-1_minutes-v1.1589306886594_JPLv5.0_8dy_20210613norep_20210613_20211116.nc',\n",
       " '../saildrone_data/saildrone_west_coast_survey_2018_sd1025_JPLv5.0_8dy_20210613norep_20210613_20211116.nc']"
      ]
     },
     "execution_count": 2,
     "metadata": {},
     "output_type": "execute_result"
    }
   ],
   "source": [
    "ddir = '../saildrone_data/'\n",
    "fns = glob.glob(ddir+'*.nc')\n",
    "fns"
   ]
  },
  {
   "cell_type": "code",
   "execution_count": 30,
   "id": "80a8cf68-99d8-4570-bb5a-90b565b4bb11",
   "metadata": {},
   "outputs": [],
   "source": [
    "#Taking parameters of longitudes and latitudes and returning saildrone files that contain data w/in parameters\n",
    "def by_region ():\n",
    "    \n",
    "    #### PARAMETERS::: \n",
    "    # make sure lowerlat < upperlat since no test is done below to simplify the code\n",
    "    lowerlat = int(input('Lower latitude value: '))\n",
    "    upperlat = int(input('Upper latitude value: '))  \n",
    "    # same caution as lat, long range (-180:180)\n",
    "    lowerlong = int(input('Lower longitutde value: '))\n",
    "    upperlong = int(input('Upper longitude value: '))\n",
    "    \n",
    "    \n",
    "    \n",
    "    ### Initializing name list and length of such as 0\n",
    "    saildrone_name_list = []\n",
    "    #nameList_len = len(saildrone_name_list)\n",
    "    ltime, llat, llon, ltemp, lsal, = list(), list(), list(), list(), list()\n",
    "    ### Filtering data: ds2 = lat, ds3 = lon\n",
    "    for i in fns:\n",
    "        ds = xr.open_dataset(i)\n",
    "        ds2 = ds.where((ds.lat > lowerlat) & (ds.lat < upperlat), drop = True)\n",
    "        ds3 = ds2.where((ds2.lon > lowerlong) & (ds2.lon < upperlong), drop = True)\n",
    "        #print(len(ds.lon), len(ds3.lon))\n",
    "        \n",
    "        \n",
    "        \n",
    "    \n",
    "        ds.close()\n",
    "        if ((len(ds3.lon) > 0)): \n",
    "            saildrone_name_list.append(i)\n",
    "            ltime.extend(ds3.time.data)\n",
    "            llat.extend(ds3.lat.data)\n",
    "            llon.extend(ds3.lon.data)\n",
    "            ltemp.extend(ds3.TEMP_CTD_MEAN.data)\n",
    "            lsal.extend(ds3.SAL_CTD_MEAN.data)\n",
    "    \n",
    "    ds_new = xr.Dataset(\n",
    "        data_vars=dict(\n",
    "            latitude=(['time'], llat),\n",
    "            longitude=(['time'], llon),\n",
    "            temperature = (['time'], ltemp),\n",
    "            salinity = (['time'], lsal),\n",
    "        coords=dict(time=ltime)))\n",
    "            \n",
    "    nameList_len = len(saildrone_name_list)\n",
    "    print(nameList_len)\n",
    "    return ds_new\n",
    "    \n",
    "        \n"
   ]
  },
  {
   "cell_type": "code",
   "execution_count": 31,
   "id": "ab2bc2c8-3284-4515-a1d9-7a2c31e82e61",
   "metadata": {},
   "outputs": [
    {
     "name": "stdin",
     "output_type": "stream",
     "text": [
      "Lower latitude value:  25\n",
      "Upper latitude value:  35\n",
      "Lower longitutde value:  -130\n",
      "Upper longitude value:  -115\n"
     ]
    },
    {
     "ename": "TypeError",
     "evalue": "variable 'coords' has invalid type <class 'dict'>",
     "output_type": "error",
     "traceback": [
      "\u001b[0;31m---------------------------------------------------------------------------\u001b[0m",
      "\u001b[0;31mTypeError\u001b[0m                                 Traceback (most recent call last)",
      "Input \u001b[0;32mIn [31]\u001b[0m, in \u001b[0;36m<cell line: 1>\u001b[0;34m()\u001b[0m\n\u001b[0;32m----> 1\u001b[0m \u001b[43mby_region\u001b[49m\u001b[43m(\u001b[49m\u001b[43m)\u001b[49m\n",
      "Input \u001b[0;32mIn [30]\u001b[0m, in \u001b[0;36mby_region\u001b[0;34m()\u001b[0m\n\u001b[1;32m     34\u001b[0m         ltemp\u001b[38;5;241m.\u001b[39mextend(ds3\u001b[38;5;241m.\u001b[39mTEMP_CTD_MEAN\u001b[38;5;241m.\u001b[39mdata)\n\u001b[1;32m     35\u001b[0m         lsal\u001b[38;5;241m.\u001b[39mextend(ds3\u001b[38;5;241m.\u001b[39mSAL_CTD_MEAN\u001b[38;5;241m.\u001b[39mdata)\n\u001b[0;32m---> 37\u001b[0m ds_new \u001b[38;5;241m=\u001b[39m \u001b[43mxr\u001b[49m\u001b[38;5;241;43m.\u001b[39;49m\u001b[43mDataset\u001b[49m\u001b[43m(\u001b[49m\n\u001b[1;32m     38\u001b[0m \u001b[43m    \u001b[49m\u001b[43mdata_vars\u001b[49m\u001b[38;5;241;43m=\u001b[39;49m\u001b[38;5;28;43mdict\u001b[39;49m\u001b[43m(\u001b[49m\n\u001b[1;32m     39\u001b[0m \u001b[43m        \u001b[49m\u001b[43mlatitude\u001b[49m\u001b[38;5;241;43m=\u001b[39;49m\u001b[43m(\u001b[49m\u001b[43m[\u001b[49m\u001b[38;5;124;43m'\u001b[39;49m\u001b[38;5;124;43mtime\u001b[39;49m\u001b[38;5;124;43m'\u001b[39;49m\u001b[43m]\u001b[49m\u001b[43m,\u001b[49m\u001b[43m \u001b[49m\u001b[43mllat\u001b[49m\u001b[43m)\u001b[49m\u001b[43m,\u001b[49m\n\u001b[1;32m     40\u001b[0m \u001b[43m        \u001b[49m\u001b[43mlongitude\u001b[49m\u001b[38;5;241;43m=\u001b[39;49m\u001b[43m(\u001b[49m\u001b[43m[\u001b[49m\u001b[38;5;124;43m'\u001b[39;49m\u001b[38;5;124;43mtime\u001b[39;49m\u001b[38;5;124;43m'\u001b[39;49m\u001b[43m]\u001b[49m\u001b[43m,\u001b[49m\u001b[43m \u001b[49m\u001b[43mllon\u001b[49m\u001b[43m)\u001b[49m\u001b[43m,\u001b[49m\n\u001b[1;32m     41\u001b[0m \u001b[43m        \u001b[49m\u001b[43mtemperature\u001b[49m\u001b[43m \u001b[49m\u001b[38;5;241;43m=\u001b[39;49m\u001b[43m \u001b[49m\u001b[43m(\u001b[49m\u001b[43m[\u001b[49m\u001b[38;5;124;43m'\u001b[39;49m\u001b[38;5;124;43mtime\u001b[39;49m\u001b[38;5;124;43m'\u001b[39;49m\u001b[43m]\u001b[49m\u001b[43m,\u001b[49m\u001b[43m \u001b[49m\u001b[43mltemp\u001b[49m\u001b[43m)\u001b[49m\u001b[43m,\u001b[49m\n\u001b[1;32m     42\u001b[0m \u001b[43m        \u001b[49m\u001b[43msalinity\u001b[49m\u001b[43m \u001b[49m\u001b[38;5;241;43m=\u001b[39;49m\u001b[43m \u001b[49m\u001b[43m(\u001b[49m\u001b[43m[\u001b[49m\u001b[38;5;124;43m'\u001b[39;49m\u001b[38;5;124;43mtime\u001b[39;49m\u001b[38;5;124;43m'\u001b[39;49m\u001b[43m]\u001b[49m\u001b[43m,\u001b[49m\u001b[43m \u001b[49m\u001b[43mlsal\u001b[49m\u001b[43m)\u001b[49m\u001b[43m,\u001b[49m\n\u001b[1;32m     43\u001b[0m \u001b[43m    \u001b[49m\u001b[43mcoords\u001b[49m\u001b[38;5;241;43m=\u001b[39;49m\u001b[38;5;28;43mdict\u001b[39;49m\u001b[43m(\u001b[49m\u001b[43mtime\u001b[49m\u001b[38;5;241;43m=\u001b[39;49m\u001b[43mltime\u001b[49m\u001b[43m)\u001b[49m\u001b[43m)\u001b[49m\u001b[43m)\u001b[49m\n\u001b[1;32m     45\u001b[0m nameList_len \u001b[38;5;241m=\u001b[39m \u001b[38;5;28mlen\u001b[39m(saildrone_name_list)\n\u001b[1;32m     46\u001b[0m \u001b[38;5;28mprint\u001b[39m(nameList_len)\n",
      "File \u001b[0;32m/home/conda/users/dae6e0cc72969d8a896b60dbf08153ec5da18bd7e7f8353ab81736f3db5c8c21-20220617-203444-306118-62-fi_intern/lib/python3.9/site-packages/xarray/core/dataset.py:751\u001b[0m, in \u001b[0;36mDataset.__init__\u001b[0;34m(self, data_vars, coords, attrs)\u001b[0m\n\u001b[1;32m    748\u001b[0m \u001b[38;5;28;01mif\u001b[39;00m \u001b[38;5;28misinstance\u001b[39m(coords, Dataset):\n\u001b[1;32m    749\u001b[0m     coords \u001b[38;5;241m=\u001b[39m coords\u001b[38;5;241m.\u001b[39mvariables\n\u001b[0;32m--> 751\u001b[0m variables, coord_names, dims, indexes, _ \u001b[38;5;241m=\u001b[39m \u001b[43mmerge_data_and_coords\u001b[49m\u001b[43m(\u001b[49m\n\u001b[1;32m    752\u001b[0m \u001b[43m    \u001b[49m\u001b[43mdata_vars\u001b[49m\u001b[43m,\u001b[49m\u001b[43m \u001b[49m\u001b[43mcoords\u001b[49m\u001b[43m,\u001b[49m\u001b[43m \u001b[49m\u001b[43mcompat\u001b[49m\u001b[38;5;241;43m=\u001b[39;49m\u001b[38;5;124;43m\"\u001b[39;49m\u001b[38;5;124;43mbroadcast_equals\u001b[39;49m\u001b[38;5;124;43m\"\u001b[39;49m\n\u001b[1;32m    753\u001b[0m \u001b[43m\u001b[49m\u001b[43m)\u001b[49m\n\u001b[1;32m    755\u001b[0m \u001b[38;5;28mself\u001b[39m\u001b[38;5;241m.\u001b[39m_attrs \u001b[38;5;241m=\u001b[39m \u001b[38;5;28mdict\u001b[39m(attrs) \u001b[38;5;28;01mif\u001b[39;00m attrs \u001b[38;5;129;01mis\u001b[39;00m \u001b[38;5;129;01mnot\u001b[39;00m \u001b[38;5;28;01mNone\u001b[39;00m \u001b[38;5;28;01melse\u001b[39;00m \u001b[38;5;28;01mNone\u001b[39;00m\n\u001b[1;32m    756\u001b[0m \u001b[38;5;28mself\u001b[39m\u001b[38;5;241m.\u001b[39m_close \u001b[38;5;241m=\u001b[39m \u001b[38;5;28;01mNone\u001b[39;00m\n",
      "File \u001b[0;32m/home/conda/users/dae6e0cc72969d8a896b60dbf08153ec5da18bd7e7f8353ab81736f3db5c8c21-20220617-203444-306118-62-fi_intern/lib/python3.9/site-packages/xarray/core/merge.py:488\u001b[0m, in \u001b[0;36mmerge_data_and_coords\u001b[0;34m(data, coords, compat, join)\u001b[0m\n\u001b[1;32m    486\u001b[0m explicit_coords \u001b[38;5;241m=\u001b[39m coords\u001b[38;5;241m.\u001b[39mkeys()\n\u001b[1;32m    487\u001b[0m indexes \u001b[38;5;241m=\u001b[39m \u001b[38;5;28mdict\u001b[39m(_extract_indexes_from_coords(coords))\n\u001b[0;32m--> 488\u001b[0m \u001b[38;5;28;01mreturn\u001b[39;00m \u001b[43mmerge_core\u001b[49m\u001b[43m(\u001b[49m\n\u001b[1;32m    489\u001b[0m \u001b[43m    \u001b[49m\u001b[43mobjects\u001b[49m\u001b[43m,\u001b[49m\u001b[43m \u001b[49m\u001b[43mcompat\u001b[49m\u001b[43m,\u001b[49m\u001b[43m \u001b[49m\u001b[43mjoin\u001b[49m\u001b[43m,\u001b[49m\u001b[43m \u001b[49m\u001b[43mexplicit_coords\u001b[49m\u001b[38;5;241;43m=\u001b[39;49m\u001b[43mexplicit_coords\u001b[49m\u001b[43m,\u001b[49m\u001b[43m \u001b[49m\u001b[43mindexes\u001b[49m\u001b[38;5;241;43m=\u001b[39;49m\u001b[43mindexes\u001b[49m\n\u001b[1;32m    490\u001b[0m \u001b[43m\u001b[49m\u001b[43m)\u001b[49m\n",
      "File \u001b[0;32m/home/conda/users/dae6e0cc72969d8a896b60dbf08153ec5da18bd7e7f8353ab81736f3db5c8c21-20220617-203444-306118-62-fi_intern/lib/python3.9/site-packages/xarray/core/merge.py:637\u001b[0m, in \u001b[0;36mmerge_core\u001b[0;34m(objects, compat, join, combine_attrs, priority_arg, explicit_coords, indexes, fill_value)\u001b[0m\n\u001b[1;32m    633\u001b[0m coerced \u001b[38;5;241m=\u001b[39m coerce_pandas_values(objects)\n\u001b[1;32m    634\u001b[0m aligned \u001b[38;5;241m=\u001b[39m deep_align(\n\u001b[1;32m    635\u001b[0m     coerced, join\u001b[38;5;241m=\u001b[39mjoin, copy\u001b[38;5;241m=\u001b[39m\u001b[38;5;28;01mFalse\u001b[39;00m, indexes\u001b[38;5;241m=\u001b[39mindexes, fill_value\u001b[38;5;241m=\u001b[39mfill_value\n\u001b[1;32m    636\u001b[0m )\n\u001b[0;32m--> 637\u001b[0m collected \u001b[38;5;241m=\u001b[39m \u001b[43mcollect_variables_and_indexes\u001b[49m\u001b[43m(\u001b[49m\u001b[43maligned\u001b[49m\u001b[43m)\u001b[49m\n\u001b[1;32m    639\u001b[0m prioritized \u001b[38;5;241m=\u001b[39m _get_priority_vars_and_indexes(aligned, priority_arg, compat\u001b[38;5;241m=\u001b[39mcompat)\n\u001b[1;32m    640\u001b[0m variables, out_indexes \u001b[38;5;241m=\u001b[39m merge_collected(\n\u001b[1;32m    641\u001b[0m     collected, prioritized, compat\u001b[38;5;241m=\u001b[39mcompat, combine_attrs\u001b[38;5;241m=\u001b[39mcombine_attrs\n\u001b[1;32m    642\u001b[0m )\n",
      "File \u001b[0;32m/home/conda/users/dae6e0cc72969d8a896b60dbf08153ec5da18bd7e7f8353ab81736f3db5c8c21-20220617-203444-306118-62-fi_intern/lib/python3.9/site-packages/xarray/core/merge.py:296\u001b[0m, in \u001b[0;36mcollect_variables_and_indexes\u001b[0;34m(list_of_mappings)\u001b[0m\n\u001b[1;32m    293\u001b[0m     indexes\u001b[38;5;241m.\u001b[39mpop(name, \u001b[38;5;28;01mNone\u001b[39;00m)\n\u001b[1;32m    294\u001b[0m     append_all(coords, indexes)\n\u001b[0;32m--> 296\u001b[0m variable \u001b[38;5;241m=\u001b[39m \u001b[43mas_variable\u001b[49m\u001b[43m(\u001b[49m\u001b[43mvariable\u001b[49m\u001b[43m,\u001b[49m\u001b[43m \u001b[49m\u001b[43mname\u001b[49m\u001b[38;5;241;43m=\u001b[39;49m\u001b[43mname\u001b[49m\u001b[43m)\u001b[49m\n\u001b[1;32m    298\u001b[0m \u001b[38;5;28;01mif\u001b[39;00m variable\u001b[38;5;241m.\u001b[39mdims \u001b[38;5;241m==\u001b[39m (name,):\n\u001b[1;32m    299\u001b[0m     idx_variable \u001b[38;5;241m=\u001b[39m variable\u001b[38;5;241m.\u001b[39mto_index_variable()\n",
      "File \u001b[0;32m/home/conda/users/dae6e0cc72969d8a896b60dbf08153ec5da18bd7e7f8353ab81736f3db5c8c21-20220617-203444-306118-62-fi_intern/lib/python3.9/site-packages/xarray/core/variable.py:139\u001b[0m, in \u001b[0;36mas_variable\u001b[0;34m(obj, name)\u001b[0m\n\u001b[1;32m    137\u001b[0m     obj \u001b[38;5;241m=\u001b[39m Variable(obj\u001b[38;5;241m.\u001b[39mname, obj)\n\u001b[1;32m    138\u001b[0m \u001b[38;5;28;01melif\u001b[39;00m \u001b[38;5;28misinstance\u001b[39m(obj, (\u001b[38;5;28mset\u001b[39m, \u001b[38;5;28mdict\u001b[39m)):\n\u001b[0;32m--> 139\u001b[0m     \u001b[38;5;28;01mraise\u001b[39;00m \u001b[38;5;167;01mTypeError\u001b[39;00m(\u001b[38;5;124m\"\u001b[39m\u001b[38;5;124mvariable \u001b[39m\u001b[38;5;132;01m{!r}\u001b[39;00m\u001b[38;5;124m has invalid type \u001b[39m\u001b[38;5;132;01m{!r}\u001b[39;00m\u001b[38;5;124m\"\u001b[39m\u001b[38;5;241m.\u001b[39mformat(name, \u001b[38;5;28mtype\u001b[39m(obj)))\n\u001b[1;32m    140\u001b[0m \u001b[38;5;28;01melif\u001b[39;00m name \u001b[38;5;129;01mis\u001b[39;00m \u001b[38;5;129;01mnot\u001b[39;00m \u001b[38;5;28;01mNone\u001b[39;00m:\n\u001b[1;32m    141\u001b[0m     data \u001b[38;5;241m=\u001b[39m as_compatible_data(obj)\n",
      "\u001b[0;31mTypeError\u001b[0m: variable 'coords' has invalid type <class 'dict'>"
     ]
    }
   ],
   "source": [
    "by_region()"
   ]
  },
  {
   "cell_type": "code",
   "execution_count": null,
   "id": "2e0242a8-6c68-4c42-9c82-a5cd6178a2e4",
   "metadata": {},
   "outputs": [],
   "source": []
  }
 ],
 "metadata": {
  "kernelspec": {
   "display_name": "users-fi_intern",
   "language": "python",
   "name": "conda-env-users-fi_intern-py"
  },
  "language_info": {
   "codemirror_mode": {
    "name": "ipython",
    "version": 3
   },
   "file_extension": ".py",
   "mimetype": "text/x-python",
   "name": "python",
   "nbconvert_exporter": "python",
   "pygments_lexer": "ipython3",
   "version": "3.9.7"
  }
 },
 "nbformat": 4,
 "nbformat_minor": 5
}
