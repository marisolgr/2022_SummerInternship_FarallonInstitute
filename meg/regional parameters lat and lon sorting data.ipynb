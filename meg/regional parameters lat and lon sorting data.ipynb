{
 "cells": [
  {
   "cell_type": "code",
   "execution_count": 1,
   "id": "88f2e696-7924-4833-8fd2-31916319602a",
   "metadata": {},
   "outputs": [],
   "source": [
    "import numpy as np\n",
    "import pandas as pd\n",
    "import xarray as xr\n",
    "import matplotlib.pyplot as plt \n",
    "import datetime as dt\n",
    "import cartopy.feature as cfeature\n",
    "import cartopy.crs as ccrs\n",
    "import warnings \n",
    "import matplotlib.dates as mdates\n",
    "import glob\n",
    "import os\n",
    "\n",
    "warnings.simplefilter('ignore') \n",
    "\n",
    "from cartopy.mpl.ticker import LongitudeFormatter, LatitudeFormatter\n",
    "from calendar import month_abbr"
   ]
  },
  {
   "cell_type": "code",
   "execution_count": 2,
   "id": "27153568-197e-482b-9714-6b57a2e63d2c",
   "metadata": {},
   "outputs": [
    {
     "name": "stdout",
     "output_type": "stream",
     "text": [
      "46\n"
     ]
    }
   ],
   "source": [
    "ddir = '../saildrone_data/'\n",
    "fns = glob.glob(ddir+'*.nc')\n",
    "fns\n",
    "print(len(fns))"
   ]
  },
  {
   "cell_type": "code",
   "execution_count": 8,
   "id": "80a8cf68-99d8-4570-bb5a-90b565b4bb11",
   "metadata": {},
   "outputs": [],
   "source": [
    "#Taking parameters of longitudes and latitudes and returning saildrone files that contain data w/in parameters\n",
    "def by_region ():\n",
    "    \n",
    "    #### PARAMETERS::: \n",
    "    # make sure lowerlat < upperlat since no test is done below to simplify the code\n",
    "    lowerlat = int(input('Lower latitude value: '))\n",
    "    upperlat = int(input('Upper latitude value: '))  \n",
    "    # same caution as lat, long range (-180:180)\n",
    "    lowerlong = int(input('Lower longitutde value: '))\n",
    "    upperlong = int(input('Upper longitude value: '))\n",
    "    \n",
    "    \n",
    "    \n",
    "    ### Initializing name list and length of such as 0\n",
    "    saildrone_name_list = [] \n",
    "    nameList_len = len(saildrone_name_list)\n",
    "    \n",
    "    ### Filtering data: ds2 = lat, ds3 = lon\n",
    "    for i in fns:\n",
    "        ds = xr.open_dataset(i)\n",
    "        ds2 = ds.where((ds.lat > lowerlat) & (ds.lat < upperlat), drop = True)\n",
    "        ds3 = ds2.where((ds2.lon > lowerlong) & (ds2.lon < upperlong), drop = True)  \n",
    "        #print(len(ds.lon), len(ds3.lon))\n",
    "       \n",
    "    \n",
    "        ds.close()\n",
    "        if ((len(ds3.lon) > 0)): \n",
    "            saildrone_name_list.append(i)\n",
    "    nameList_len = len(saildrone_name_list)\n",
    "    print(nameList_len)\n",
    "    return saildrone_name_list\n",
    "    \n",
    "        \n"
   ]
  },
  {
   "cell_type": "code",
   "execution_count": 7,
   "id": "ab2bc2c8-3284-4515-a1d9-7a2c31e82e61",
   "metadata": {},
   "outputs": [
    {
     "name": "stdin",
     "output_type": "stream",
     "text": [
      "Lower latitude value:  25\n",
      "Upper latitude value:  35\n",
      "Lower longitutde value:  -130\n",
      "Upper longitude value:  -115\n"
     ]
    },
    {
     "name": "stdout",
     "output_type": "stream",
     "text": [
      "0\n",
      "11\n"
     ]
    },
    {
     "data": {
      "text/plain": [
       "['../saildrone_data/saildrone_west_coast_survey_2018_sd1026_JPLv5.0_8dy_20210613norep_20210613_20211116.nc',\n",
       " '../saildrone_data/saildrone_west_coast_survey_2019_sd1047_JPLv5.0_8dy_20210613norep_20210613_20211116.nc',\n",
       " '../saildrone_data/saildrone-gen_4-shark-2018-sd1001-20180315T000000-20180529T235959-1_minutes-v1.1581626958976_JPLv5.0_8dy_20210613norep_20210613_20211116.nc',\n",
       " '../saildrone_data/saildrone_west_coast_survey_2019_sd1045_JPLv5.0_8dy_20210613norep_20210613_20211116.nc',\n",
       " '../saildrone_data/saildrone_tpos_sd1006_2017_JPLv5.0_8dy_20210613norep_20210613_20211116.nc',\n",
       " '../saildrone_data/saildrone_west_coast_survey_2018_sd1024_JPLv5.0_8dy_20210613norep_20210613_20211116.nc',\n",
       " '../saildrone_data/saildrone_tpos_sd1005_2017_JPLv5.0_8dy_20210613norep_20210613_20211116.nc',\n",
       " '../saildrone_data/saildrone-gen_4-shark-2018-sd1004-20180315T000000-20180617T235959-1_minutes-v1.1581627077777_JPLv5.0_8dy_20210613norep_20210613_20211116.nc',\n",
       " '../saildrone_data/saildrone_west_coast_survey_2019_sd1046_JPLv5.0_8dy_20210613norep_20210613_20211116.nc',\n",
       " '../saildrone_data/saildrone-gen_4-baja_2018-sd1002-20180411T180000-20180611T055959-1_minutes-v1_JPLv5.0_8dy_20210613norep_20210613_20211116.nc',\n",
       " '../saildrone_data/saildrone_west_coast_survey_2018_sd1025_JPLv5.0_8dy_20210613norep_20210613_20211116.nc']"
      ]
     },
     "execution_count": 7,
     "metadata": {},
     "output_type": "execute_result"
    }
   ],
   "source": [
    "by_region()"
   ]
  },
  {
   "cell_type": "code",
   "execution_count": null,
   "id": "2e0242a8-6c68-4c42-9c82-a5cd6178a2e4",
   "metadata": {},
   "outputs": [],
   "source": []
  }
 ],
 "metadata": {
  "kernelspec": {
   "display_name": "users-fi_intern",
   "language": "python",
   "name": "conda-env-users-fi_intern-py"
  },
  "language_info": {
   "codemirror_mode": {
    "name": "ipython",
    "version": 3
   },
   "file_extension": ".py",
   "mimetype": "text/x-python",
   "name": "python",
   "nbconvert_exporter": "python",
   "pygments_lexer": "ipython3",
   "version": "3.9.7"
  }
 },
 "nbformat": 4,
 "nbformat_minor": 5
}
