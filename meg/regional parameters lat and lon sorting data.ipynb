{
 "cells": [
  {
   "cell_type": "code",
   "execution_count": null,
   "id": "88f2e696-7924-4833-8fd2-31916319602a",
   "metadata": {},
   "outputs": [],
   "source": [
    "import numpy as np\n",
    "import pandas as pd\n",
    "import xarray as xr\n",
    "import matplotlib.pyplot as plt \n",
    "import datetime as dt\n",
    "import cartopy.feature as cfeature\n",
    "import cartopy.crs as ccrs\n",
    "import warnings \n",
    "import matplotlib.dates as mdates\n",
    "import glob\n",
    "import os\n",
    "\n",
    "warnings.simplefilter('ignore') \n",
    "\n",
    "from cartopy.mpl.ticker import LongitudeFormatter, LatitudeFormatter\n",
    "from calendar import month_abbr"
   ]
  },
  {
   "cell_type": "code",
   "execution_count": null,
   "id": "8b93369e",
   "metadata": {},
   "outputs": [],
   "source": [
    "# great job megan!\n",
    "# i think the problem is the non uniform data. i think.\n",
    "# so, lets use time not as a coordinate, but as another variable, \n",
    "# and as coordinate, use a uniformily increasing index.\n",
    "\n",
    "# then, do these next steps:\n",
    "#   - give the lat lon rrange as input arguments in the function, so we don't have to type them every time\n",
    "#   - document the function (inside the func): what it does, describe input output, author and date\n",
    "#   - make a final map with all the data for the region (inside the function)"
   ]
  },
  {
   "cell_type": "code",
   "execution_count": null,
   "id": "27153568-197e-482b-9714-6b57a2e63d2c",
   "metadata": {
    "scrolled": true
   },
   "outputs": [],
   "source": [
    "ddir = '../saildrone_data/'\n",
    "fns = glob.glob(ddir+'*.nc')\n",
    "fns"
   ]
  },
  {
   "cell_type": "code",
   "execution_count": null,
   "id": "80a8cf68-99d8-4570-bb5a-90b565b4bb11",
   "metadata": {
    "scrolled": true
   },
   "outputs": [],
   "source": [
    "#Taking parameters of longitudes and latitudes and returning saildrone files that contain data w/in parameters\n",
    "def by_region ():\n",
    "    \n",
    "    #### PARAMETERS::: \n",
    "    # make sure lowerlat < upperlat since no test is done below to simplify the code\n",
    "    lowerlat = int(input('Lower latitude value: '))\n",
    "    upperlat = int(input('Upper latitude value: '))  \n",
    "    # same caution as lat, long range (-180:180)\n",
    "    lowerlong = int(input('Lower longitutde value: '))\n",
    "    upperlong = int(input('Upper longitude value: '))\n",
    "    \n",
    "    \n",
    "    \n",
    "    ### Initializing name list and length of such as 0\n",
    "    saildrone_name_list = []\n",
    "    #nameList_len = len(saildrone_name_list)\n",
    "    ltime, llat, llon, ltemp, lsal, = list(), list(), list(), list(), list()\n",
    "    ### Filtering data: ds2 = lat, ds3 = lon\n",
    "    for i in fns:\n",
    "        ds = xr.open_dataset(i)\n",
    "        ds2 = ds.where((ds.lat > lowerlat) & (ds.lat < upperlat), drop = True)\n",
    "        ds3 = ds2.where((ds2.lon > lowerlong) & (ds2.lon < upperlong), drop = True)\n",
    "        #print(len(ds.lon), len(ds3.lon))\n",
    "        \n",
    "        \n",
    "        \n",
    "    \n",
    "        ds.close()\n",
    "        if ((len(ds3.lon) > 0)): \n",
    "            saildrone_name_list.append(i)\n",
    "            ltime.extend(ds3.time.data)\n",
    "            llat.extend(ds3.lat.data)\n",
    "            llon.extend(ds3.lon.data)\n",
    "            ltemp.extend(ds3.TEMP_CTD_MEAN.data)\n",
    "            lsal.extend(ds3.SAL_CTD_MEAN.data)\n",
    "\n",
    "    ds_new = xr.Dataset(\n",
    "        data_vars=dict(\n",
    "            latitude=(['time'], llat),\n",
    "            longitude=(['time'], llon),\n",
    "            temperature = (['time'], ltemp),\n",
    "            salinity = (['time'], lsal),\n",
    "        coords=dict(time=ltime)))\n",
    "            \n",
    "    nameList_len = len(saildrone_name_list)\n",
    "    print(nameList_len)\n",
    "    return ds_new\n",
    "    \n",
    "        \n"
   ]
  },
  {
   "cell_type": "code",
   "execution_count": null,
   "id": "3010d047",
   "metadata": {},
   "outputs": [],
   "source": [
    "ltime"
   ]
  },
  {
   "cell_type": "code",
   "execution_count": null,
   "id": "ab2bc2c8-3284-4515-a1d9-7a2c31e82e61",
   "metadata": {},
   "outputs": [],
   "source": [
    "by_region()"
   ]
  },
  {
   "cell_type": "code",
   "execution_count": null,
   "id": "2e0242a8-6c68-4c42-9c82-a5cd6178a2e4",
   "metadata": {},
   "outputs": [],
   "source": []
  }
 ],
 "metadata": {
  "kernelspec": {
   "display_name": "Python 3 (ipykernel)",
   "language": "python",
   "name": "python3"
  },
  "language_info": {
   "codemirror_mode": {
    "name": "ipython",
    "version": 3
   },
   "file_extension": ".py",
   "mimetype": "text/x-python",
   "name": "python",
   "nbconvert_exporter": "python",
   "pygments_lexer": "ipython3",
   "version": "3.9.12"
  }
 },
 "nbformat": 4,
 "nbformat_minor": 5
}
