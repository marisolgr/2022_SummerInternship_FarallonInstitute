{
 "cells": [
  {
   "cell_type": "code",
   "execution_count": null,
   "id": "b6de7472-acd5-4a9d-8bd3-383b0c3e7302",
   "metadata": {},
   "outputs": [],
   "source": [
    "ddir = '~/shared/users/mgarciareyes/saildrone_data/'\n",
    "#ddir = '../saildrone_data/'\n",
    "fn = 'saildrone_west_coast_survey_2018_sd1024_JPLv5.0_8dy_20210613norep_20210613_20211116.nc'"
   ]
  },
  {
   "cell_type": "code",
   "execution_count": null,
   "id": "08d7610b-247d-494d-b7ab-4b34c16023e6",
   "metadata": {},
   "outputs": [],
   "source": [
    "import numpy as np\n",
    "import pandas as pd\n",
    "import xarray as xr\n",
    "import matplotlib.pyplot as plt \n",
    "import datetime as dt\n",
    "import cartopy.feature as cfeature\n",
    "import cartopy.crs as ccrs\n",
    "import warnings \n",
    "import matplotlib.dates as mdates\n",
    "\n",
    "warnings.simplefilter('ignore') \n",
    "\n",
    "from cartopy.mpl.ticker import LongitudeFormatter, LatitudeFormatter\n",
    "from calendar import month_abbr"
   ]
  },
  {
   "cell_type": "code",
   "execution_count": null,
   "id": "b5563035-5747-48cc-a2cd-0b3e44ca3ef9",
   "metadata": {},
   "outputs": [],
   "source": [
    "ds = xr.open_dataset(ddir+fn)\n",
    "ds.close()\n",
    "ds"
   ]
  },
  {
   "cell_type": "code",
   "execution_count": null,
   "id": "e0000324-4355-4b18-b755-8fc1d78812a7",
   "metadata": {},
   "outputs": [],
   "source": [
    "default_x_ticks"
   ]
  },
  {
   "cell_type": "code",
   "execution_count": null,
   "id": "67f34e64-b244-4125-9189-e067431373f0",
   "metadata": {},
   "outputs": [],
   "source": [
    "### Plotting trajectory\n",
    "#define latitude and longitude boundaries\n",
    "latr = [min(ds['lat']), max(ds['lat'])] \n",
    "lonr = [max(ds['lon']), min(ds['lon'])] \n",
    "\n",
    "# Select a region of our data, giving it a margin\n",
    "margin = 0.5 \n",
    "region = np.array([[latr[0]-margin,latr[1]+margin],[lonr[0]+margin,lonr[1]-margin]]) \n",
    "\n",
    "#add state outlines\n",
    "states_provinces = cfeature.NaturalEarthFeature(\n",
    "        category='cultural',\n",
    "        name='admin_1_states_provinces_lines',\n",
    "        scale='50m',\n",
    "        facecolor='none')\n",
    "\n",
    "# Create and set the figure context\n",
    "fig = plt.figure(figsize=(16,10), dpi = 72) \n",
    "ax = plt.axes(projection=ccrs.PlateCarree()) \n",
    "ax.coastlines(resolution='10m',linewidth=1,color='black') \n",
    "ax.add_feature(cfeature.LAND, color='grey', alpha=0.3)\n",
    "ax.add_feature(states_provinces, linewidth = 0.5)\n",
    "ax.add_feature(cfeature.BORDERS)\n",
    "ax.set_extent([region[1,0],region[1,1],region[0,0],region[0,1]],crs=ccrs.PlateCarree()) \n",
    "ax.set_xticks(np.round([*np.arange(region[1,1],region[1,0]+1,2)][::-1],0), crs=ccrs.PlateCarree()) \n",
    "ax.set_yticks(np.round([*np.arange(region[0,0],region[0,1]+1,1)],0), crs=ccrs.PlateCarree()) \n",
    "ax.xaxis.set_major_formatter(LongitudeFormatter(zero_direction_label=True))\n",
    "ax.yaxis.set_major_formatter(LatitudeFormatter())\n",
    "ax.gridlines(linestyle = '--', linewidth = 0.5)\n",
    "\n",
    "\n",
    "\n",
    "\n",
    "ds['date'] = mdates.date2num(ds['time'].dt.date)\n",
    "\n",
    "\n",
    "default_x_ticks = range(0,len(ds['time']),divmod(len(ds['time']), 10)[0]) #selects out 10 evenly spaced dates from the data\n",
    "### Creating Date\n",
    "\n",
    "loc = mdates.AutoDateLocator()\n",
    "sc = plt.scatter(x = ds['lon'], y = ds['lat'], c=ds['date'], cmap = 'jet') \n",
    "# sc = plt.scatter(x = ds['lon'], y = ds['lat'], c = ds['time'], cmap='jet')\n",
    "#plt.plot(sail['lon'], sail['lat'], ls = ':', c = 'navy', alpha = 0.4)\n",
    "clb = fig.colorbar(sc, ticks=loc, format=mdates.AutoDateFormatter(loc))\n",
    "clb.ax.set_title('Date')\n",
    "# clb.set_ticks(ds['date'][default_x_ticks])\n",
    "# clb.set_ticklabels(ds['time'].dt.date[default_x_ticks].values)\n",
    "# Plot track data, color by temperature\n",
    "#title\n",
    "plt.title('Trajectory of Cruise', fontdict = {'fontsize' : 20})\n",
    "\n",
    "\n",
    "\n",
    "\n",
    "# clb = fig.colorbar(sc, ticks=loc)\n",
    "# clb.ax.set_title('Date')\n",
    "# clb.set_ticks(ds['time'][default_x_ticks])\n",
    "# clb.set_ticklabels(ds['time'].dt.date.values)\n",
    "plt.title('Sampling Track for Cruise', fontdict = {'fontsize' : 16})\n",
    "plt.show()"
   ]
  },
  {
   "cell_type": "code",
   "execution_count": null,
   "id": "159d8e58-78ee-4799-ba60-0d3145010e0a",
   "metadata": {},
   "outputs": [],
   "source": []
  }
 ],
 "metadata": {
  "kernelspec": {
   "display_name": "Python 3 (ipykernel)",
   "language": "python",
   "name": "python3"
  },
  "language_info": {
   "codemirror_mode": {
    "name": "ipython",
    "version": 3
   },
   "file_extension": ".py",
   "mimetype": "text/x-python",
   "name": "python",
   "nbconvert_exporter": "python",
   "pygments_lexer": "ipython3",
   "version": "3.9.12"
  }
 },
 "nbformat": 4,
 "nbformat_minor": 5
}
