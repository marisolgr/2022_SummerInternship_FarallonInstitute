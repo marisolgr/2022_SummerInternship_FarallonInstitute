{
 "cells": [
  {
   "cell_type": "markdown",
   "id": "86368388-8f03-4c17-a328-5b26640e9839",
   "metadata": {
    "tags": []
   },
   "source": [
    "# Chlorophyll Project - NAN Method\n",
    "#### There are seventy seabird observational sites across the globe. We want to gather chlorophyll data for a 1km diameter around these points, in a circle.\n",
    "#### This method will use a distance function to only render points within a 300km diameter range around any seabird site."
   ]
  },
  {
   "cell_type": "code",
   "execution_count": null,
   "id": "bd9c20b5",
   "metadata": {},
   "outputs": [],
   "source": [
    "import os\n",
    "import numpy as np\n",
    "import pandas as pd\n",
    "import xarray as xr\n",
    "import matplotlib\n",
    "import matplotlib.pyplot as plt\n",
    "\n",
    "#load map packages\n",
    "from cartopy.mpl.ticker import LongitudeFormatter, LatitudeFormatter\n",
    "import cartopy.feature as cfeature\n",
    "import cartopy.crs as ccrs"
   ]
  },
  {
   "cell_type": "code",
   "execution_count": null,
   "id": "662cb34b",
   "metadata": {},
   "outputs": [],
   "source": [
    "# make a function (called below) that makes a mask (2d dataset where values to retain are set to 1 and others to nan)\n",
    "# for a 300km radius area around a given lat/lon pair. \n",
    "# note that the area in km is not the same as area in degrees. longitude degrees change distance with latitude."
   ]
  },
  {
   "cell_type": "code",
   "execution_count": null,
   "id": "a69d0bbf",
   "metadata": {
    "scrolled": true
   },
   "outputs": [],
   "source": [
    "# if acquiring for the first time (1)\n",
    "ds_color = xr.open_dataset('https://rsg.pml.ac.uk/thredds/dodsC/CCI_ALL-v5.0-MONTHLY')"
   ]
  },
  {
   "cell_type": "code",
   "execution_count": null,
   "id": "fa5ef0b7-3540-4f80-9f16-38940869feb0",
   "metadata": {},
   "outputs": [],
   "source": [
    "# open CSV\n",
    "locs = pd.read_csv('../NSF_Seabirdsloc_Summer2022.csv')\n",
    "sites = locs['Site']\n",
    "\n",
    "# for now, let's take an input. later it will be a function\n",
    "site = input(\"Input Desired Site\")\n",
    "if (site == \"\"):\n",
    "    site = 'Adams'\n",
    "sites = sites.tolist()\n",
    "\n",
    "lon = locs.loc[[sites.index(site)]]['Longitude']\n",
    "lat = locs.loc[[sites.index(site)]]['Latitude']\n",
    "\n",
    "print(\"Working site \" + site)"
   ]
  },
  {
   "cell_type": "code",
   "execution_count": null,
   "id": "598f493f",
   "metadata": {
    "tags": []
   },
   "outputs": [],
   "source": [
    "# open CSV\n",
    "# for each location, select a region +-5 deg, all times\n",
    "dist = 2.702; # 300 km range\n",
    "lats = [float(lat-dist), float(lat+dist)]\n",
    "lons = [float(lon-dist), float(lon+dist)]\n",
    "\n",
    "data = ds_color['chlor_a'][291].sel(\n",
    "    lon = slice(lons[0], lons[1]),\n",
    ").load()\n",
    "\n",
    "# Select a region of our data\n",
    "fig = plt.figure(figsize=(16,10), dpi = 72)\n",
    "ax = plt.axes(projection=ccrs.PlateCarree())\n",
    "\n",
    "\n",
    "region = np.array([[lats[0],lats[1]],[lons[0],lons[1]]]) \n",
    "\n",
    "states_provinces = cfeature.NaturalEarthFeature(\n",
    "        category='cultural',\n",
    "        name='admin_1_states_provinces_lines',\n",
    "        scale='50m',\n",
    "        facecolor='none')\n",
    "\n",
    "ax.coastlines(resolution='10m',linewidth=1,color='black')\n",
    "ax.add_feature(cfeature.LAND, color='grey', alpha=0.3)\n",
    "ax.add_feature(states_provinces, linewidth = 0.5)\n",
    "ax.add_feature(cfeature.BORDERS, color = 'black')\n",
    "ax.set_extent([region[1,0],region[1,1],region[0,0],region[0,1]],crs=ccrs.PlateCarree()) \n",
    "ax.xaxis.set_major_formatter(LongitudeFormatter(zero_direction_label=True))\n",
    "ax.yaxis.set_major_formatter(LatitudeFormatter())\n",
    "ax.gridlines(linestyle = '--', linewidth = 0.5)\n",
    "\n",
    "#plot diff data\n",
    "plt.title(\"Seabird Observation Locations\")\n",
    "\n",
    "#print lats and lons range\n",
    "print(\"Mapping between \" + str(lats[0]) + \" and \" + str(lats[1]))\n",
    "print(\"Mapping between \" + str(lons[0]) + \" and \" + str(lons[1]))\n",
    "\n",
    "# get the distance between two points of lat,lon in km\n",
    "def distance(lat1, lon1, lat2, lon2):\n",
    "    p = 0.017453292519943295 # Pi/180\n",
    "    a = 0.5 - np.cos((lat2 - lat1) * p)/2 + np.cos(lat1 * p) * np.cos(lat2 * p) * (1 - np.cos((lon2 - lon1) * p)) / 2\n",
    "    d = 12742 * np.arcsin(np.sqrt(a)) # 2*R*asin...\n",
    "    if (np.random.randint(0, 100000) == 1):\n",
    "        print(\"Iterating on unit with distance \" + str(d))\n",
    "    return d\n",
    "\n",
    "latPos = lat.values.item()\n",
    "lonPos = lon.values.item()\n",
    "# plot values only that are within 300 units of the (lat, lon)\n",
    "for i in range(len(data.lat)):\n",
    "    for j in range(len(data.lon)):\n",
    "        thisLat = data.lat[i].item()\n",
    "        thisLon = data.lon[j].item()\n",
    "        if (distance(thisLat, thisLon, latPos, lonPos) >= 300):\n",
    "           data.values[i][j] = np.nan\n",
    "\n",
    "data.plot()\n",
    "\n",
    "# pick a random point in the data, and calculate its distance to the site.\n",
    "\n",
    "# take a mean in space, and store the time series into a numpy array\n",
    "\n",
    "# save the arrays as dataarray in a dataset\n",
    "\n",
    "# add locations as other variables \n",
    "\n",
    "plt.show()"
   ]
  },
  {
   "cell_type": "code",
   "execution_count": null,
   "id": "20d77c56",
   "metadata": {},
   "outputs": [],
   "source": [
    "# save the file into a netcdf\n"
   ]
  }
 ],
 "metadata": {
  "kernelspec": {
   "display_name": "Python 3 (ipykernel)",
   "language": "python",
   "name": "python3"
  },
  "language_info": {
   "codemirror_mode": {
    "name": "ipython",
    "version": 3
   },
   "file_extension": ".py",
   "mimetype": "text/x-python",
   "name": "python",
   "nbconvert_exporter": "python",
   "pygments_lexer": "ipython3",
   "version": "3.9.12"
  },
  "vscode": {
   "interpreter": {
    "hash": "bba63d4417749d2564cd5e16d41cd7c72cfe0051137cf60970c5f7a32dfe15aa"
   }
  }
 },
 "nbformat": 4,
 "nbformat_minor": 5
}
