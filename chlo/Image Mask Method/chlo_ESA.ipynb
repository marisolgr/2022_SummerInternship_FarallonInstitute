{
 "cells": [
  {
   "cell_type": "markdown",
   "id": "86368388-8f03-4c17-a328-5b26640e9839",
   "metadata": {
    "tags": []
   },
   "source": [
    "# Chlorophyll Project\n",
    "#### There are seventy seabird observational sites across the globe. We want to gather chlorophyll data for a 1km diameter around these points, in a circle."
   ]
  },
  {
   "cell_type": "code",
   "execution_count": 1,
   "id": "bd9c20b5",
   "metadata": {},
   "outputs": [],
   "source": [
    "import os\n",
    "import numpy as np\n",
    "import pandas as pd\n",
    "import xarray as xr\n",
    "import matplotlib\n",
    "matplotlib.use('Agg')\n",
    "\n",
    "import matplotlib.pyplot as plt\n",
    "import matplotlib.cbook as cbook\n",
    "\n",
    "#load map packages\n",
    "from cartopy.mpl.ticker import LongitudeFormatter, LatitudeFormatter\n",
    "import cartopy.feature as cfeature\n",
    "import cartopy.crs as ccrs\n",
    "from matplotlib.offsetbox import AnnotationBbox, OffsetImage\n",
    "from PIL import Image"
   ]
  },
  {
   "cell_type": "code",
   "execution_count": 2,
   "id": "662cb34b",
   "metadata": {},
   "outputs": [],
   "source": [
    "# make a function (called below) that makes a mask (2d dataset where values to retain are set to 1 and others to nan)\n",
    "# for a 300km radius area around a given lat/lon pair. \n",
    "# note that the area in km is not the same as area in degrees. longitude degrees change distance with latitude."
   ]
  },
  {
   "cell_type": "code",
   "execution_count": 3,
   "id": "a69d0bbf",
   "metadata": {
    "scrolled": true
   },
   "outputs": [],
   "source": [
    "# if acquiring for the first time (1)\n",
    "ds_color = xr.open_dataset('https://rsg.pml.ac.uk/thredds/dodsC/CCI_ALL-v5.0-MONTHLY')"
   ]
  },
  {
   "cell_type": "code",
   "execution_count": 4,
   "id": "fa5ef0b7-3540-4f80-9f16-38940869feb0",
   "metadata": {},
   "outputs": [
    {
     "name": "stdout",
     "output_type": "stream",
     "text": [
      "Working site Adams\n"
     ]
    }
   ],
   "source": [
    "# open CSV\n",
    "locs = pd.read_csv('../NSF_Seabirdsloc_Summer2022.csv')\n",
    "sites = locs['Site']\n",
    "\n",
    "# for now, let's take an input. later it will be a function\n",
    "site = input(\"Input Desired Site\")\n",
    "if (site == \"\"):\n",
    "    site = 'Adams'\n",
    "sites = sites.tolist()\n",
    "\n",
    "lon = locs.loc[[sites.index(site)]]['Longitude']\n",
    "lat = locs.loc[[sites.index(site)]]['Latitude']\n",
    "\n",
    "print(\"Working site \" + site)"
   ]
  },
  {
   "cell_type": "code",
   "execution_count": 5,
   "id": "7e1ccf96",
   "metadata": {},
   "outputs": [],
   "source": [
    "# simple deg2rad\n",
    "def radians(degrees):\n",
    "    return degrees * Math.pi / 180\n",
    "\n",
    "# gets distance between two points in longitude and latitude space\n",
    "def getDistance(lat1, lon1, lat2, lon2):\n",
    "    R = 6371 # Radius of the earth in km\n",
    "    dLat = radians(lat2-lat1)\n",
    "    dLon = radians(lon2-lon1)\n",
    "    a = np.sin(dLat/2) * np.sin(dLat/2) + np.cos(radians(lat1)) * np.cos(radians(lat2)) * np.sin(dLon/2) * np.sin(dLon/2)\n",
    "    c = 2 * np.arctan2(np.sqrt(a), np.sqrt(1-a))\n",
    "    d = R * c # Distance in km\n",
    "    return d"
   ]
  },
  {
   "cell_type": "code",
   "execution_count": 14,
   "id": "598f493f",
   "metadata": {
    "tags": []
   },
   "outputs": [
    {
     "name": "stdout",
     "output_type": "stream",
     "text": [
      "Mapping between -53.6047 and -48.200700000000005\n",
      "Mapping between 163.2998 and 168.7038\n",
      "Output saved to folder as graph.png\n"
     ]
    }
   ],
   "source": [
    "# open CSV\n",
    "# for each location, select a region +-5 deg, all times\n",
    "dist = 2.702; # 300 km range\n",
    "lats = [float(lat-dist), float(lat+dist)]\n",
    "lons = [float(lon-dist), float(lon+dist)]\n",
    "\n",
    "data = ds_color['chlor_a'][291].sel(\n",
    "    lon = slice(lons[0], lons[1])\n",
    ").load()\n",
    "\n",
    "# Select a region of our data\n",
    "fig = plt.figure(figsize=(16,10), dpi = 72)\n",
    "ax = plt.axes(projection=ccrs.PlateCarree())\n",
    "\n",
    "\n",
    "region = np.array([[lats[0],lats[1]],[lons[0],lons[1]]]) \n",
    "\n",
    "states_provinces = cfeature.NaturalEarthFeature(\n",
    "        category='cultural',\n",
    "        name='admin_1_states_provinces_lines',\n",
    "        scale='50m')\n",
    "\n",
    "ax.coastlines(resolution='10m',linewidth=1,color='black')\n",
    "ax.add_feature(cfeature.LAND, color='grey', alpha=0.3)\n",
    "ax.add_feature(states_provinces, linewidth = 0.5)\n",
    "ax.add_feature(cfeature.BORDERS, color = 'black')\n",
    "ax.set_extent([region[1,0],region[1,1],region[0,0],region[0,1]],crs=ccrs.PlateCarree()) \n",
    "ax.xaxis.set_major_formatter(LongitudeFormatter(zero_direction_label=True))\n",
    "ax.yaxis.set_major_formatter(LatitudeFormatter())\n",
    "ax.gridlines(linestyle = '--', linewidth = 0.5)\n",
    "\n",
    "#plot diff data\n",
    "plt.title(\"Seabird Observation Locations\")\n",
    "\n",
    "#print lats and lons range\n",
    "print(\"Mapping between \" + str(lats[0]) + \" and \" + str(lats[1]))\n",
    "print(\"Mapping between \" + str(lons[0]) + \" and \" + str(lons[1]))\n",
    "\n",
    "\n",
    "data.plot(cmap=\"viridis\")\n",
    "\n",
    "\n",
    "# plot point\n",
    "\n",
    "# UNCOMMENT for location labels\n",
    "# for x in range( len( locs[\"Longitude\"] ) ): \n",
    "#     plt.text(\n",
    "#         locs[\"Longitude\"][x], locs[\"Latitude\"][x],\n",
    "#         locs[\"Site\"][x] + \", \" + locs[\"Location\"][x],\n",
    "#         ha='center')\n",
    "\n",
    "# call mask function \n",
    "\n",
    "# pick a random point in the data, and calculate its distance to the site.\n",
    "\n",
    "# take a mean in space, and store the time series into a numpy array\n",
    "\n",
    "# save the arrays as dataarray in a dataset\n",
    "\n",
    "# add locations as other variables \n",
    "\n",
    "#get path\n",
    "path = os.getcwd() + \"\\\\\"\n",
    "\n",
    "plt.savefig(path + 'graph.png', dpi=72, bbox_inches='tight', pad_inches=0)\n",
    "\n",
    "background = Image.open(path + \"graph.png\").convert(\"RGBA\")\n",
    "base = Image.new(\"RGBA\", background.size, \"WHITE\")\n",
    "foreground = Image.open(path + \"assets/overlay.png\").convert(\"RGBA\")\n",
    "\n",
    "base.paste(background, (0, 0), background)\n",
    "base.paste(foreground, (0, 0), foreground)\n",
    "base.save(\"../output/graph.png\")\n",
    "# base.show()\n",
    "# display(background)\n",
    "print(\"Output saved to folder as graph.png\")"
   ]
  },
  {
   "cell_type": "code",
   "execution_count": 7,
   "id": "20d77c56",
   "metadata": {},
   "outputs": [],
   "source": [
    "# save the file into a netcdf\n"
   ]
  }
 ],
 "metadata": {
  "kernelspec": {
   "display_name": "Python 3.10.4 ('local_fi')",
   "language": "python",
   "name": "python3"
  },
  "language_info": {
   "codemirror_mode": {
    "name": "ipython",
    "version": 3
   },
   "file_extension": ".py",
   "mimetype": "text/x-python",
   "name": "python",
   "nbconvert_exporter": "python",
   "pygments_lexer": "ipython3",
   "version": "3.7.13"
  },
  "vscode": {
   "interpreter": {
    "hash": "bba63d4417749d2564cd5e16d41cd7c72cfe0051137cf60970c5f7a32dfe15aa"
   }
  }
 },
 "nbformat": 4,
 "nbformat_minor": 5
}
