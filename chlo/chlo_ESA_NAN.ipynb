{
 "cells": [
  {
   "cell_type": "markdown",
   "id": "86368388-8f03-4c17-a328-5b26640e9839",
   "metadata": {
    "tags": []
   },
   "source": [
    "# Chlorophyll Project - NAN Method\n",
    "#### There are seventy seabird observational sites across the globe. We want to gather chlorophyll data for a 1km diameter around these points, in a circle.\n",
    "#### This method will use a distance function to only render points within a 300km diameter range around any seabird site."
   ]
  },
  {
   "cell_type": "code",
   "execution_count": null,
   "id": "bd9c20b5",
   "metadata": {},
   "outputs": [],
   "source": [
    "import os\n",
    "import numpy as np\n",
    "import pandas as pd\n",
    "import xarray as xr\n",
    "import matplotlib\n",
    "import matplotlib.pyplot as plt\n",
    "import geopy.distance\n",
    "\n",
    "#load map packages\n",
    "from cartopy.mpl.ticker import LongitudeFormatter, LatitudeFormatter\n",
    "import cartopy.feature as cfeature\n",
    "import cartopy.crs as ccrs"
   ]
  },
  {
   "cell_type": "code",
   "execution_count": null,
   "id": "662cb34b",
   "metadata": {},
   "outputs": [],
   "source": [
    "# make a function (called below) that makes a mask (2d dataset where values to retain are set to 1 and others to nan)\n",
    "# for a 300km radius area around a given lat/lon pair. \n",
    "# note that the area in km is not the same as area in degrees. longitude degrees change distance with latitude."
   ]
  },
  {
   "cell_type": "code",
   "execution_count": null,
   "id": "a69d0bbf",
   "metadata": {
    "scrolled": true
   },
   "outputs": [],
   "source": [
    "# if acquiring for the first time (1)\n",
    "ds_color = xr.open_dataset('https://rsg.pml.ac.uk/thredds/dodsC/CCI_ALL-v5.0-MONTHLY')"
   ]
  },
  {
   "cell_type": "code",
   "execution_count": null,
   "id": "fa5ef0b7-3540-4f80-9f16-38940869feb0",
   "metadata": {},
   "outputs": [],
   "source": [
    "# open CSV\n",
    "locs = pd.read_csv('../NSF_Seabirdsloc_Summer2022.csv')\n",
    "sites = locs['Site']\n",
    "\n",
    "# random site\n",
    "site = sites[np.random.randint(0,len(sites))]\n",
    "# if (site == \"\"):\n",
    "#     site = 'Adams'\n",
    "sites = sites.tolist()\n",
    "\n",
    "lon = locs.loc[[sites.index(site)]]['Longitude']\n",
    "lat = locs.loc[[sites.index(site)]]['Latitude']\n",
    "\n",
    "print(\"Working site \" + site)"
   ]
  },
  {
   "cell_type": "code",
   "execution_count": null,
   "id": "598f493f",
   "metadata": {
    "tags": []
   },
   "outputs": [],
   "source": [
    "# open CSV\n",
    "\n",
    "# copy to prevent overwriting\n",
    "def findSiteAvgLevel(site, plot=False):\n",
    "    data = ds_color.copy()\n",
    "\n",
    "    # for each location, select a region +-5 deg, all times\n",
    "    lats = [float(lat-5), float(lat+5)]\n",
    "    lons = [float(lon-5), float(lon+5)]\n",
    "\n",
    "    data = data['chlor_a'][291].sel(\n",
    "        lon = slice(lons[0], lons[1]),\n",
    "        lat = slice(lats[1], lats[0])\n",
    "    ).load()\n",
    "\n",
    "    # DEBUG: print lats and lons range\n",
    "    # print(\"Mapping between \" + str(lats[0]) + \" and \" + str(lats[1]))\n",
    "    # print(\"Mapping between \" + str(lons[0]) + \" and \" + str(lons[1]))\n",
    "\n",
    "    # get the distance between two points of lat,lon in km (from point 0 on equator)\n",
    "    def fromEquatorDistance(lat1, lon1, lat2, lon2):\n",
    "        p = 0.017453292519943295 # Pi/180\n",
    "        a = 0.5 - np.cos((lat2 - lat1) * p)/2 + np.cos(lat1 * p) * np.cos(lat2 * p) * (1 - np.cos((lon2 - lon1) * p)) / 2\n",
    "        d = 12742 * np.arcsin(np.sqrt(a)) # 2*R*asin...\n",
    "        return d\n",
    "\n",
    "    latPos = lat.values.item()\n",
    "    lonPos = lon.values.item()\n",
    "    # plot values only that are within 300 units of the (lat, lon)\n",
    "    sumChLevels = 0;\n",
    "    totalPointsInRange = 0;\n",
    "    for i in range(len(data.lat)):\n",
    "        for j in range(len(data.lon)):\n",
    "            thisLat = data.lat[i].item()\n",
    "            thisLon = data.lon[j].item()\n",
    "\n",
    "            # This method uses the great circle method, using a spherical model of the earth to calculate distance.\n",
    "            # It is 20x faster than geopy.distance.distance(), but is notably less accurate,\n",
    "            # with a 0.5% error.\n",
    "            # While most likely unnecessary, this method is included for completeness.\n",
    "            # if (geopy.distance.distance((thisLat, thisLon), (latPos, lonPos)).km >= 300):\n",
    "            #    data.values[i][j] = np.nan\n",
    "\n",
    "            if (geopy.distance.great_circle((thisLat, thisLon), (latPos, lonPos)).km >= 300):\n",
    "               data.values[i][j] = np.nan\n",
    "            else:\n",
    "                pt = data.values[i][j]\n",
    "                #nan\n",
    "                if (str(pt) == \"nan\"):\n",
    "                    continue;\n",
    "                sumChLevels += data.values[i][j].item()\n",
    "                totalPointsInRange += 1\n",
    "\n",
    "    avgChLevel = sumChLevels/totalPointsInRange\n",
    "\n",
    "    region = np.array([\n",
    "        [\n",
    "            data.lat.min().values.item(),\n",
    "            data.lat.max().values.item()\n",
    "        ],\n",
    "        [\n",
    "            data.lon.min().values.item(),\n",
    "            data.lon.max().values.item()\n",
    "        ]\n",
    "    ]) \n",
    "\n",
    "    # # If you want a graph for the site, uncomment below:\n",
    "    if (plot == True):\n",
    "    # # Select a region of our data\n",
    "        fig = plt.figure(figsize=(16,10), dpi = 72)\n",
    "        ax = plt.axes(projection=ccrs.PlateCarree())\n",
    "\n",
    "\n",
    "\n",
    "        states_provinces = cfeature.NaturalEarthFeature(\n",
    "            category='cultural',\n",
    "            name='admin_1_states_provinces_lines',\n",
    "            scale='50m',\n",
    "            facecolor='none')\n",
    "        ax.coastlines(resolution='10m',linewidth=1,color='black')\n",
    "        ax.add_feature(cfeature.LAND, color='grey', alpha=0.3)\n",
    "        ax.add_feature(states_provinces, linewidth = 0.5)\n",
    "        ax.add_feature(cfeature.BORDERS, color = 'black')\n",
    "        ax.xaxis.set_major_formatter(LongitudeFormatter(zero_direction_label=True))\n",
    "        ax.yaxis.set_major_formatter(LatitudeFormatter())\n",
    "        ax.gridlines(linestyle = '--', linewidth = 0.5)    #plot diff data\n",
    "        plt.title(\"Seabird Observation Locations\")\n",
    "        ax.set_extent([region[1,0],region[1,1],region[0,0],region[0,1]],crs=ccrs.PlateCarree())\n",
    "        data.plot()\n",
    "        plt.show()\n",
    "\n",
    "    return avgChLevel\n",
    "\n",
    "    # pick a random point in the data, and calculate its distance to the site.\n",
    "\n",
    "    # take a mean in space, and store the time series into a numpy array\n",
    "\n",
    "    # save the arrays as dataarray in a dataset\n",
    "\n",
    "    # add locations as other variables "
   ]
  },
  {
   "cell_type": "code",
   "execution_count": null,
   "id": "71af8960",
   "metadata": {},
   "outputs": [],
   "source": [
    "# Example Usage: Find the average chlorophyll level for a specific site\n",
    "# (and plot the data if you want)\n",
    "findSiteAvgInLevel(sites.index(\"Adams\"), plot=True)\n",
    "# Example Usage: Find the average chlorophyll level for every site\n",
    "for x in range(len(sites)):\n",
    "    chl = findSiteAvgLevel(sites[x])\n",
    "    print(sites[x] + \": \" + str(chl))"
   ]
  }
 ],
 "metadata": {
  "kernelspec": {
   "display_name": "Python 3 (ipykernel)",
   "language": "python",
   "name": "python3"
  },
  "language_info": {
   "codemirror_mode": {
    "name": "ipython",
    "version": 3
   },
   "file_extension": ".py",
   "mimetype": "text/x-python",
   "name": "python",
   "nbconvert_exporter": "python",
   "pygments_lexer": "ipython3",
   "version": "3.9.12"
  },
  "vscode": {
   "interpreter": {
    "hash": "bba63d4417749d2564cd5e16d41cd7c72cfe0051137cf60970c5f7a32dfe15aa"
   }
  }
 },
 "nbformat": 4,
 "nbformat_minor": 5
}
