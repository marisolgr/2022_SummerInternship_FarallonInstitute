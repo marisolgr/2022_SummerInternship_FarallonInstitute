{
 "cells": [
  {
   "cell_type": "markdown",
   "id": "cbb494c1-142b-4a27-a157-3dad6c4adb32",
   "metadata": {},
   "source": [
    "# Using ESIPFED QHUB as Cloud Server for Python\n",
    "\n",
    "The QHUB through ESIPFED allows you to program in the cloud. This can save resources on your current computer by not needing to download Python, the necessary packages, or the data. All of this is saved in your home folder. \n",
    "\n",
    "## Steps to working in QHUB\n",
    "\n",
    "### 1. Sign in to the website using GitHub credentials. \n",
    "\n",
    "Go to the [QHUB website](https://jupyter.qhub.esipfed.org/hub/login) [htpps://jupter.qhub.espifed.org/hub/longin] and select the \"Sign in with Keycloak\" button while will take you to another page. On this page, just select the option at the bottom to sign in with GitHub. \n",
    "\n",
    "### 2. Start server \n",
    "\n",
    "There will be an button saying \"Start My Server\". Select that and then select the size of the instance you want to start. The size of the instance will depend on your computer's hardware, but you likely won't need a large instance. For simple tasks a small instance is more than enough, but if you're working with large data that you need to read in then a medium instance might be more efficient. Upon selecting the instance size and clicking start, it will take the screen a minute to load the server but then you will be loaded into a Jupyter Lab environment. \n",
    "\n",
    "### 3. Start a new notebook\n",
    "\n",
    "The launcher screen will appear and you will have many options to. Navigate to the folder you want to work in on the lefthand panel and then select the option under the Notebook Section and then button for \"users-fi_intern\" to start a new notebook with the environment set up for this internship. To change the kernel of an existing notebook, look in the upper right hand corner and there will be four buttons. The first is labeled interface, here you can switch from the Jupyter Lab environment to Jupyter Notebook. The second is a little bug icon which enable the debug mode. The third button will like the current kernel and here is where you can change the kernel/environment. \n",
    "\n",
    "The environment (which you can view in the GitHub for the trainings) lists the packages installed and their versions. If you need to use a package not listed in this environment, let us know so we can get it added. \n",
    "\n",
    "### 4. Using GitHub\n",
    "\n",
    "There is the option to use the GitHub interface built into the QHUB, but it is probably easier to use the command line. To do this, open up a command line either through the launcher or go to File > New > Console. From here, follow the instructions from Chapter 3 of the training which covers GitHub. \n",
    "\n",
    "### 5. Closing the instance\n",
    "\n",
    "When you finish working, make sure to upload the files to GitHub and when that is done, go to File > Hub Control Panel and then click the button for \"Stop Server\". It is important that you end the instance when you finish working because it will continuing working, even if you close the window, and take up resources.\n"
   ]
  },
  {
   "cell_type": "code",
   "execution_count": null,
   "id": "4c0d9e6e-9d2d-409f-9332-fd949e5093a0",
   "metadata": {},
   "outputs": [],
   "source": []
  }
 ],
 "metadata": {
  "kernelspec": {
   "display_name": "Python 3 (ipykernel)",
   "language": "python",
   "name": "python3"
  },
  "language_info": {
   "codemirror_mode": {
    "name": "ipython",
    "version": 3
   },
   "file_extension": ".py",
   "mimetype": "text/x-python",
   "name": "python",
   "nbconvert_exporter": "python",
   "pygments_lexer": "ipython3",
   "version": "3.9.7"
  }
 },
 "nbformat": 4,
 "nbformat_minor": 5
}
