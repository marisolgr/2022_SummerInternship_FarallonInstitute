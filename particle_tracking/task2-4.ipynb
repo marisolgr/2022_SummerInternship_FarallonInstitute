{
 "cells": [
  {
   "cell_type": "markdown",
   "id": "b039a786",
   "metadata": {},
   "source": [
    "### Task 2: Determine within which grid cell a point/particle falls into\n",
    "### Task 3: Interpolate velocity to the particle lat/lon \n",
    "### Task 4: Advance forward\n",
    "\n",
    "- variables u,v (current velocity components)\n",
    "- use only surface data: depth (z) = -2.0 \n",
    "- use first time for now [0]\n",
    "\n",
    "Note: current velocities u, v are on different grids, u(eta_u,xi_u) and v(eta_v, xi_v).\n",
    "Latitudes and longitudes corresponding values for current are in the coordinate arrayes lat_u, lon_u, lat_v, lon_v\n"
   ]
  },
  {
   "cell_type": "code",
   "execution_count": null,
   "id": "c763d150",
   "metadata": {},
   "outputs": [],
   "source": [
    "# task1: acquire data\n",
    "import numpy as np\n",
    "import pandas as pd\n",
    "import xarray as xr\n",
    "\n",
    "url='https://oceanmodeling.ucsc.edu:8443/thredds/dodsC/ccsra_2016a_phys_agg_zlevs/fmrc/CCSRA_2016a_Phys_ROMS_z-level_(depth)_Aggregation_best.ncd'\n",
    "actual = xr.open_dataset(url)\n",
    "actual"
   ]
  },
  {
   "cell_type": "code",
   "execution_count": null,
   "id": "1b7b2891",
   "metadata": {},
   "outputs": [],
   "source": [
    "# set lat and lon for particle\n",
    "lat1 = 38.0\n",
    "lon1 = -123.0"
   ]
  },
  {
   "cell_type": "code",
   "execution_count": null,
   "id": "2ccf9113",
   "metadata": {},
   "outputs": [],
   "source": [
    "# Task2: find nearest grid points for current components u and v."
   ]
  },
  {
   "cell_type": "code",
   "execution_count": null,
   "id": "f3426a8f",
   "metadata": {},
   "outputs": [],
   "source": [
    "# Task3: interpolate velocity (u,v) to lat1 and lat2 (this point might not fall on a grid point)"
   ]
  },
  {
   "cell_type": "code",
   "execution_count": null,
   "id": "713418a1",
   "metadata": {},
   "outputs": [],
   "source": [
    "# Task4: move particle forward \n",
    "# we need to calculate the position of the particle if it moves for one time step (a day in this data set) with velocity u, v\n",
    "# there are different methods to implement that, we will use the Runge-Kutta order 4. but you can start w an smipl"
   ]
  }
 ],
 "metadata": {
  "kernelspec": {
   "display_name": "Python 3 (ipykernel)",
   "language": "python",
   "name": "python3"
  },
  "language_info": {
   "codemirror_mode": {
    "name": "ipython",
    "version": 3
   },
   "file_extension": ".py",
   "mimetype": "text/x-python",
   "name": "python",
   "nbconvert_exporter": "python",
   "pygments_lexer": "ipython3",
   "version": "3.9.12"
  }
 },
 "nbformat": 4,
 "nbformat_minor": 5
}
