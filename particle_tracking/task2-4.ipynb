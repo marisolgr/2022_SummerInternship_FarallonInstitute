{
 "cells": [
  {
   "cell_type": "markdown",
   "id": "b039a786",
   "metadata": {},
   "source": [
    "### Task 2: Determine within which grid cell a point/particle falls into\n",
    "### Task 3: Interpolate velocity to the particle lat/lon \n",
    "### Task 4: Advance forward\n",
    "\n",
    "- variables u,v (current velocity components)\n",
    "- use only surface data: depth (z) = -2.0 \n",
    "- use first time for now [0]\n",
    "\n",
    "Note: current velocities u, v are on different grids, u(eta_u,xi_u) and v(eta_v, xi_v).\n",
    "Latitudes and longitudes corresponding values for current are in the coordinate arrayes lat_u, lon_u, lat_v, lon_v\n"
   ]
  },
  {
   "cell_type": "code",
   "execution_count": null,
   "outputs": [],
   "source": [
    "# task1: acquire data\n",
    "import numpy as np\n",
    "import pandas as pd\n",
    "import xarray as xr\n",
    "\n",
    "# url='https://oceanmodeling.ucsc.edu:8443/thredds/dodsC/ccsra_2016a_phys_agg_zlevs/fmrc/CCSRA_2016a_Phys_ROMS_z-level_(depth)_Aggregation_best.ncd'\n",
    "url='dataset_2010.nc'\n",
    "actual = xr.open_dataset(url)\n",
    "\n",
    "# ds = actual.copy()              # (\"ds.nc\")\n",
    "\n",
    "\n",
    "lat1 = 38.0\n",
    "lon1 = -123.0"
   ],
   "metadata": {
    "collapsed": false,
    "pycharm": {
     "name": "#%%\n"
    }
   }
  },
  {
   "cell_type": "code",
   "execution_count": null,
   "outputs": [],
   "source": [
    "\"\"\"\n",
    "Chunks down and downloads the remote dataset from UCSC's server\n",
    "\"\"\"\n",
    "# end_index = len(actual.time.values)\n",
    "# master = actual.sel(time = actual.time.values[0])\n",
    "# for i in range(1, end_index):\n",
    "#     temp = actual.sel(\n",
    "#         time = actual.time.values[i],\n",
    "#         z = slice(0, 1)\n",
    "#     )\n",
    "#     master = xr.concat([master, temp], dim='time')\n",
    "#     if i % 100 == 0:\n",
    "#         name = f\"backup_{i}.nc\"\n",
    "#         master.to_netcdf(name)\n",
    "#     print(i)\n",
    "# master.to_netcdf(\"ds.nc\")\n",
    "# t = xr.open_dataset(\"ds.nc\")\n",
    "# t"
   ],
   "metadata": {
    "collapsed": false,
    "pycharm": {
     "name": "#%%\n"
    }
   }
  },
  {
   "cell_type": "code",
   "execution_count": null,
   "outputs": [],
   "source": [
    "# Task2: find nearest grid points for current components u and v.\n",
    "\n",
    "for x in range(len(actual.lon_u)):\n",
    "    print(actual.lon_u[0, x].lon_u.values)"
   ],
   "metadata": {
    "collapsed": false,
    "pycharm": {
     "name": "#%%\n"
    }
   }
  },
  {
   "cell_type": "code",
   "execution_count": null,
   "outputs": [],
   "source": [
    "# Task3: interpolate velocity (u,v) to lat1 and lat2 (this point might not fall on a grid point)\n",
    "\n",
    "actual = actual.interp(eta_u=actual.eta_rho, xi_u=actual.xi_rho, method='linear')\n",
    "actual = actual.interp(eta_v=actual.eta_rho, xi_v=actual.xi_rho, method='linear')"
   ],
   "metadata": {
    "collapsed": false,
    "pycharm": {
     "name": "#%%\n"
    }
   }
  },
  {
   "cell_type": "code",
   "execution_count": null,
   "outputs": [],
   "source": [
    "# drop the lat_rho and lon_rho categories\n",
    "actual = actual.drop(['lat_rho', 'lon_rho'])\n",
    "actual"
   ],
   "metadata": {
    "collapsed": false,
    "pycharm": {
     "name": "#%%\n"
    }
   }
  },
  {
   "cell_type": "code",
   "execution_count": null,
   "outputs": [],
   "source": [
    "# Task4: move particle forward \n",
    "# we need to calculate the position of the particle if it moves for one time step (a day in this data set) with velocity u, v\n",
    "# there are different methods to implement that, we will use the Runge-Kutta order 4. but you can start w an smipl\n",
    "\n",
    "class point:\n",
    "    def __init__(self, x, y, time):\n",
    "        self.x = x\n",
    "        self.y = y\n",
    "        self.time = time\n",
    "    def move(self, u, v, dt):\n",
    "        # TODO: Do the thing\n",
    "        self.x += u * dt\n",
    "        self.y += v * dt\n",
    "    def __str__(self):\n",
    "        return f\"({self.x}, {self.y})\"\n",
    "\n",
    "# Task5: plot the particle path\n",
    "# we need to plot the path of the particle\n",
    "\n",
    "pt = point(x=lon1, y=lat1, time=5)\n",
    "print(pt)\n",
    "\n",
    "# move the point\n",
    "pt.move(u=actual.u[0, 0, 0, 0].values, v=actual.v[0, 0, 0, 0].values, dt=1)\n",
    "print(pt)"
   ],
   "metadata": {
    "collapsed": false,
    "pycharm": {
     "name": "#%%\n"
    }
   }
  },
  {
   "cell_type": "code",
   "execution_count": 25,
   "id": "713418a1",
   "metadata": {},
   "outputs": [
    {
     "name": "stdout",
     "output_type": "stream",
     "text": [
      "(-123.0, 38.0)\n",
      "(-122.97695616073906, 37.89688344299793)\n"
     ]
    }
   ],
   "source": [
    "# Task4: move particle forward \n",
    "# we need to calculate the position of the particle if it moves for one time step (a day in this data set) with velocity u, v\n",
    "# there are different methods to implement that, we will use the Runge-Kutta order 4. but you can start w an smipl\n",
    "\n",
    "class point:\n",
    "    def __init__(self, x, y, time):\n",
    "        self.x = x\n",
    "        self.y = y\n",
    "        self.time = time\n",
    "    def move(self, u, v, dt):\n",
    "        # TODO: Do the thing\n",
    "        self.x += u * dt\n",
    "        self.y += v * dt\n",
    "    def __str__(self):\n",
    "        return f\"({self.x}, {self.y})\"\n",
    "\n",
    "# Task5: plot the particle path\n",
    "# we need to plot the path of the particle\n",
    "\n",
    "pt = point(x=lon1, y=lat1, time=5)\n",
    "print(pt)\n",
    "\n",
    "# move the point\n",
    "pt.move(u=actual.u[0, 0, 0, 0].values, v=actual.v[0, 0, 0, 0].values, dt=1)\n",
    "print(pt)"
   ]
  }
 ],
 "metadata": {
  "kernelspec": {
   "display_name": "Python 3.7.13 ('local_fi')",
   "language": "python",
   "name": "python3"
  },
  "language_info": {
   "codemirror_mode": {
    "name": "ipython",
    "version": 3
   },
   "file_extension": ".py",
   "mimetype": "text/x-python",
   "name": "python",
   "nbconvert_exporter": "python",
   "pygments_lexer": "ipython3",
   "version": "3.7.13"
  },
  "vscode": {
   "interpreter": {
    "hash": "bba63d4417749d2564cd5e16d41cd7c72cfe0051137cf60970c5f7a32dfe15aa"
   }
  }
 },
 "nbformat": 4,
 "nbformat_minor": 5
}