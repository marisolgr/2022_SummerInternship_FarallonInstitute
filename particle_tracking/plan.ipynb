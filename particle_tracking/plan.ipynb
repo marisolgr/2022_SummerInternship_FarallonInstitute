{
 "cells": [
  {
   "cell_type": "markdown",
   "id": "4bde8daa",
   "metadata": {},
   "source": [
    "# Overall plan\n",
    "\n",
    "Particle Tracking Model Tasks\n",
    " \n",
    "### Task 1:\tReach out and open up files that are on the internet.\n",
    " \n",
    "### Task 2:\tDetermine within which grid cell a point/particle falls\n",
    " \n",
    "### Task 3:\tInterpolate data from the grid to the point/particle\n",
    " \n",
    "### Task 4:\tAdvance the point/particle\n",
    " \n",
    "Task 5:\tPut Tasks 2-4 in a loop to be run for many points/particles.\n",
    " \n",
    "Task 6:\tPut all Tasks into a time loop to be run for many days.\n",
    " \n",
    "Task 7:\tDetermine how to run program automatically every day\n",
    " \n",
    "Task 8:\tDetermine standard output (summary data / plots) \n"
   ]
  },
  {
   "cell_type": "markdown",
   "id": "ff175e9b",
   "metadata": {},
   "source": [
    "****\n",
    "### For Tasks 2-3\n",
    "\n",
    "Some refs on the grid (called Arakawa grid) and ROMS in general:\n",
    "    \n",
    "https://www.myroms.org/wiki/Numerical_Solution_Technique\n",
    "\n",
    "   http://140.112.69.65/research/coawst/COAWST_TUTORIAL/training_15aug2016/presentations/tuesday/warner_roms_coawsttrain2016.pdf\n",
    "   \n",
    "https://stackoverflow.com/questions/58758480/xarray-select-nearest-lat-lon-with-multi-dimension-coordinates"
   ]
  },
  {
   "cell_type": "markdown",
   "id": "fc39bffb",
   "metadata": {},
   "source": [
    "***\n",
    "### For Task 4\n",
    "\n",
    "we need to calculate the position of the particle if it moves for one time step (a day in this data set) with velocity u, v\n",
    "\n",
    "\n",
    "there are different methods to implement that, we will use the Runge-Kutta order 4. but you can start w an simple Euler to try:\n",
    "\n",
    "https://web.cs.ucdavis.edu/~ma/ECS177/papers/particle_tracing.pdf\n",
    "   \n",
    "   \n",
    "here are some code in python if useful:\n",
    "https://perso.crans.org/besson/publis/notebooks/Runge-Kutta_methods_for_ODE_integration_in_Python.html"
   ]
  },
  {
   "cell_type": "code",
   "execution_count": null,
   "id": "c964ef83",
   "metadata": {},
   "outputs": [],
   "source": [
    "# Getting Data (for now)\n",
    "import numpy as np\n",
    "import pandas as pd\n",
    "import xarray as xr\n",
    "\n",
    "url='https://oceanmodeling.ucsc.edu:8443/thredds/dodsC/ccsra_2016a_phys_agg_zlevs/fmrc/CCSRA_2016a_Phys_ROMS_z-level_(depth)_Aggregation_best.ncd'\n",
    "actual = xr.open_dataset(url)\n"
   ]
  },
  {
   "cell_type": "markdown",
   "id": "0528d210",
   "metadata": {},
   "source": [
    "# useful code"
   ]
  },
  {
   "cell_type": "code",
   "execution_count": null,
   "id": "2a603091",
   "metadata": {},
   "outputs": [],
   "source": [
    "# Transforming Data to different projections using cartopy\n",
    "import cartopy.crs as ccrs\n",
    "import numpy as np\n",
    "# Example - your x and y coordinates are in a Lambert Conformal projection\n",
    "data_crs = ccrs.LambertConformal(central_longitude=-100)\n",
    "# Transform the point - src_crs is always Plate Carree for lat/lon grid\n",
    "x, y = data_crs.transform_point(-122.68, 21.2, src_crs=ccrs.PlateCarree())"
   ]
  },
  {
   "cell_type": "code",
   "execution_count": null,
   "id": "7044b7c8",
   "metadata": {},
   "outputs": [],
   "source": [
    "# Create Point objects\n",
    "from shapely.geometry import Point, Polygon\n",
    "p1=Point(-124.28, 38.13)\n",
    "# Create a square\n",
    "coord=[(lon_u[0,0],lat_u[0,0]), \n",
    "       (lon_u[-1,0],lat_u[-1,0]), \n",
    "       (lon_u[-1,-1],lat_u[-1,-1]), \n",
    "        (lon_u[0,-1],lat_u[0,-1])]\n",
    "poly = Polygon(coord)\n",
    "# PIP test with 'within'\n",
    "p1.within(poly)     # True"
   ]
  }
 ],
 "metadata": {
  "kernelspec": {
   "display_name": "Python 3 (ipykernel)",
   "language": "python",
   "name": "python3"
  },
  "language_info": {
   "codemirror_mode": {
    "name": "ipython",
    "version": 3
   },
   "file_extension": ".py",
   "mimetype": "text/x-python",
   "name": "python",
   "nbconvert_exporter": "python",
   "pygments_lexer": "ipython3",
   "version": "3.9.12"
  }
 },
 "nbformat": 4,
 "nbformat_minor": 5
}