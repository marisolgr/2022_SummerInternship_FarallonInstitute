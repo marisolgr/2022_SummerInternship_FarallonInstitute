{
 "cells": [
  {
   "cell_type": "markdown",
   "id": "a039366a-9297-4ba3-9629-0d54cf505250",
   "metadata": {
    "tags": []
   },
   "source": [
    "# Cleanse Anomalies in Saildrone Salinity Data"
   ]
  },
  {
   "cell_type": "code",
   "execution_count": 1,
   "id": "c8359bee-7dd1-4ef3-a7c0-683beed583b0",
   "metadata": {},
   "outputs": [],
   "source": [
    "def clean_anomalies(fileURL, filterMin=-1, filterMax=-1):\n",
    "    \"\"\"\n",
    "    This function will clean a saildrone dataset of invalid/unreported data points, and optionally \n",
    "    filter the SSS data between two values (<filterMin>, <filterMax>)\n",
    "    Author: Austin\n",
    "    Args:\n",
    "      <str>: the URL to a local saildrone dataset.\n",
    "      <float>: The minimum cutoff point for all SSS data\n",
    "      <float>: The maximum cutoff point for all SSS data\n",
    "    Returns:\n",
    "      <xr.DataSet> A clean saildrone dataset, free of invalud/unreported SSS data points.\n",
    "    \"\"\"\n",
    "    fn = fileURL;\n",
    "\n",
    "    #import necessary packages\n",
    "    import numpy as np\n",
    "    import pandas as pd\n",
    "    import xarray as xr\n",
    "    import matplotlib.pyplot as plt \n",
    "    import matplotlib.dates as mdates\n",
    "    import seaborn as sns\n",
    "    import datetime\n",
    "    import warnings\n",
    "    warnings.simplefilter('ignore') \n",
    "\n",
    "    #load map packages\n",
    "    from cartopy.mpl.ticker import LongitudeFormatter, LatitudeFormatter\n",
    "    import cartopy.feature as cfeature\n",
    "    import cartopy.crs as ccrs\n",
    "    from calendar import month_abbr\n",
    "\n",
    "    #open .nc file with Saildrone Data\n",
    "    sail = xr.open_dataset(fn) \n",
    "    sail.close()\n",
    "\n",
    "    #copy data for calculations versus graphing\n",
    "    sail_raw = sail.copy()\n",
    "\n",
    "    sail\n",
    "\n",
    "    def filterSAL(min, max):\n",
    "        if (max == -1):\n",
    "            return False\n",
    "        sail['SAL_CTD_MEAN']=sail.SAL_CTD_MEAN.where(sail.SAL_CTD_MEAN>min, np.nan)\n",
    "        sail['SAL_CTD_MEAN']=sail.SAL_CTD_MEAN.where(sail.SAL_CTD_MEAN<max, np.nan)\n",
    "        return True\n",
    "\n",
    "    font = {\n",
    "        'family': 'monospace',\n",
    "        'color':  'k',\n",
    "        'weight': 'normal',\n",
    "        'size': 16,\n",
    "    }\n",
    "\n",
    "    # Remove Any Error Data\n",
    "    filterSAL(0, 9999)\n",
    "\n",
    "    min_thresh = 30\n",
    "    max_thresh = 35\n",
    "\n",
    "    if (min_thresh & max_thresh):\n",
    "        print(\"Filtered between \" + str(min_thresh) + \" and \" + str(max_thresh) + \" PPU\")\n",
    "        filterSAL(min_thresh, max_thresh)\n",
    "\n",
    "    return sail\n",
    "\n",
    "# example call\n",
    "# cleanAnomalies(\"~/shared/users/mgarciareyes/saildrone_data/saildrone_west_coast_survey_2019_sd1044_JPLv5.0_8dy_20210613norep_20210613_20211116.nc\")"
   ]
  }
 ],
 "metadata": {
  "kernelspec": {
   "display_name": "users-fi_intern",
   "language": "python",
   "name": "conda-env-users-fi_intern-py"
  },
  "language_info": {
   "codemirror_mode": {
    "name": "ipython",
    "version": 3
   },
   "file_extension": ".py",
   "mimetype": "text/x-python",
   "name": "python",
   "nbconvert_exporter": "python",
   "pygments_lexer": "ipython3",
   "version": "3.9.7"
  }
 },
 "nbformat": 4,
 "nbformat_minor": 5
}
