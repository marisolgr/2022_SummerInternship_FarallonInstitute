{
 "cells": [
  {
   "cell_type": "markdown",
   "id": "a039366a-9297-4ba3-9629-0d54cf505250",
   "metadata": {},
   "source": [
    "# Cleanse Anomalies in Saildrone Salinity Data"
   ]
  },
  {
   "cell_type": "markdown",
   "id": "f4ee3eae-5f72-4833-b910-cb2c793fc6d3",
   "metadata": {},
   "source": [
    "#### Configure Saildrone Dataset Below"
   ]
  },
  {
   "cell_type": "code",
   "execution_count": null,
   "id": "c8359bee-7dd1-4ef3-a7c0-683beed583b0",
   "metadata": {},
   "outputs": [],
   "source": [
    "# relative directory\n",
    "ddir = '../../saildrone_data/'\n",
    "fn = input(\"Enter Dataset Name with file extension (leave blank for default)\")\n",
    "if (not fn):\n",
    "    print(\"No Entry Provided: Selected Default\")\n",
    "    fn = 'saildrone_west_coast_survey_2019_sd1044_JPLv5.0_8dy_20210613norep_20210613_20211116.nc'\n",
    "fn"
   ]
  },
  {
   "cell_type": "code",
   "execution_count": null,
   "id": "8d1c6e38-7fc6-4779-add7-0c7b1b69a945",
   "metadata": {},
   "outputs": [],
   "source": [
    "#import necessary packages\n",
    "import numpy as np\n",
    "import pandas as pd\n",
    "import xarray as xr\n",
    "import matplotlib.pyplot as plt \n",
    "import matplotlib.dates as mdates\n",
    "import seaborn as sns\n",
    "import datetime\n",
    "import warnings\n",
    "warnings.simplefilter('ignore') \n",
    "\n",
    "#load map packages\n",
    "from cartopy.mpl.ticker import LongitudeFormatter, LatitudeFormatter\n",
    "import cartopy.feature as cfeature\n",
    "import cartopy.crs as ccrs\n",
    "from calendar import month_abbr"
   ]
  },
  {
   "cell_type": "code",
   "execution_count": null,
   "id": "d69fb5ba-4d2a-4f10-890a-739c4e404385",
   "metadata": {},
   "outputs": [],
   "source": [
    "#open .nc file with Saildrone Data\n",
    "sail = xr.open_dataset(ddir + fn) \n",
    "sail.close()\n",
    "\n",
    "#copy data for calculations versus graphing\n",
    "sail_raw = sail.copy()\n",
    "\n",
    "sail"
   ]
  },
  {
   "cell_type": "markdown",
   "id": "af15ed1b-ee43-4ec3-bf3b-d6ce4e9b1c23",
   "metadata": {
    "tags": []
   },
   "source": [
    "#### Filter Out Nonreal Data (+9999)"
   ]
  },
  {
   "cell_type": "code",
   "execution_count": null,
   "id": "e0373804-e76f-4ff6-b04f-d92772afdf7a",
   "metadata": {},
   "outputs": [],
   "source": [
    "def filterSAL(min, max):\n",
    "    sail['SAL_CTD_MEAN']=sail.SAL_CTD_MEAN.where(sail.SAL_CTD_MEAN>min, np.nan)\n",
    "    sail['SAL_CTD_MEAN']=sail.SAL_CTD_MEAN.where(sail.SAL_CTD_MEAN<max, np.nan)\n",
    "    return True"
   ]
  },
  {
   "cell_type": "code",
   "execution_count": null,
   "id": "1502982a-e91a-4a22-879f-cd55d4f1eec4",
   "metadata": {},
   "outputs": [],
   "source": [
    "font = {\n",
    "    'family': 'monospace',\n",
    "    'color':  'k',\n",
    "    'weight': 'normal',\n",
    "    'size': 16,\n",
    "}\n",
    "\n",
    "def drawSAL():    \n",
    "    #create plot \n",
    "    plt.figure(figsize=(16, 4))\n",
    "    plt.scatter(x = sail['time'].dt.date, y = sail['SAL_CTD_MEAN']) #seaborn has built in confidence intervals\n",
    "    # make temp/sal plot\n",
    "    #add labels\n",
    "\n",
    "    plt.grid(zorder=0, alpha=0.5)\n",
    "    plt.xlabel('TIME (WEEKLY)', fontdict = font)\n",
    "    plt.ylabel('SEA SURFACE\\nSALINITY (PPU)', fontdict = font)\n",
    "    plt.show()"
   ]
  },
  {
   "cell_type": "code",
   "execution_count": null,
   "id": "837a8191-dd68-48bc-9913-8a9b7ae36276",
   "metadata": {},
   "outputs": [],
   "source": [
    "# Remove Any Error Data\n",
    "filterSAL(0, 9999)\n",
    "drawSAL()"
   ]
  },
  {
   "cell_type": "markdown",
   "id": "ec85171c-46a8-4993-87a6-c92d6e226ccc",
   "metadata": {},
   "source": [
    "#### Set Threshold Parameters (Leave Blank if None)\n",
    "##### You can swap the **min** and **max** values to print outliers only"
   ]
  },
  {
   "cell_type": "code",
   "execution_count": null,
   "id": "de4b8957-8c4d-45e9-93c6-66bf7f9914ce",
   "metadata": {},
   "outputs": [],
   "source": [
    "min_thresh = 30\n",
    "max_thresh = 35\n",
    "\n",
    "if (min_thresh & max_thresh):\n",
    "    print(\"Filtered between \" + str(min_thresh) + \" and \" + str(max_thresh) + \" PPU\")\n",
    "    filterSAL(min_thresh, max_thresh)\n",
    "drawSAL()"
   ]
  },
  {
   "cell_type": "markdown",
   "id": "bd0553f4-1044-4155-a0b1-c5a433c0b1b3",
   "metadata": {},
   "source": [
    "#### Report Final (Cleaned) Dataset"
   ]
  },
  {
   "cell_type": "code",
   "execution_count": null,
   "id": "c4fb6e4e-5f7f-4084-958b-0bbb6849fcdc",
   "metadata": {},
   "outputs": [],
   "source": [
    "sail"
   ]
  },
  {
   "cell_type": "markdown",
   "id": "42949d57-ec33-4cab-9edc-146895db6098",
   "metadata": {},
   "source": [
    "# Optional: Compare data to Satellite\n",
    "### We will plot the satellite data behind the saildrone points, colored by SSS (PPU)"
   ]
  },
  {
   "cell_type": "code",
   "execution_count": null,
   "id": "c610028d-7bdd-47ff-a04f-49835abd4d5b",
   "metadata": {},
   "outputs": [],
   "source": [
    "#file location of the sat data (there is also sat data in the saildrone? ask Gammon)\n",
    "file_location = '../Project 3 - Clean Anomalies/RSS_smap_SSS_L3_8day_running_2018_006_FNL_v04.0.nc4'\n",
    "\n",
    "satSSS = xr.open_dataset(file_location)\n",
    "\n",
    "satSSS"
   ]
  },
  {
   "cell_type": "code",
   "execution_count": null,
   "id": "d4e5d417-f5e8-491a-a3c6-bd5a36ef7871",
   "metadata": {},
   "outputs": [],
   "source": [
    "fig = plt.figure(figsize=(16,10), dpi = 72)\n",
    "ax = plt.axes(projection=ccrs.PlateCarree())\n",
    "\n",
    "#define latitude and longitude boundaries\n",
    "latr = [min(sail['lat']), max(sail['lat'])] \n",
    "lonr = [max(sail['lon']), min(sail['lon'])] \n",
    "\n",
    "# Select a region of our data, giving it a margin\n",
    "margin = 0.5 \n",
    "region = np.array([[latr[0]-margin,latr[1]+margin],[lonr[0]+margin,lonr[1]-margin]]) \n",
    "\n",
    "states_provinces = cfeature.NaturalEarthFeature(\n",
    "        category='cultural',\n",
    "        name='admin_1_states_provinces_lines',\n",
    "        scale='50m',\n",
    "        facecolor='none')\n",
    "\n",
    "ax.coastlines(resolution='10m',linewidth=1,color='black')\n",
    "ax.add_feature(cfeature.LAND, color='grey', alpha=0.3)\n",
    "ax.add_feature(states_provinces, linewidth = 0.5)\n",
    "ax.add_feature(cfeature.BORDERS, color = 'black')\n",
    "ax.set_extent([region[1,0],region[1,1],region[0,0],region[0,1]],crs=ccrs.PlateCarree()) \n",
    "ax.xaxis.set_major_formatter(LongitudeFormatter(zero_direction_label=True))\n",
    "ax.yaxis.set_major_formatter(LatitudeFormatter())\n",
    "ax.gridlines(linestyle = '--', linewidth = 0.5)\n",
    "\n",
    "satSSS['sss_smap'].plot()\n",
    "#plot saildrone and sat data\n",
    "plt.scatter(sail.lon, sail.lat, c = sail['SAL_CTD_MEAN'])\n",
    "\n",
    "plt.show()"
   ]
  },
  {
   "cell_type": "code",
   "execution_count": null,
   "id": "89c61b1d",
   "metadata": {},
   "outputs": [],
   "source": []
  }
 ],
 "metadata": {
  "kernelspec": {
   "display_name": "Python 3 (ipykernel)",
   "language": "python",
   "name": "python3"
  },
  "language_info": {
   "codemirror_mode": {
    "name": "ipython",
    "version": 3
   },
   "file_extension": ".py",
   "mimetype": "text/x-python",
   "name": "python",
   "nbconvert_exporter": "python",
   "pygments_lexer": "ipython3",
   "version": "3.9.12"
  }
 },
 "nbformat": 4,
 "nbformat_minor": 5
}
