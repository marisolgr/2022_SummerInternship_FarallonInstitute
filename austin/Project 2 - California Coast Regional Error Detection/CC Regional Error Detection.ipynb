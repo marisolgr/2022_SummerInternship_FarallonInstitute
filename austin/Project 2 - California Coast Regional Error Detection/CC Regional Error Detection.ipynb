{
 "cells": [
  {
   "cell_type": "markdown",
   "id": "c696f6cb-c027-4af5-9f8c-ad01ea40fc35",
   "metadata": {
    "tags": []
   },
   "source": [
    "# Regional Error Detection at the Californian Coast"
   ]
  },
  {
   "cell_type": "markdown",
   "id": "54283213-c399-424c-9cdd-03b34dd1a739",
   "metadata": {},
   "source": [
    "This notebook will plot, analyze, and clarify errors between satellite and saildrone data for sea surface salinity (SSS) and sea surface temperature (SST).\n",
    "\n",
    "**When, where, why are differences largest?**"
   ]
  },
  {
   "cell_type": "markdown",
   "id": "5a580743-d9d8-4ed8-adb3-abbcc74e8309",
   "metadata": {},
   "source": [
    "### Part 1. Select a region and aggregate data"
   ]
  },
  {
   "cell_type": "markdown",
   "id": "a1d99494-1853-49f0-9cf3-ae00079b8a24",
   "metadata": {},
   "source": [
    "We will chart data on the california coast."
   ]
  },
  {
   "cell_type": "code",
   "execution_count": 14,
   "id": "a7325b82-229e-45cd-816d-e028c155edcd",
   "metadata": {},
   "outputs": [],
   "source": [
    "import sys\n",
    "from colorama import Fore\n",
    "from colorama import Back\n",
    "\n",
    "import pandas as pd\n",
    "import xarray as xr\n",
    "import numpy as np\n",
    "import seaborn as sns\n",
    "import matplotlib.pyplot as plt \n",
    "import matplotlib.dates as mdates\n",
    "\n",
    "#load map packages\n",
    "from cartopy.mpl.ticker import LongitudeFormatter, LatitudeFormatter\n",
    "import cartopy.feature as cfeature\n",
    "import cartopy.crs as ccrs\n",
    "from calendar import month_abbr"
   ]
  },
  {
   "cell_type": "code",
   "execution_count": 15,
   "id": "3edb8734-2c31-480f-b4a4-3261fa971e28",
   "metadata": {},
   "outputs": [
    {
     "ename": "FileNotFoundError",
     "evalue": "[Errno 2] No such file or directory: b'/home/brazil-0034/2022_SummerInternship_FarallonInstitute/saildrone_west_coast_survey_2019_sd1044_JPLv5.0_8dy_20210613norep_20210613_20211116.nc'",
     "output_type": "error",
     "traceback": [
      "\u001b[0;31m---------------------------------------------------------------------------\u001b[0m",
      "\u001b[0;31mKeyError\u001b[0m                                  Traceback (most recent call last)",
      "File \u001b[0;32m/home/conda/users/7245b4ab07ea53a6d8b4d19208190c53d32f3303bab3604fc5946b89ca61158c-20220628-234826-045803-70-fi_intern/lib/python3.9/site-packages/xarray/backends/file_manager.py:199\u001b[0m, in \u001b[0;36mCachingFileManager._acquire_with_cache_info\u001b[0;34m(self, needs_lock)\u001b[0m\n\u001b[1;32m    198\u001b[0m \u001b[38;5;28;01mtry\u001b[39;00m:\n\u001b[0;32m--> 199\u001b[0m     file \u001b[38;5;241m=\u001b[39m \u001b[38;5;28;43mself\u001b[39;49m\u001b[38;5;241;43m.\u001b[39;49m\u001b[43m_cache\u001b[49m\u001b[43m[\u001b[49m\u001b[38;5;28;43mself\u001b[39;49m\u001b[38;5;241;43m.\u001b[39;49m\u001b[43m_key\u001b[49m\u001b[43m]\u001b[49m\n\u001b[1;32m    200\u001b[0m \u001b[38;5;28;01mexcept\u001b[39;00m \u001b[38;5;167;01mKeyError\u001b[39;00m:\n",
      "File \u001b[0;32m/home/conda/users/7245b4ab07ea53a6d8b4d19208190c53d32f3303bab3604fc5946b89ca61158c-20220628-234826-045803-70-fi_intern/lib/python3.9/site-packages/xarray/backends/lru_cache.py:53\u001b[0m, in \u001b[0;36mLRUCache.__getitem__\u001b[0;34m(self, key)\u001b[0m\n\u001b[1;32m     52\u001b[0m \u001b[38;5;28;01mwith\u001b[39;00m \u001b[38;5;28mself\u001b[39m\u001b[38;5;241m.\u001b[39m_lock:\n\u001b[0;32m---> 53\u001b[0m     value \u001b[38;5;241m=\u001b[39m \u001b[38;5;28;43mself\u001b[39;49m\u001b[38;5;241;43m.\u001b[39;49m\u001b[43m_cache\u001b[49m\u001b[43m[\u001b[49m\u001b[43mkey\u001b[49m\u001b[43m]\u001b[49m\n\u001b[1;32m     54\u001b[0m     \u001b[38;5;28mself\u001b[39m\u001b[38;5;241m.\u001b[39m_cache\u001b[38;5;241m.\u001b[39mmove_to_end(key)\n",
      "\u001b[0;31mKeyError\u001b[0m: [<class 'netCDF4._netCDF4.Dataset'>, ('/home/brazil-0034/2022_SummerInternship_FarallonInstitute/saildrone_west_coast_survey_2019_sd1044_JPLv5.0_8dy_20210613norep_20210613_20211116.nc',), 'r', (('clobber', True), ('diskless', False), ('format', 'NETCDF4'), ('persist', False))]",
      "\nDuring handling of the above exception, another exception occurred:\n",
      "\u001b[0;31mFileNotFoundError\u001b[0m                         Traceback (most recent call last)",
      "Input \u001b[0;32mIn [15]\u001b[0m, in \u001b[0;36m<cell line: 2>\u001b[0;34m()\u001b[0m\n\u001b[1;32m      1\u001b[0m get_ipython()\u001b[38;5;241m.\u001b[39mrun_line_magic(\u001b[38;5;124m'\u001b[39m\u001b[38;5;124mrun\u001b[39m\u001b[38;5;124m'\u001b[39m, \u001b[38;5;124m'\u001b[39m\u001b[38;5;124m../\u001b[39m\u001b[38;5;124m\"\u001b[39m\u001b[38;5;124mProject 3 - Clean Anomalies\u001b[39m\u001b[38;5;124m\"\u001b[39m\u001b[38;5;124m/\u001b[39m\u001b[38;5;124m\"\u001b[39m\u001b[38;5;124mCleanAnomalies-SingleFunction.ipynb\u001b[39m\u001b[38;5;124m\"\u001b[39m\u001b[38;5;124m'\u001b[39m)\n\u001b[0;32m----> 2\u001b[0m sail \u001b[38;5;241m=\u001b[39m \u001b[43mcleanAnomalies\u001b[49m\u001b[43m(\u001b[49m\u001b[38;5;124;43m\"\u001b[39;49m\u001b[38;5;124;43m../../saildrone_west_coast_survey_2019_sd1044_JPLv5.0_8dy_20210613norep_20210613_20211116.nc\u001b[39;49m\u001b[38;5;124;43m\"\u001b[39;49m\u001b[43m)\u001b[49m\n\u001b[1;32m      3\u001b[0m sail\n",
      "File \u001b[0;32m/tmp/ipykernel_64/796493133.py:36\u001b[0m, in \u001b[0;36mcleanAnomalies\u001b[0;34m(fileURL, filterMin, filterMax)\u001b[0m\n\u001b[1;32m     33\u001b[0m \u001b[38;5;28;01mfrom\u001b[39;00m \u001b[38;5;21;01mcalendar\u001b[39;00m \u001b[38;5;28;01mimport\u001b[39;00m month_abbr\n\u001b[1;32m     35\u001b[0m \u001b[38;5;66;03m#open .nc file with Saildrone Data\u001b[39;00m\n\u001b[0;32m---> 36\u001b[0m sail \u001b[38;5;241m=\u001b[39m \u001b[43mxr\u001b[49m\u001b[38;5;241;43m.\u001b[39;49m\u001b[43mopen_dataset\u001b[49m\u001b[43m(\u001b[49m\u001b[43mfn\u001b[49m\u001b[43m)\u001b[49m \n\u001b[1;32m     37\u001b[0m sail\u001b[38;5;241m.\u001b[39mclose()\n\u001b[1;32m     39\u001b[0m \u001b[38;5;66;03m#copy data for calculations versus graphing\u001b[39;00m\n",
      "File \u001b[0;32m/home/conda/users/7245b4ab07ea53a6d8b4d19208190c53d32f3303bab3604fc5946b89ca61158c-20220628-234826-045803-70-fi_intern/lib/python3.9/site-packages/xarray/backends/api.py:495\u001b[0m, in \u001b[0;36mopen_dataset\u001b[0;34m(filename_or_obj, engine, chunks, cache, decode_cf, mask_and_scale, decode_times, decode_timedelta, use_cftime, concat_characters, decode_coords, drop_variables, backend_kwargs, *args, **kwargs)\u001b[0m\n\u001b[1;32m    483\u001b[0m decoders \u001b[38;5;241m=\u001b[39m _resolve_decoders_kwargs(\n\u001b[1;32m    484\u001b[0m     decode_cf,\n\u001b[1;32m    485\u001b[0m     open_backend_dataset_parameters\u001b[38;5;241m=\u001b[39mbackend\u001b[38;5;241m.\u001b[39mopen_dataset_parameters,\n\u001b[0;32m   (...)\u001b[0m\n\u001b[1;32m    491\u001b[0m     decode_coords\u001b[38;5;241m=\u001b[39mdecode_coords,\n\u001b[1;32m    492\u001b[0m )\n\u001b[1;32m    494\u001b[0m overwrite_encoded_chunks \u001b[38;5;241m=\u001b[39m kwargs\u001b[38;5;241m.\u001b[39mpop(\u001b[38;5;124m\"\u001b[39m\u001b[38;5;124moverwrite_encoded_chunks\u001b[39m\u001b[38;5;124m\"\u001b[39m, \u001b[38;5;28;01mNone\u001b[39;00m)\n\u001b[0;32m--> 495\u001b[0m backend_ds \u001b[38;5;241m=\u001b[39m \u001b[43mbackend\u001b[49m\u001b[38;5;241;43m.\u001b[39;49m\u001b[43mopen_dataset\u001b[49m\u001b[43m(\u001b[49m\n\u001b[1;32m    496\u001b[0m \u001b[43m    \u001b[49m\u001b[43mfilename_or_obj\u001b[49m\u001b[43m,\u001b[49m\n\u001b[1;32m    497\u001b[0m \u001b[43m    \u001b[49m\u001b[43mdrop_variables\u001b[49m\u001b[38;5;241;43m=\u001b[39;49m\u001b[43mdrop_variables\u001b[49m\u001b[43m,\u001b[49m\n\u001b[1;32m    498\u001b[0m \u001b[43m    \u001b[49m\u001b[38;5;241;43m*\u001b[39;49m\u001b[38;5;241;43m*\u001b[39;49m\u001b[43mdecoders\u001b[49m\u001b[43m,\u001b[49m\n\u001b[1;32m    499\u001b[0m \u001b[43m    \u001b[49m\u001b[38;5;241;43m*\u001b[39;49m\u001b[38;5;241;43m*\u001b[39;49m\u001b[43mkwargs\u001b[49m\u001b[43m,\u001b[49m\n\u001b[1;32m    500\u001b[0m \u001b[43m\u001b[49m\u001b[43m)\u001b[49m\n\u001b[1;32m    501\u001b[0m ds \u001b[38;5;241m=\u001b[39m _dataset_from_backend_dataset(\n\u001b[1;32m    502\u001b[0m     backend_ds,\n\u001b[1;32m    503\u001b[0m     filename_or_obj,\n\u001b[0;32m   (...)\u001b[0m\n\u001b[1;32m    510\u001b[0m     \u001b[38;5;241m*\u001b[39m\u001b[38;5;241m*\u001b[39mkwargs,\n\u001b[1;32m    511\u001b[0m )\n\u001b[1;32m    512\u001b[0m \u001b[38;5;28;01mreturn\u001b[39;00m ds\n",
      "File \u001b[0;32m/home/conda/users/7245b4ab07ea53a6d8b4d19208190c53d32f3303bab3604fc5946b89ca61158c-20220628-234826-045803-70-fi_intern/lib/python3.9/site-packages/xarray/backends/netCDF4_.py:550\u001b[0m, in \u001b[0;36mNetCDF4BackendEntrypoint.open_dataset\u001b[0;34m(self, filename_or_obj, mask_and_scale, decode_times, concat_characters, decode_coords, drop_variables, use_cftime, decode_timedelta, group, mode, format, clobber, diskless, persist, lock, autoclose)\u001b[0m\n\u001b[1;32m    529\u001b[0m \u001b[38;5;28;01mdef\u001b[39;00m \u001b[38;5;21mopen_dataset\u001b[39m(\n\u001b[1;32m    530\u001b[0m     \u001b[38;5;28mself\u001b[39m,\n\u001b[1;32m    531\u001b[0m     filename_or_obj,\n\u001b[0;32m   (...)\u001b[0m\n\u001b[1;32m    546\u001b[0m     autoclose\u001b[38;5;241m=\u001b[39m\u001b[38;5;28;01mFalse\u001b[39;00m,\n\u001b[1;32m    547\u001b[0m ):\n\u001b[1;32m    549\u001b[0m     filename_or_obj \u001b[38;5;241m=\u001b[39m _normalize_path(filename_or_obj)\n\u001b[0;32m--> 550\u001b[0m     store \u001b[38;5;241m=\u001b[39m \u001b[43mNetCDF4DataStore\u001b[49m\u001b[38;5;241;43m.\u001b[39;49m\u001b[43mopen\u001b[49m\u001b[43m(\u001b[49m\n\u001b[1;32m    551\u001b[0m \u001b[43m        \u001b[49m\u001b[43mfilename_or_obj\u001b[49m\u001b[43m,\u001b[49m\n\u001b[1;32m    552\u001b[0m \u001b[43m        \u001b[49m\u001b[43mmode\u001b[49m\u001b[38;5;241;43m=\u001b[39;49m\u001b[43mmode\u001b[49m\u001b[43m,\u001b[49m\n\u001b[1;32m    553\u001b[0m \u001b[43m        \u001b[49m\u001b[38;5;28;43mformat\u001b[39;49m\u001b[38;5;241;43m=\u001b[39;49m\u001b[38;5;28;43mformat\u001b[39;49m\u001b[43m,\u001b[49m\n\u001b[1;32m    554\u001b[0m \u001b[43m        \u001b[49m\u001b[43mgroup\u001b[49m\u001b[38;5;241;43m=\u001b[39;49m\u001b[43mgroup\u001b[49m\u001b[43m,\u001b[49m\n\u001b[1;32m    555\u001b[0m \u001b[43m        \u001b[49m\u001b[43mclobber\u001b[49m\u001b[38;5;241;43m=\u001b[39;49m\u001b[43mclobber\u001b[49m\u001b[43m,\u001b[49m\n\u001b[1;32m    556\u001b[0m \u001b[43m        \u001b[49m\u001b[43mdiskless\u001b[49m\u001b[38;5;241;43m=\u001b[39;49m\u001b[43mdiskless\u001b[49m\u001b[43m,\u001b[49m\n\u001b[1;32m    557\u001b[0m \u001b[43m        \u001b[49m\u001b[43mpersist\u001b[49m\u001b[38;5;241;43m=\u001b[39;49m\u001b[43mpersist\u001b[49m\u001b[43m,\u001b[49m\n\u001b[1;32m    558\u001b[0m \u001b[43m        \u001b[49m\u001b[43mlock\u001b[49m\u001b[38;5;241;43m=\u001b[39;49m\u001b[43mlock\u001b[49m\u001b[43m,\u001b[49m\n\u001b[1;32m    559\u001b[0m \u001b[43m        \u001b[49m\u001b[43mautoclose\u001b[49m\u001b[38;5;241;43m=\u001b[39;49m\u001b[43mautoclose\u001b[49m\u001b[43m,\u001b[49m\n\u001b[1;32m    560\u001b[0m \u001b[43m    \u001b[49m\u001b[43m)\u001b[49m\n\u001b[1;32m    562\u001b[0m     store_entrypoint \u001b[38;5;241m=\u001b[39m StoreBackendEntrypoint()\n\u001b[1;32m    563\u001b[0m     \u001b[38;5;28;01mwith\u001b[39;00m close_on_error(store):\n",
      "File \u001b[0;32m/home/conda/users/7245b4ab07ea53a6d8b4d19208190c53d32f3303bab3604fc5946b89ca61158c-20220628-234826-045803-70-fi_intern/lib/python3.9/site-packages/xarray/backends/netCDF4_.py:379\u001b[0m, in \u001b[0;36mNetCDF4DataStore.open\u001b[0;34m(cls, filename, mode, format, group, clobber, diskless, persist, lock, lock_maker, autoclose)\u001b[0m\n\u001b[1;32m    373\u001b[0m kwargs \u001b[38;5;241m=\u001b[39m \u001b[38;5;28mdict\u001b[39m(\n\u001b[1;32m    374\u001b[0m     clobber\u001b[38;5;241m=\u001b[39mclobber, diskless\u001b[38;5;241m=\u001b[39mdiskless, persist\u001b[38;5;241m=\u001b[39mpersist, \u001b[38;5;28mformat\u001b[39m\u001b[38;5;241m=\u001b[39m\u001b[38;5;28mformat\u001b[39m\n\u001b[1;32m    375\u001b[0m )\n\u001b[1;32m    376\u001b[0m manager \u001b[38;5;241m=\u001b[39m CachingFileManager(\n\u001b[1;32m    377\u001b[0m     netCDF4\u001b[38;5;241m.\u001b[39mDataset, filename, mode\u001b[38;5;241m=\u001b[39mmode, kwargs\u001b[38;5;241m=\u001b[39mkwargs\n\u001b[1;32m    378\u001b[0m )\n\u001b[0;32m--> 379\u001b[0m \u001b[38;5;28;01mreturn\u001b[39;00m \u001b[38;5;28;43mcls\u001b[39;49m\u001b[43m(\u001b[49m\u001b[43mmanager\u001b[49m\u001b[43m,\u001b[49m\u001b[43m \u001b[49m\u001b[43mgroup\u001b[49m\u001b[38;5;241;43m=\u001b[39;49m\u001b[43mgroup\u001b[49m\u001b[43m,\u001b[49m\u001b[43m \u001b[49m\u001b[43mmode\u001b[49m\u001b[38;5;241;43m=\u001b[39;49m\u001b[43mmode\u001b[49m\u001b[43m,\u001b[49m\u001b[43m \u001b[49m\u001b[43mlock\u001b[49m\u001b[38;5;241;43m=\u001b[39;49m\u001b[43mlock\u001b[49m\u001b[43m,\u001b[49m\u001b[43m \u001b[49m\u001b[43mautoclose\u001b[49m\u001b[38;5;241;43m=\u001b[39;49m\u001b[43mautoclose\u001b[49m\u001b[43m)\u001b[49m\n",
      "File \u001b[0;32m/home/conda/users/7245b4ab07ea53a6d8b4d19208190c53d32f3303bab3604fc5946b89ca61158c-20220628-234826-045803-70-fi_intern/lib/python3.9/site-packages/xarray/backends/netCDF4_.py:327\u001b[0m, in \u001b[0;36mNetCDF4DataStore.__init__\u001b[0;34m(self, manager, group, mode, lock, autoclose)\u001b[0m\n\u001b[1;32m    325\u001b[0m \u001b[38;5;28mself\u001b[39m\u001b[38;5;241m.\u001b[39m_group \u001b[38;5;241m=\u001b[39m group\n\u001b[1;32m    326\u001b[0m \u001b[38;5;28mself\u001b[39m\u001b[38;5;241m.\u001b[39m_mode \u001b[38;5;241m=\u001b[39m mode\n\u001b[0;32m--> 327\u001b[0m \u001b[38;5;28mself\u001b[39m\u001b[38;5;241m.\u001b[39mformat \u001b[38;5;241m=\u001b[39m \u001b[38;5;28;43mself\u001b[39;49m\u001b[38;5;241;43m.\u001b[39;49m\u001b[43mds\u001b[49m\u001b[38;5;241m.\u001b[39mdata_model\n\u001b[1;32m    328\u001b[0m \u001b[38;5;28mself\u001b[39m\u001b[38;5;241m.\u001b[39m_filename \u001b[38;5;241m=\u001b[39m \u001b[38;5;28mself\u001b[39m\u001b[38;5;241m.\u001b[39mds\u001b[38;5;241m.\u001b[39mfilepath()\n\u001b[1;32m    329\u001b[0m \u001b[38;5;28mself\u001b[39m\u001b[38;5;241m.\u001b[39mis_remote \u001b[38;5;241m=\u001b[39m is_remote_uri(\u001b[38;5;28mself\u001b[39m\u001b[38;5;241m.\u001b[39m_filename)\n",
      "File \u001b[0;32m/home/conda/users/7245b4ab07ea53a6d8b4d19208190c53d32f3303bab3604fc5946b89ca61158c-20220628-234826-045803-70-fi_intern/lib/python3.9/site-packages/xarray/backends/netCDF4_.py:388\u001b[0m, in \u001b[0;36mNetCDF4DataStore.ds\u001b[0;34m(self)\u001b[0m\n\u001b[1;32m    386\u001b[0m \u001b[38;5;129m@property\u001b[39m\n\u001b[1;32m    387\u001b[0m \u001b[38;5;28;01mdef\u001b[39;00m \u001b[38;5;21mds\u001b[39m(\u001b[38;5;28mself\u001b[39m):\n\u001b[0;32m--> 388\u001b[0m     \u001b[38;5;28;01mreturn\u001b[39;00m \u001b[38;5;28;43mself\u001b[39;49m\u001b[38;5;241;43m.\u001b[39;49m\u001b[43m_acquire\u001b[49m\u001b[43m(\u001b[49m\u001b[43m)\u001b[49m\n",
      "File \u001b[0;32m/home/conda/users/7245b4ab07ea53a6d8b4d19208190c53d32f3303bab3604fc5946b89ca61158c-20220628-234826-045803-70-fi_intern/lib/python3.9/site-packages/xarray/backends/netCDF4_.py:382\u001b[0m, in \u001b[0;36mNetCDF4DataStore._acquire\u001b[0;34m(self, needs_lock)\u001b[0m\n\u001b[1;32m    381\u001b[0m \u001b[38;5;28;01mdef\u001b[39;00m \u001b[38;5;21m_acquire\u001b[39m(\u001b[38;5;28mself\u001b[39m, needs_lock\u001b[38;5;241m=\u001b[39m\u001b[38;5;28;01mTrue\u001b[39;00m):\n\u001b[0;32m--> 382\u001b[0m     \u001b[38;5;28;01mwith\u001b[39;00m \u001b[38;5;28mself\u001b[39m\u001b[38;5;241m.\u001b[39m_manager\u001b[38;5;241m.\u001b[39macquire_context(needs_lock) \u001b[38;5;28;01mas\u001b[39;00m root:\n\u001b[1;32m    383\u001b[0m         ds \u001b[38;5;241m=\u001b[39m _nc4_require_group(root, \u001b[38;5;28mself\u001b[39m\u001b[38;5;241m.\u001b[39m_group, \u001b[38;5;28mself\u001b[39m\u001b[38;5;241m.\u001b[39m_mode)\n\u001b[1;32m    384\u001b[0m     \u001b[38;5;28;01mreturn\u001b[39;00m ds\n",
      "File \u001b[0;32m/home/conda/users/7245b4ab07ea53a6d8b4d19208190c53d32f3303bab3604fc5946b89ca61158c-20220628-234826-045803-70-fi_intern/lib/python3.9/contextlib.py:119\u001b[0m, in \u001b[0;36m_GeneratorContextManager.__enter__\u001b[0;34m(self)\u001b[0m\n\u001b[1;32m    117\u001b[0m \u001b[38;5;28;01mdel\u001b[39;00m \u001b[38;5;28mself\u001b[39m\u001b[38;5;241m.\u001b[39margs, \u001b[38;5;28mself\u001b[39m\u001b[38;5;241m.\u001b[39mkwds, \u001b[38;5;28mself\u001b[39m\u001b[38;5;241m.\u001b[39mfunc\n\u001b[1;32m    118\u001b[0m \u001b[38;5;28;01mtry\u001b[39;00m:\n\u001b[0;32m--> 119\u001b[0m     \u001b[38;5;28;01mreturn\u001b[39;00m \u001b[38;5;28;43mnext\u001b[39;49m\u001b[43m(\u001b[49m\u001b[38;5;28;43mself\u001b[39;49m\u001b[38;5;241;43m.\u001b[39;49m\u001b[43mgen\u001b[49m\u001b[43m)\u001b[49m\n\u001b[1;32m    120\u001b[0m \u001b[38;5;28;01mexcept\u001b[39;00m \u001b[38;5;167;01mStopIteration\u001b[39;00m:\n\u001b[1;32m    121\u001b[0m     \u001b[38;5;28;01mraise\u001b[39;00m \u001b[38;5;167;01mRuntimeError\u001b[39;00m(\u001b[38;5;124m\"\u001b[39m\u001b[38;5;124mgenerator didn\u001b[39m\u001b[38;5;124m'\u001b[39m\u001b[38;5;124mt yield\u001b[39m\u001b[38;5;124m\"\u001b[39m) \u001b[38;5;28;01mfrom\u001b[39;00m \u001b[38;5;28mNone\u001b[39m\n",
      "File \u001b[0;32m/home/conda/users/7245b4ab07ea53a6d8b4d19208190c53d32f3303bab3604fc5946b89ca61158c-20220628-234826-045803-70-fi_intern/lib/python3.9/site-packages/xarray/backends/file_manager.py:187\u001b[0m, in \u001b[0;36mCachingFileManager.acquire_context\u001b[0;34m(self, needs_lock)\u001b[0m\n\u001b[1;32m    184\u001b[0m \u001b[38;5;129m@contextlib\u001b[39m\u001b[38;5;241m.\u001b[39mcontextmanager\n\u001b[1;32m    185\u001b[0m \u001b[38;5;28;01mdef\u001b[39;00m \u001b[38;5;21macquire_context\u001b[39m(\u001b[38;5;28mself\u001b[39m, needs_lock\u001b[38;5;241m=\u001b[39m\u001b[38;5;28;01mTrue\u001b[39;00m):\n\u001b[1;32m    186\u001b[0m     \u001b[38;5;124;03m\"\"\"Context manager for acquiring a file.\"\"\"\u001b[39;00m\n\u001b[0;32m--> 187\u001b[0m     file, cached \u001b[38;5;241m=\u001b[39m \u001b[38;5;28;43mself\u001b[39;49m\u001b[38;5;241;43m.\u001b[39;49m\u001b[43m_acquire_with_cache_info\u001b[49m\u001b[43m(\u001b[49m\u001b[43mneeds_lock\u001b[49m\u001b[43m)\u001b[49m\n\u001b[1;32m    188\u001b[0m     \u001b[38;5;28;01mtry\u001b[39;00m:\n\u001b[1;32m    189\u001b[0m         \u001b[38;5;28;01myield\u001b[39;00m file\n",
      "File \u001b[0;32m/home/conda/users/7245b4ab07ea53a6d8b4d19208190c53d32f3303bab3604fc5946b89ca61158c-20220628-234826-045803-70-fi_intern/lib/python3.9/site-packages/xarray/backends/file_manager.py:205\u001b[0m, in \u001b[0;36mCachingFileManager._acquire_with_cache_info\u001b[0;34m(self, needs_lock)\u001b[0m\n\u001b[1;32m    203\u001b[0m     kwargs \u001b[38;5;241m=\u001b[39m kwargs\u001b[38;5;241m.\u001b[39mcopy()\n\u001b[1;32m    204\u001b[0m     kwargs[\u001b[38;5;124m\"\u001b[39m\u001b[38;5;124mmode\u001b[39m\u001b[38;5;124m\"\u001b[39m] \u001b[38;5;241m=\u001b[39m \u001b[38;5;28mself\u001b[39m\u001b[38;5;241m.\u001b[39m_mode\n\u001b[0;32m--> 205\u001b[0m file \u001b[38;5;241m=\u001b[39m \u001b[38;5;28;43mself\u001b[39;49m\u001b[38;5;241;43m.\u001b[39;49m\u001b[43m_opener\u001b[49m\u001b[43m(\u001b[49m\u001b[38;5;241;43m*\u001b[39;49m\u001b[38;5;28;43mself\u001b[39;49m\u001b[38;5;241;43m.\u001b[39;49m\u001b[43m_args\u001b[49m\u001b[43m,\u001b[49m\u001b[43m \u001b[49m\u001b[38;5;241;43m*\u001b[39;49m\u001b[38;5;241;43m*\u001b[39;49m\u001b[43mkwargs\u001b[49m\u001b[43m)\u001b[49m\n\u001b[1;32m    206\u001b[0m \u001b[38;5;28;01mif\u001b[39;00m \u001b[38;5;28mself\u001b[39m\u001b[38;5;241m.\u001b[39m_mode \u001b[38;5;241m==\u001b[39m \u001b[38;5;124m\"\u001b[39m\u001b[38;5;124mw\u001b[39m\u001b[38;5;124m\"\u001b[39m:\n\u001b[1;32m    207\u001b[0m     \u001b[38;5;66;03m# ensure file doesn't get overriden when opened again\u001b[39;00m\n\u001b[1;32m    208\u001b[0m     \u001b[38;5;28mself\u001b[39m\u001b[38;5;241m.\u001b[39m_mode \u001b[38;5;241m=\u001b[39m \u001b[38;5;124m\"\u001b[39m\u001b[38;5;124ma\u001b[39m\u001b[38;5;124m\"\u001b[39m\n",
      "File \u001b[0;32msrc/netCDF4/_netCDF4.pyx:2307\u001b[0m, in \u001b[0;36mnetCDF4._netCDF4.Dataset.__init__\u001b[0;34m()\u001b[0m\n",
      "File \u001b[0;32msrc/netCDF4/_netCDF4.pyx:1925\u001b[0m, in \u001b[0;36mnetCDF4._netCDF4._ensure_nc_success\u001b[0;34m()\u001b[0m\n",
      "\u001b[0;31mFileNotFoundError\u001b[0m: [Errno 2] No such file or directory: b'/home/brazil-0034/2022_SummerInternship_FarallonInstitute/saildrone_west_coast_survey_2019_sd1044_JPLv5.0_8dy_20210613norep_20210613_20211116.nc'"
     ]
    }
   ],
   "source": [
    "%run ../\"Project 3 - Clean Anomalies\"/\"CleanAnomalies-SingleFunction.ipynb\"\n",
    "sail = cleanAnomalies(\"../../saildrone_data/saildrone_west_coast_survey_2019_sd1044_JPLv5.0_8dy_20210613norep_20210613_20211116.nc\")\n",
    "sail"
   ]
  },
  {
   "cell_type": "markdown",
   "id": "bf8b96e1-92a4-4222-b724-b626f12d98a9",
   "metadata": {},
   "source": [
    "sat_smap_sss - satellite\n",
    "\n",
    "SAL_CTD_MEAN - saildrone"
   ]
  },
  {
   "cell_type": "markdown",
   "id": "4ad33833-0930-4a5b-b153-928d8aff3582",
   "metadata": {},
   "source": [
    "#### Detect outliers and set constraints\n",
    "\n",
    "**For Standard Deviation Method (Uncomment Bottom Box):**\n",
    "- Range (stDevRange) is the number of standard deviations from the mean to consider an outlier.\n",
    "- The default is 1 and presents a good handful of clear outliers in the data.\n",
    "- However, many statistical samples generally consider the range for a valid outlier to be 2.5 to 3 standard deviations from the mean.\n",
    "- Here, one standard deviation is plenty to represent the differences in the data - because the innacuracies are quite visible already."
   ]
  },
  {
   "cell_type": "code",
   "execution_count": null,
   "id": "315a281b-a00c-4d2c-89b8-1e50a73e5d62",
   "metadata": {},
   "outputs": [],
   "source": [
    "satData = sail['sat_smap_sss'] # change to sat_anc_sst for temperature\n",
    "seaData = sail['SAL_CTD_MEAN'] # change to analyzed_sst for temperature\n",
    "\n",
    "quantileRange = 0.1\n",
    "\n",
    "qt = len(seaData)\n",
    "\n",
    "# we store the data in a 2d array to later rebuild into a dataframe\n",
    "data = [[], [], [], []]\n",
    "\n",
    "for x in range(qt):\n",
    "    diff = abs(satData[x] - seaData[x])\n",
    "    data[0].append(float(sail.lon[x]))\n",
    "    data[1].append(float(sail.lat[x]))\n",
    "    data[2].append(float(diff))\n",
    "    data[3].append(x) # index in sail[]\n",
    "\n",
    "differences = pd.DataFrame({'lon': data[0], 'lat': data[1], 'diff': data[2]})\n",
    "    \n",
    "# filter out based on quartiles\n",
    "less = differences.quantile(0 + quantileRange)[2]\n",
    "more = differences.quantile(1 - quantileRange)[2]\n",
    "print(str(less) + \", \" + str(more))\n",
    "\n",
    "safeValues = 0\n",
    "for x in range(qt):\n",
    "    diff = differences['diff'][x]\n",
    "    if (diff < more and diff > less): # if our number is within the safe range\n",
    "        # do nun, it's safe!\n",
    "        differences = differences.drop(x) # we DROP IT!\n",
    "        print(\"Dropped value \" + str(diff) + \" out of DataFrame\")\n",
    "    else: # if it isn't\n",
    "        safeValues += 1\n",
    "        \n",
    "# sort the index so they go from 0-xxx without any holes\n",
    "differences = differences.reset_index(drop = True)"
   ]
  },
  {
   "cell_type": "code",
   "execution_count": null,
   "id": "55d3071e-1979-42c9-9413-ae615909b8c0",
   "metadata": {},
   "outputs": [],
   "source": [
    "# stDevRange = 1\n",
    "\n",
    "# stDev = float(sail['sat_smap_sss'].std()) * stDevRange\n",
    "\n",
    "# satData = sail['sat_smap_sss'] # change to sat_anc_sst for temperature\n",
    "# seaData = sail['SAL_CTD_MEAN'] # change to analyzed_sst for temperature\n",
    "\n",
    "# qt = len(seaData)\n",
    "\n",
    "# # we store the data in a 2d array to later rebuild into a dataframe\n",
    "# data = [[], [], [], []]\n",
    "\n",
    "# for x in range(qt):\n",
    "#     diff = abs(satData[x] - seaData[x])\n",
    "#     if (diff > stDev):\n",
    "#         print(\"Outlier with Diff \" + str(float(diff)))\n",
    "#         data[0].append(float(sail.lon[x]))\n",
    "#         data[1].append(float(sail.lat[x]))\n",
    "#         data[2].append(float(diff))\n",
    "#         data[3].append(x) # index in sail[]\n",
    "\n",
    "# differences = pd.DataFrame({'lon': data[0], 'lat': data[1], 'diff': data[2]})\n",
    "# differences"
   ]
  },
  {
   "cell_type": "markdown",
   "id": "cf0f0037-5e5e-4325-b22b-f2011fa2352c",
   "metadata": {},
   "source": [
    "### Part 2. Plotting the Differences Data"
   ]
  },
  {
   "cell_type": "code",
   "execution_count": null,
   "id": "5dfc8ece-d225-462d-9b45-23ab0fbc8694",
   "metadata": {},
   "outputs": [],
   "source": [
    "fig = plt.figure(figsize=(16,10), dpi = 72)\n",
    "ax = plt.axes(projection=ccrs.PlateCarree())\n",
    "\n",
    "#define latitude and longitude boundaries\n",
    "latr = [np.min(differences['lat']), np.max(differences['lat'])] \n",
    "lonr = [np.max(differences['lon']), np.min(differences['lon'])] \n",
    "\n",
    "# Select a region of our data, giving it a margin\n",
    "margin = 0.5 \n",
    "region = np.array([[latr[0]-margin,latr[1]+margin],[lonr[0]+margin,lonr[1]-margin]]) \n",
    "\n",
    "states_provinces = cfeature.NaturalEarthFeature(\n",
    "        category='cultural',\n",
    "        name='admin_1_states_provinces_lines',\n",
    "        scale='50m',\n",
    "        facecolor='none')\n",
    "\n",
    "ax.coastlines(resolution='10m',linewidth=1,color='black')\n",
    "ax.add_feature(cfeature.LAND, color='grey', alpha=0.3)\n",
    "ax.add_feature(states_provinces, linewidth = 0.5)\n",
    "ax.add_feature(cfeature.BORDERS, color = 'black')\n",
    "ax.set_extent([region[1,0],region[1,1],region[0,0],region[0,1]],crs=ccrs.PlateCarree()) \n",
    "ax.xaxis.set_major_formatter(LongitudeFormatter(zero_direction_label=True))\n",
    "ax.yaxis.set_major_formatter(LatitudeFormatter())\n",
    "ax.gridlines(linestyle = '--', linewidth = 0.5)\n",
    "\n",
    "#plot diff data\n",
    "plt.title(\"Greatest Outliers Plot\")\n",
    "plt.scatter(differences.lon, differences.lat, c = differences['diff'])\n",
    "\n",
    "plt.show()"
   ]
  },
  {
   "cell_type": "markdown",
   "id": "8fc415e6-6a82-4ed7-9e89-b62e6f9996d7",
   "metadata": {},
   "source": [
    "### Quickly summarize some of our new data"
   ]
  },
  {
   "cell_type": "code",
   "execution_count": null,
   "id": "f896f65b-29cb-4601-9ba3-5bcf4193fbf9",
   "metadata": {},
   "outputs": [],
   "source": [
    "diffs = differences['diff']\n",
    "\n",
    "greatest = sys.float_info.min;\n",
    "least = sys.float_info.max;\n",
    "total = 0\n",
    "for x in range(len(diffs)):\n",
    "    if (diffs[x] > greatest):\n",
    "        greatest = diffs[x]\n",
    "    if (diffs[x] < least):\n",
    "        least = diffs[x]\n",
    "    total += diffs[x]\n",
    "    \n",
    "avg = total / len(diffs)\n",
    "print(Back.RESET + \"Least significant outlier differed by \" + Back.RED + str(least))\n",
    "print(Back.RESET + \"Most significant outlier differed by \" + Back.GREEN + str(greatest))\n",
    "print(Back.RESET + \"Range of differences was \" + Back.YELLOW + str(greatest - least))\n",
    "print(Back.RESET + \"Average difference \" + Back.BLUE + str(avg))"
   ]
  },
  {
   "cell_type": "markdown",
   "id": "30f9c290-1051-482e-8e58-231c86c29274",
   "metadata": {},
   "source": [
    "### Plot and compare against similar data in the same regions."
   ]
  },
  {
   "cell_type": "markdown",
   "id": "da2c5045-ed36-494d-abf1-6e42609a7a84",
   "metadata": {},
   "source": [
    "#### Leading Questions:\n",
    "- Do they face the same innacuracies?\n",
    "- What causes these differences?\n",
    "- What relationships can we build between SSS/SST and other variables?"
   ]
  },
  {
   "cell_type": "markdown",
   "id": "7699767f-d79f-472f-a1e6-3bba0c688a49",
   "metadata": {},
   "source": [
    "#### **In this simple example:**\n",
    "##### We will plot the significance of a data innacuracy with the distance to land, to see if there is a correlation."
   ]
  },
  {
   "cell_type": "code",
   "execution_count": null,
   "id": "2d3556bb-bace-474b-a57d-34ae5be8d75e",
   "metadata": {},
   "outputs": [],
   "source": [
    "# xAxis will be distance to land\n",
    "# yAxis will be difference level\n",
    "xSample = []\n",
    "xSampleName = \"Distance To Land (km)\"\n",
    "\n",
    "for x in range(len(diffs)):\n",
    "    indexInSail = data[3][x]\n",
    "    xSample.append(sail['dist_land'][indexInSail])\n",
    "\n",
    "#create plot \n",
    "plt.figure()\n",
    "plt.scatter(x = xSample, y = diffs) #seaborn has built in confidence intervals\n",
    "# make temp/sal plot\n",
    "#add labels\n",
    "\n",
    "plt.grid(zorder=0, alpha=0.5)\n",
    "plt.xlabel(xSampleName)\n",
    "plt.ylabel('SAT/DRONE DIFFERENCE (SSS in PPU)')\n",
    "plt.show()"
   ]
  },
  {
   "cell_type": "markdown",
   "id": "5c6d61ea-77c2-4708-894c-3b46107c15b2",
   "metadata": {},
   "source": [
    "### Summary (none of this is true using the quantiles method and idk why)\n",
    "#### There is a clear moderately strong, negative relationship between the sat/drone data difference and the distance to land.\n",
    "##### This demonstrates that there are far more innacuracies when data is measured close to land than when data is measured far from land.\n",
    "##### This conclusion is supported by the generalization that satellite salinity measurements are generally innacurate when taken close to land."
   ]
  }
 ],
 "metadata": {
  "kernelspec": {
   "display_name": "users-fi_intern",
   "language": "python",
   "name": "conda-env-users-fi_intern-py"
  },
  "language_info": {
   "codemirror_mode": {
    "name": "ipython",
    "version": 3
   },
   "file_extension": ".py",
   "mimetype": "text/x-python",
   "name": "python",
   "nbconvert_exporter": "python",
   "pygments_lexer": "ipython3",
   "version": "3.9.7"
  }
 },
 "nbformat": 4,
 "nbformat_minor": 5
}
