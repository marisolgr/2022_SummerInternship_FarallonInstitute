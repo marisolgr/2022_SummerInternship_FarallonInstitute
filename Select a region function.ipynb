{
 "cells": [
  {
   "cell_type": "code",
   "execution_count": null,
   "id": "37a12636",
   "metadata": {},
   "outputs": [],
   "source": [
    "#Aleydis Reyes 7/12/2022"
   ]
  },
  {
   "cell_type": "code",
<<<<<<< HEAD
   "execution_count": 16,
=======
   "execution_count": null,
>>>>>>> d090b947693908847a5486dddd1c5fa94430d1c0
   "id": "c5676b67-69e5-4b4a-a856-048d08f8eea6",
   "metadata": {},
   "outputs": [],
   "source": [
    "#import necessary packages\n",
    "import numpy as np\n",
    "import pandas as pd\n",
    "import xarray as xr\n",
    "import matplotlib.pyplot as plt \n",
    "import matplotlib.dates as mdates\n",
    "import seaborn as sns\n",
    "import datetime\n",
    "import warnings \n",
    "warnings.simplefilter('ignore') \n",
    "import os\n",
    "import fnmatch\n",
    "\n",
    "# necesary libraries for plotting\n",
    "import matplotlib.pyplot as plt # note that in both cases we import one object within the library\n",
    "import cartopy.crs as ccrs\n",
    "\n",
    "#load map packages\n",
    "from cartopy.mpl.ticker import LongitudeFormatter, LatitudeFormatter\n",
    "import cartopy.feature as cfeature\n",
    "import cartopy.crs as ccrs\n",
    "from calendar import month_abbr"
   ]
  },
  {
   "cell_type": "code",
<<<<<<< HEAD
   "execution_count": 17,
=======
   "execution_count": null,
   "id": "cb5b327f-9cbe-4ebf-bf36-358c4a10e470",
   "metadata": {},
   "outputs": [],
   "source": [
    "os.getcwd()"
   ]
  },
  {
   "cell_type": "code",
   "execution_count": null,
   "id": "157e0eaf-7595-40ec-b4da-96adefdc44df",
   "metadata": {},
   "outputs": [],
   "source": [
    "#os.chdir('../2022_SummerInternship_FarallonInstitute/saildrone_data')\n",
    "os.chdir('../saildrone_data/')"
   ]
  },
  {
   "cell_type": "code",
   "execution_count": null,
   "id": "bd6f5b8e-903e-4b2c-936a-f503e151deac",
   "metadata": {},
   "outputs": [],
   "source": [
    "os.listdir()"
   ]
  },
  {
   "cell_type": "code",
   "execution_count": null,
   "id": "cf0865c0-6e41-4d26-862d-7d4284f5be82",
   "metadata": {},
   "outputs": [],
   "source": [
    "#variables: regions designated by number\n",
    "west_coast = 1\n",
    "arctic = 2\n",
    "atlantic = 3\n",
    "gulf_of_mexico = 4\n",
    "pacific = 5\n",
    "\n",
    "#user input needed for output of files\n",
    "region = int(input(\"Enter the number of the desired region you'd like to see files from: \"))"
   ]
  },
  {
   "cell_type": "code",
   "execution_count": null,
>>>>>>> d090b947693908847a5486dddd1c5fa94430d1c0
   "id": "6f84063f-b55c-4151-904d-3ea1582a6d63",
   "metadata": {},
   "outputs": [],
   "source": [
    "def select_region (region):\n",
    "    #the variables below designate a number to the regions, so it is easier to output datafiles organized by region\n",
    "    #west_coast = 1\n",
    "    #arctic = 2\n",
    "    #atlantic = 3\n",
    "    #gulf_of_mexico = 4\n",
    "    #pacific = 5\n",
    "        files = os.listdir('../saildrone_data/') #gets all of the files in the directory\n",
    "        if (region == 1):  #conditional statement                 \n",
    "            file_list1 = []  #creates an empty list that will eventually be appended and returned                 \n",
    "            for file in files:    #for loop that goes through the whole directory of files\n",
    "                if fnmatch.fnmatch(file, '*west_coast*'):   #this conditional statement looks for files that are for the westcoast \n",
    "                    file_list1.append(file)    #only the files for the westcoast are appended beacuse 1 corresponds to the westcoast               \n",
    "            return (file_list1)   #returns file_list newly appended with all the files that correspond to the west coast                            \n",
    "        elif (region == 2):\n",
    "            file_list2 = []\n",
    "            for file in files:\n",
    "                if fnmatch.fnmatch(file, '*saildrone_arctic*'):\n",
    "                    file_list2.append(file)\n",
    "            return (file_list2)\n",
    "        elif (region == 3):\n",
    "            file_list3 = []\n",
    "            for file in files:\n",
    "                if fnmatch.fnmatch(file, '*saildrone-gen_5*'):\n",
    "                    file_list3.append(file)\n",
    "            return (file_list3) \n",
    "        elif (region == 4):\n",
    "            file_list4 = []\n",
    "            for file in files:\n",
    "                if fnmatch.fnmatch(file, '*saildrone-gen_4*'):\n",
    "                    file_list4.append(file)\n",
    "            return (file_list4)\n",
    "        else:\n",
    "            file_list5 = []\n",
    "            for file in files:\n",
    "                if fnmatch.fnmatch(file, '*saildrone_tpos*'):\n",
    "                    file_list5.append(file)\n",
    "            return (file_list5)\n"
   ]
  },
  {
   "cell_type": "code",
<<<<<<< HEAD
   "execution_count": 18,
   "id": "5c7d255d-4017-4b54-b891-9bc7d91cf7ad",
   "metadata": {},
   "outputs": [
    {
     "data": {
      "text/plain": [
       "['saildrone-gen_5-arctic_misst_2019-sd1037-20190514T230000-20191011T183000-1_minutes-v1.1575487464625_JPLv5.0_8dy_20210613norep_20210613_20211116.nc',\n",
       " 'saildrone-gen_5-atlantic_to_med_2019_to_2020-sd1030-20191018T101200-20200717T134559-1_minutes-v1.1595626086288_JPLv5.0_8dy_20210613norep_20210613_20211116.nc',\n",
       " 'saildrone-gen_5-antarctica_circumnavigation_2019-sd1020-20190119T040000-20190803T043000-1_minutes-v1.1564884498845_JPLv5.0_8dy_20210613norep_20210613_20211116.nc',\n",
       " 'saildrone-gen_5-atomic_eurec4a_2020-sd1061-20200117T000000-20200302T235959-1_minutes-v1.1589307121602_JPLv5.0_8dy_20210613norep_20210613_20211116.nc',\n",
       " 'saildrone-gen_5-1021_atlantic-sd1021-20190525T000000-20191021T235959-1_minutes-v1.1571806429446_(1)_JPLv5.0_8dy_20210613norep_20210613_20211116.nc',\n",
       " 'saildrone-gen_5-atlantic_to_med_2019_to_2020-sd1053-20191018T110000-20200717T134559-1_minutes-v1.1595634214633_JPLv5.0_8dy_20210613norep_20210613_20211116.nc',\n",
       " 'saildrone-gen_5-atomic_eurec4a_2020-sd1026-20200117T000000-20200302T235959-1_minutes-v1.1589306725934_JPLv5.0_8dy_20210613norep_20210613_20211116.nc',\n",
       " 'saildrone-gen_5-arctic_misst_2019-sd1036-20190514T230000-20191011T183000-1_minutes-v1.1575336154680_JPLv5.0_8dy_20210613norep_20210613_20211116.nc',\n",
       " 'saildrone-gen_5-atomic_eurec4a_2020-sd1060-20200117T000000-20200302T235959-1_minutes-v1.1589306886594_JPLv5.0_8dy_20210613norep_20210613_20211116.nc']"
      ]
     },
     "execution_count": 18,
     "metadata": {},
     "output_type": "execute_result"
    }
   ],
=======
   "execution_count": null,
   "id": "5c7d255d-4017-4b54-b891-9bc7d91cf7ad",
   "metadata": {},
   "outputs": [],
   "source": [
    "select_region(region)"
   ]
  },
  {
   "cell_type": "code",
   "execution_count": null,
   "id": "d6c2462e-b083-4deb-8e00-a9b0e0793e1f",
   "metadata": {},
   "outputs": [],
   "source": [
    "#west coast sample datafile\n",
    "ds2 = xr.open_dataset('/home/aleydisreyes/2022_SummerInternship_FarallonInstitute/saildrone_data/saildrone_west_coast_survey_2018_sd1024_JPLv5.0_8dy_20210613norep_20210613_20211116.nc')\n",
    "ds2"
   ]
  },
  {
   "cell_type": "code",
   "execution_count": null,
   "id": "b880ea4c-2f10-4c9b-9ac6-d312114a59d4",
   "metadata": {},
   "outputs": [],
   "source": [
    "#outputting trajacetory of sample datafile\n",
    "ds2.trajectory"
   ]
  },
  {
   "cell_type": "code",
   "execution_count": null,
   "id": "20afd62c-3244-4e25-9499-9f11c266e60c",
   "metadata": {},
   "outputs": [],
>>>>>>> d090b947693908847a5486dddd1c5fa94430d1c0
   "source": [
    "region = \"\"  #the variable is empty until it is assigned to a number that corresponds to a region\n",
    "select_region(region) #the function is called"
   ]
  },
  {
   "cell_type": "code",
   "execution_count": null,
   "id": "05cae0f4-975b-411f-ab78-710753779e17",
   "metadata": {},
   "outputs": [],
   "source": []
  }
 ],
 "metadata": {
  "kernelspec": {
   "display_name": "users-fi_intern",
   "language": "python",
   "name": "conda-env-users-fi_intern-py"
  },
  "language_info": {
   "codemirror_mode": {
    "name": "ipython",
    "version": 3
   },
   "file_extension": ".py",
   "mimetype": "text/x-python",
   "name": "python",
   "nbconvert_exporter": "python",
   "pygments_lexer": "ipython3",
   "version": "3.9.7"
  }
 },
 "nbformat": 4,
 "nbformat_minor": 5
}
